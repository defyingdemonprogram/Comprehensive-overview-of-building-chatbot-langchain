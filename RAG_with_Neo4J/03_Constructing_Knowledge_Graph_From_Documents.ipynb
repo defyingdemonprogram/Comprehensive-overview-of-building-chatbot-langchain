{
 "cells": [
  {
   "cell_type": "markdown",
   "id": "aff5954b-14dc-430e-b482-e5ab9a623d93",
   "metadata": {},
   "source": [
    "# Constructing a Knowledge Graph from Text Documents"
   ]
  },
  {
   "cell_type": "code",
   "execution_count": 1,
   "id": "bd742850-a45b-485e-abae-663a9e4b4418",
   "metadata": {},
   "outputs": [],
   "source": [
    "import os\n",
    "\n",
    "# common data processing\n",
    "import json\n",
    "import textwrap\n",
    "\n",
    "from langchain_community.graphs import Neo4jGraph\n",
    "from langchain_community.vectorstores import Neo4jVector\n",
    "from langchain_text_splitters import RecursiveCharacterTextSplitter\n",
    "from langchain.chains import RetrievalQAWithSourcesChain\n",
    "# from langchain_google_genai import GoogleGenerativeAI\n",
    "from langchain_openai import ChatOpenAI\n",
    "from langchain_google_genai import GoogleGenerativeAIEmbeddings\n",
    "\n",
    "from dotenv import load_dotenv"
   ]
  },
  {
   "cell_type": "markdown",
   "id": "d2d27a6d-eb18-4c3a-8aa5-a4259bb51161",
   "metadata": {},
   "source": [
    "### Use HuggingFace endpoint if you dont have openai key or paid service API key\n",
    "```python\n",
    "from langchain_community.llms import HuggingFaceEndpoint\n",
    "\n",
    "ENDPOINT_URL = \"<YOUR_ENDPOINT_URL_HERE>\"\n",
    "llm = HuggingFaceEndpoint(\n",
    "    endpoint_url=ENDPOINT_URL,\n",
    "    task=\"text-generation\",\n",
    "    model_kwargs={\n",
    "        \"max_new_tokens\": 512,\n",
    "        \"top_k\": 50,\n",
    "        \"temperature\": 0.1,\n",
    "        \"repetition_penalty\": 1.03,\n",
    "    },\n",
    ")\n",
    "```\n",
    "Learn more on [official documentation of langachain](https://python.langchain.com/v0.1/docs/integrations/chat/huggingface/#huggingfaceendpoint)\n",
    "\n",
    "**OR**\n",
    "Use local llm from `Ollama`, We are using `ChatOpenAI` Class since [ollama is compatible with OpenAI sdk](https://ollama.com/blog/openai-compatibility)"
   ]
  },
  {
   "cell_type": "code",
   "execution_count": 2,
   "id": "7274cf9b-d23e-4b6b-8675-94aa0cde4980",
   "metadata": {},
   "outputs": [],
   "source": [
    "# load from environment\n",
    "load_dotenv()\n",
    "\n",
    "NEO4J_URI = os.getenv(\"NEO4J_URI\")\n",
    "NEO4J_USERNAME = os.getenv(\"NEO4J_USERNAME\")\n",
    "NEO4J_PASSWORD = os.getenv(\"NEO4J_PASSWORD\")\n",
    "NEO4J_DATABASE = os.getenv(\"NEO4J_DATABASE\")\n",
    "GOOGLE_API_KEY = os.getenv(\"GOOGLE_API_KEY\")"
   ]
  },
  {
   "cell_type": "code",
   "execution_count": 3,
   "id": "9155e3cf-54fc-4eea-a5e3-1cb3f2da65f5",
   "metadata": {},
   "outputs": [],
   "source": [
    "# initialize the model\n",
    "# llm = GoogleGenerativeAI(model=\"models/text-bison-001\", temperature=0)\n",
    "# llm = GoogleGenerativeAI(model=\"models/gemini-1.5-pro-latest\", temperature=0.0)\n",
    "llm = ChatOpenAI(\n",
    "    base_url='http://localhost:11434/v1',\n",
    "    api_key='ollama', # required, but unused\n",
    "    model=\"llama3.1\",\n",
    "    temperature=0\n",
    ")"
   ]
  },
  {
   "cell_type": "code",
   "execution_count": 4,
   "id": "46e2a5e9-eebd-449f-b1f4-3ffe72aff4b9",
   "metadata": {},
   "outputs": [],
   "source": [
    "GOOGLE_EMBEDDING_MODEL = GoogleGenerativeAIEmbeddings(model=\"models/embedding-001\")\n",
    "\n",
    "# Global constants\n",
    "VECTOR_INDEX_NAME = 'form_10k_chunks'\n",
    "VECTOR_NODE_LABEL = 'Chunk'\n",
    "VECTOR_SOURCE_PROPERTIES = ['text']\n",
    "VECTOR_EMBEDDING_PROPERTY = 'textEmbedding'"
   ]
  },
  {
   "cell_type": "markdown",
   "id": "899947f3-84bd-4c59-9d56-02c2c17f108d",
   "metadata": {},
   "source": [
    "### Take a look at a Form 10-K json file\n",
    "\n",
    "- Publicly traded companies are required to fill a form 10-K each year with the Securities and Exchange Commision (SEC)\n",
    "- You can search these filings using the SEC's [EDGAR database](https://www.sec.gov/edgar/search/)\n",
    "- For the next few lessons, you'll work with a single 10-K form for a company called [NetApp](https://www.netapp.com/)"
   ]
  },
  {
   "cell_type": "code",
   "execution_count": 5,
   "id": "6d6fdf1b-049e-4b58-a2a8-10c397590340",
   "metadata": {},
   "outputs": [
    {
     "name": "stdout",
     "output_type": "stream",
     "text": [
      "Type of object:  <class 'dict'>\n"
     ]
    }
   ],
   "source": [
    "first_file_name = \"./data/form10k/0000950170-23-027948.json\"\n",
    "\n",
    "first_file_as_object = json.load(open(first_file_name))\n",
    "print(\"Type of object: \", type(first_file_as_object))"
   ]
  },
  {
   "cell_type": "code",
   "execution_count": 6,
   "id": "2be42159-e7e9-4d06-9d0a-f9d4421f8298",
   "metadata": {},
   "outputs": [
    {
     "name": "stdout",
     "output_type": "stream",
     "text": [
      "key\t|\tValue Type\n",
      "________________________________________\n",
      "item1\t|\t<class 'str'>\n",
      "item1a\t|\t<class 'str'>\n",
      "item7\t|\t<class 'str'>\n",
      "item7a\t|\t<class 'str'>\n",
      "cik\t|\t<class 'str'>\n",
      "cusip6\t|\t<class 'str'>\n",
      "cusip\t|\t<class 'list'>\n",
      "names\t|\t<class 'list'>\n",
      "source\t|\t<class 'str'>\n"
     ]
    }
   ],
   "source": [
    "print(\"key\\t|\\tValue Type\")\n",
    "print(\"_\"*40)\n",
    "for k, v in first_file_as_object.items():\n",
    "    print(f\"{k}\\t|\\t{type(v)}\")"
   ]
  },
  {
   "cell_type": "code",
   "execution_count": 7,
   "id": "07626860-c15b-41ea-8c54-58784faf9cb4",
   "metadata": {},
   "outputs": [
    {
     "data": {
      "text/plain": [
       "'>Item 1.  \\nBusiness\\n\\n\\nOverview\\n\\n\\nNetApp, Inc. (NetApp, we, us or the Company) is a global cloud-led, data-centric software company. We were incorporated in 1992 and are headquartered in San Jose, California. Building on more than three decades of innovation, we give customers the freedom to manage applications and data across hybrid multicloud environments. Our portfolio of cloud services, and storage infrastructure, powered by intelligent data management software, enables applications to run faster, more reliably, and more securely, all at a lower cost.\\n\\n\\nOur opportunity is defined by the durable megatrends of data-driven digital and cloud transformations. NetApp helps organizations meet the complexities created by rapid data and cloud growth, multi-cloud management, and the adoption of next-generation technologies, such as AI, Kubernetes, and modern databases. Our modern approach to hybrid, multicloud infrastructure and data management, which we term ‘evolved cloud’, provides custome'"
      ]
     },
     "execution_count": 7,
     "metadata": {},
     "output_type": "execute_result"
    }
   ],
   "source": [
    "item1_text = first_file_as_object['item1']\n",
    "item1_text[0:1000]"
   ]
  },
  {
   "cell_type": "markdown",
   "id": "a480e2f2-2d45-4178-a765-1e3a5b0b19fe",
   "metadata": {},
   "source": [
    "### Split Form 10-K sections into chunks\n",
    "- Set up text splitter using LangChain\n",
    "- For now, split only the text from the \"item 1\" section "
   ]
  },
  {
   "cell_type": "code",
   "execution_count": 8,
   "id": "18549314-1e03-40bb-8d96-602731bccca4",
   "metadata": {},
   "outputs": [],
   "source": [
    "# define text splitter for docs\n",
    "text_splitter = RecursiveCharacterTextSplitter(\n",
    "    chunk_size = 2000,\n",
    "    chunk_overlap  = 200,\n",
    "    length_function = len,\n",
    "    is_separator_regex = False,\n",
    ")"
   ]
  },
  {
   "cell_type": "code",
   "execution_count": 9,
   "id": "48c2fd7f-4240-4c2b-b56f-8aad6b12594a",
   "metadata": {},
   "outputs": [
    {
     "name": "stdout",
     "output_type": "stream",
     "text": [
      "Number of chunks for item1:  254\n",
      "Sample of chunk::::::::::::: \n",
      " >Item 1.  \n",
      "Business\n",
      "\n",
      "\n",
      "Overview\n",
      "\n",
      "\n",
      "NetApp, Inc. (NetApp, we, us or the\n"
     ]
    }
   ],
   "source": [
    "# use text splitter for item1\n",
    "item1_text_chunks = text_splitter.split_text(item1_text)\n",
    "print(\"Number of chunks for item1: \", len(item1_text_chunks))\n",
    "print(\"Sample of chunk::::::::::::: \\n\", item1_text_chunks[0][:68])"
   ]
  },
  {
   "cell_type": "markdown",
   "id": "6fe8268a-46ac-4d98-a607-bbe095820c75",
   "metadata": {},
   "source": [
    "### Helper function to chunk the sections\n",
    "- Set up helper function to chunk all sections of the Form 10-K\n",
    "- Lets limit the number of chunks in each section to 20 to speed things up for demo"
   ]
  },
  {
   "cell_type": "code",
   "execution_count": 10,
   "id": "e73818b0-e6b4-4824-a40d-cf147c8a7ed4",
   "metadata": {},
   "outputs": [],
   "source": [
    "def split_form10k_data_from_file(file: str):\n",
    "    # create list to accumulate chunk records\n",
    "    chunks_with_metadata = []\n",
    "    # open json file\n",
    "    file_as_object = json.load(open(file))\n",
    "    # iterate through these key\n",
    "    for item in ['item1', 'item1a', 'item7', 'item7a']:\n",
    "        print(f\"Processing {item} from {file}\")\n",
    "        # grab text from item\n",
    "        item_text = file_as_object[item]\n",
    "        # split into chunks\n",
    "        item_text_chunks = text_splitter.split_text(item_text)\n",
    "        chunk_seq_id = 0\n",
    "\n",
    "        # take only 20 chunks for   demo\n",
    "        for chunk in item_text_chunks[:20]:\n",
    "            # .rindex find the index of element in list(non-greedy)\n",
    "            form_id = file[file.rindex('/') + 1: file.rindex('.')]\n",
    "            # construct a record with metadata\n",
    "            chunks_with_metadata.append({\n",
    "                \"text\": chunk,\n",
    "                # metadata from looping..\n",
    "                \"f10kItem\": item,\n",
    "                \"chunkSeqId\": chunk_seq_id,\n",
    "                # constructed metadata....\n",
    "                \"formId\": f\"{form_id}\",\n",
    "                \"chunkId\": f\"{form_id}--{item}-chunk{chunk_seq_id:04d}\",\n",
    "                # metadata from file...\n",
    "                \"names\": file_as_object[\"names\"],\n",
    "                'cik': file_as_object['cik'],\n",
    "                'cusip6': file_as_object['cusip6'],\n",
    "                'source': file_as_object['source'],\n",
    "            })\n",
    "            chunk_seq_id += 1\n",
    "        print(f\"\\tSplit into {chunk_seq_id} chunks\")\n",
    "    return chunks_with_metadata"
   ]
  },
  {
   "cell_type": "code",
   "execution_count": 11,
   "id": "05717c97-76b6-49a0-a22e-ab69e0c7a081",
   "metadata": {},
   "outputs": [
    {
     "name": "stdout",
     "output_type": "stream",
     "text": [
      "Processing item1 from ./data/form10k/0000950170-23-027948.json\n",
      "\tSplit into 20 chunks\n",
      "Processing item1a from ./data/form10k/0000950170-23-027948.json\n",
      "\tSplit into 1 chunks\n",
      "Processing item7 from ./data/form10k/0000950170-23-027948.json\n",
      "\tSplit into 1 chunks\n",
      "Processing item7a from ./data/form10k/0000950170-23-027948.json\n",
      "\tSplit into 1 chunks\n"
     ]
    },
    {
     "data": {
      "text/plain": [
       "{'text': '>Item 1.  \\nBusiness\\n\\n\\nOverview\\n\\n\\nNetApp, Inc. (NetApp, we, us or the Company) is a global cloud-led, data-centric software company. We were incorporated in 1992 and are headquartered in San Jose, California. Building on more than three decades of innovation, we give customers the freedom to manage applications and data across hybrid multicloud environments. Our portfolio of cloud services, and storage infrastructure, powered by intelligent data management software, enables applications to run faster, more reliably, and more securely, all at a lower cost.\\n\\n\\nOur opportunity is defined by the durable megatrends of data-driven digital and cloud transformations. NetApp helps organizations meet the complexities created by rapid data and cloud growth, multi-cloud management, and the adoption of next-generation technologies, such as AI, Kubernetes, and modern databases. Our modern approach to hybrid, multicloud infrastructure and data management, which we term ‘evolved cloud’, provides customers the ability to leverage data across their entire estate with simplicity, security, and sustainability which increases our relevance and value to our customers.\\n\\n\\nIn an evolved cloud state, the cloud is fully integrated into an organization’s architecture and operations. Data centers and clouds are seamlessly united and hybrid multicloud operations are simplified, with consistency and observability across environments. The key benefits NetApp brings to an organization’s hybrid multicloud environment are:\\n\\n\\n•\\nOperational simplicity: NetApp’s use of open source, open architectures and APIs, microservices, and common capabilities and data services facilitate the creation of applications that can run anywhere.\\n\\n\\n•\\nFlexibility and consistency: NetApp makes moving data and applications between environments seamless through a common storage foundation across on-premises and multicloud environments.',\n",
       " 'f10kItem': 'item1',\n",
       " 'chunkSeqId': 0,\n",
       " 'formId': '0000950170-23-027948',\n",
       " 'chunkId': '0000950170-23-027948--item1-chunk0000',\n",
       " 'names': ['Netapp Inc', 'NETAPP INC'],\n",
       " 'cik': '1002047',\n",
       " 'cusip6': '64110D',\n",
       " 'source': 'https://www.sec.gov/Archives/edgar/data/1002047/000095017023027948/0000950170-23-027948-index.htm'}"
      ]
     },
     "execution_count": 11,
     "metadata": {},
     "output_type": "execute_result"
    }
   ],
   "source": [
    "first_file_chunks = split_form10k_data_from_file(first_file_name)\n",
    "first_file_chunks[0]"
   ]
  },
  {
   "cell_type": "markdown",
   "id": "320c6eb5-6b8e-438c-8175-1686bae04536",
   "metadata": {},
   "source": [
    "### Setup connection to graph instance"
   ]
  },
  {
   "cell_type": "code",
   "execution_count": 12,
   "id": "61c3d3db-ac5a-4b76-b2ae-0de429c1d912",
   "metadata": {},
   "outputs": [],
   "source": [
    "graph = Neo4jGraph(\n",
    "    url=NEO4J_URI,\n",
    "    username=NEO4J_USERNAME,\n",
    "    password=NEO4J_PASSWORD,\n",
    "    database=NEO4J_DATABASE\n",
    ")"
   ]
  },
  {
   "cell_type": "markdown",
   "id": "e06e239c-3a37-4588-b2ee-eda5f56c0a51",
   "metadata": {},
   "source": [
    "#### Create graph nodes using text chunks"
   ]
  },
  {
   "cell_type": "code",
   "execution_count": null,
   "id": "edab7457-7ff6-4cb7-b14e-4edbf18c414c",
   "metadata": {},
   "outputs": [],
   "source": [
    "merge_chunk_node_query = \"\"\"\n",
    "MERGE(mergedChunk:Chunk {chunkId: $chunkParam.chunkId})\n",
    "    ON CREATE SET \n",
    "        mergedChunk.names = $chunkParam.names,\n",
    "        mergedChunk.formId = $chunkParam.formId, \n",
    "        mergedChunk.cik = $chunkParam.cik, \n",
    "        mergedChunk.cusip6 = $chunkParam.cusip6, \n",
    "        mergedChunk.source = $chunkParam.source, \n",
    "        mergedChunk.f10kItem = $chunkParam.f10kItem, \n",
    "        mergedChunk.chunkSeqId = $chunkParam.chunkSeqId, \n",
    "        mergedChunk.text = $chunkParam.text\n",
    "RETURN mergedChunk\n",
    "\"\"\"\n",
    "\n",
    "# create a single node \n",
    "graph.query(merge_chunk_node_query,\n",
    "            params={\"chunkParam\": first_file_chunks[0]})"
   ]
  },
  {
   "cell_type": "code",
   "execution_count": 14,
   "id": "d7cc8e2e-b5e2-43c3-aeb2-83e4e356fcda",
   "metadata": {},
   "outputs": [
    {
     "data": {
      "text/plain": [
       "[{'id': 7,\n",
       "  'name': 'form_10k_chunks',\n",
       "  'state': 'ONLINE',\n",
       "  'populationPercent': 100.0,\n",
       "  'type': 'VECTOR',\n",
       "  'entityType': 'NODE',\n",
       "  'labelsOrTypes': ['Chunk'],\n",
       "  'properties': ['textEmbedding'],\n",
       "  'indexProvider': 'vector-2.0',\n",
       "  'owningConstraint': None,\n",
       "  'lastRead': neo4j.time.DateTime(2024, 8, 22, 14, 48, 21, 288000000, tzinfo=<UTC>),\n",
       "  'readCount': 7},\n",
       " {'id': 1,\n",
       "  'name': 'index_343aff4e',\n",
       "  'state': 'ONLINE',\n",
       "  'populationPercent': 100.0,\n",
       "  'type': 'LOOKUP',\n",
       "  'entityType': 'NODE',\n",
       "  'labelsOrTypes': None,\n",
       "  'properties': None,\n",
       "  'indexProvider': 'token-lookup-1.0',\n",
       "  'owningConstraint': None,\n",
       "  'lastRead': neo4j.time.DateTime(2024, 8, 22, 14, 48, 12, 854000000, tzinfo=<UTC>),\n",
       "  'readCount': 537},\n",
       " {'id': 2,\n",
       "  'name': 'index_f7700477',\n",
       "  'state': 'ONLINE',\n",
       "  'populationPercent': 100.0,\n",
       "  'type': 'LOOKUP',\n",
       "  'entityType': 'RELATIONSHIP',\n",
       "  'labelsOrTypes': None,\n",
       "  'properties': None,\n",
       "  'indexProvider': 'token-lookup-1.0',\n",
       "  'owningConstraint': None,\n",
       "  'lastRead': None,\n",
       "  'readCount': 0},\n",
       " {'id': 4,\n",
       "  'name': 'keyword',\n",
       "  'state': 'ONLINE',\n",
       "  'populationPercent': 100.0,\n",
       "  'type': 'FULLTEXT',\n",
       "  'entityType': 'NODE',\n",
       "  'labelsOrTypes': ['Movie'],\n",
       "  'properties': ['tagline'],\n",
       "  'indexProvider': 'fulltext-1.0',\n",
       "  'owningConstraint': None,\n",
       "  'lastRead': neo4j.time.DateTime(2024, 8, 22, 14, 47, 9, 605000000, tzinfo=<UTC>),\n",
       "  'readCount': 4},\n",
       " {'id': 3,\n",
       "  'name': 'movie_tagline_embeddings',\n",
       "  'state': 'ONLINE',\n",
       "  'populationPercent': 100.0,\n",
       "  'type': 'VECTOR',\n",
       "  'entityType': 'NODE',\n",
       "  'labelsOrTypes': ['Movie'],\n",
       "  'properties': ['taglineEmbedding'],\n",
       "  'indexProvider': 'vector-2.0',\n",
       "  'owningConstraint': None,\n",
       "  'lastRead': neo4j.time.DateTime(2024, 8, 22, 14, 47, 9, 601000000, tzinfo=<UTC>),\n",
       "  'readCount': 4},\n",
       " {'id': 5,\n",
       "  'name': 'unique_chunk',\n",
       "  'state': 'ONLINE',\n",
       "  'populationPercent': 100.0,\n",
       "  'type': 'RANGE',\n",
       "  'entityType': 'NODE',\n",
       "  'labelsOrTypes': ['Chunk'],\n",
       "  'properties': ['chunkId'],\n",
       "  'indexProvider': 'range-1.0',\n",
       "  'owningConstraint': 'unique_chunk',\n",
       "  'lastRead': neo4j.time.DateTime(2024, 8, 22, 14, 48, 13, 156000000, tzinfo=<UTC>),\n",
       "  'readCount': 73}]"
      ]
     },
     "execution_count": 14,
     "metadata": {},
     "output_type": "execute_result"
    }
   ],
   "source": [
    "# create a uniqueness constraint to avoid duplicate chunks\n",
    "graph.query(\"\"\"\n",
    "CREATE CONSTRAINT unique_chunk IF NOT EXISTS \n",
    "    FOR (c:Chunk) REQUIRE c.chunkId IS UNIQUE\n",
    "\"\"\")\n",
    "\n",
    "# show indexes\n",
    "graph.query(\"SHOW INDEXES\")"
   ]
  },
  {
   "cell_type": "markdown",
   "id": "67cc3bb4-ecaa-41e9-875c-5b18aa41ea29",
   "metadata": {},
   "source": [
    "#### Create node for all chunks\n",
    "- Should create 23 nodes becase we have set limit of 20 chunks in the text splitting functions"
   ]
  },
  {
   "cell_type": "code",
   "execution_count": 15,
   "id": "a1dfbed1-3de4-4a59-ba27-9066c7f47b48",
   "metadata": {},
   "outputs": [
    {
     "name": "stdout",
     "output_type": "stream",
     "text": [
      "Creating `:Chunk` node for chunk ID chunk ID 0000950170-23-027948--item1-chunk0000\n",
      "Creating `:Chunk` node for chunk ID chunk ID 0000950170-23-027948--item1-chunk0001\n",
      "Creating `:Chunk` node for chunk ID chunk ID 0000950170-23-027948--item1-chunk0002\n",
      "Creating `:Chunk` node for chunk ID chunk ID 0000950170-23-027948--item1-chunk0003\n",
      "Creating `:Chunk` node for chunk ID chunk ID 0000950170-23-027948--item1-chunk0004\n",
      "Creating `:Chunk` node for chunk ID chunk ID 0000950170-23-027948--item1-chunk0005\n",
      "Creating `:Chunk` node for chunk ID chunk ID 0000950170-23-027948--item1-chunk0006\n",
      "Creating `:Chunk` node for chunk ID chunk ID 0000950170-23-027948--item1-chunk0007\n",
      "Creating `:Chunk` node for chunk ID chunk ID 0000950170-23-027948--item1-chunk0008\n",
      "Creating `:Chunk` node for chunk ID chunk ID 0000950170-23-027948--item1-chunk0009\n",
      "Creating `:Chunk` node for chunk ID chunk ID 0000950170-23-027948--item1-chunk0010\n",
      "Creating `:Chunk` node for chunk ID chunk ID 0000950170-23-027948--item1-chunk0011\n",
      "Creating `:Chunk` node for chunk ID chunk ID 0000950170-23-027948--item1-chunk0012\n",
      "Creating `:Chunk` node for chunk ID chunk ID 0000950170-23-027948--item1-chunk0013\n",
      "Creating `:Chunk` node for chunk ID chunk ID 0000950170-23-027948--item1-chunk0014\n",
      "Creating `:Chunk` node for chunk ID chunk ID 0000950170-23-027948--item1-chunk0015\n",
      "Creating `:Chunk` node for chunk ID chunk ID 0000950170-23-027948--item1-chunk0016\n",
      "Creating `:Chunk` node for chunk ID chunk ID 0000950170-23-027948--item1-chunk0017\n",
      "Creating `:Chunk` node for chunk ID chunk ID 0000950170-23-027948--item1-chunk0018\n",
      "Creating `:Chunk` node for chunk ID chunk ID 0000950170-23-027948--item1-chunk0019\n",
      "Creating `:Chunk` node for chunk ID chunk ID 0000950170-23-027948--item1a-chunk0000\n",
      "Creating `:Chunk` node for chunk ID chunk ID 0000950170-23-027948--item7-chunk0000\n",
      "Creating `:Chunk` node for chunk ID chunk ID 0000950170-23-027948--item7a-chunk0000\n",
      "Created 23 nodes\n"
     ]
    }
   ],
   "source": [
    "node_count = 0\n",
    "for chunk in first_file_chunks:\n",
    "    print(f\"Creating `:Chunk` node for chunk ID chunk ID {chunk['chunkId']}\")\n",
    "    graph.query(merge_chunk_node_query,\n",
    "        params={'chunkParam': chunk\n",
    "               })\n",
    "    node_count += 1\n",
    "print(f\"Created {node_count} nodes\")"
   ]
  },
  {
   "cell_type": "code",
   "execution_count": 16,
   "id": "9e18a564-9949-4bb1-bff0-cb8b1ea76bf0",
   "metadata": {},
   "outputs": [
    {
     "data": {
      "text/plain": [
       "[{'nodeCount': 182}]"
      ]
     },
     "execution_count": 16,
     "metadata": {},
     "output_type": "execute_result"
    }
   ],
   "source": [
    "# count total number of nodes in our databsae\n",
    "graph.query(\"\"\"\n",
    "MATCH (n)\n",
    "RETURN count(n) as nodeCount\n",
    "\"\"\")"
   ]
  },
  {
   "cell_type": "markdown",
   "id": "2989d6c1-57cb-45eb-a462-4d389f945c40",
   "metadata": {},
   "source": [
    "#### Create a vector index\n",
    "\n",
    "Using neo4j query for configuring vector dimensions and metric to measure similarity function:\n",
    "```python\n",
    "graph.query(\"\"\"\n",
    "         CREATE VECTOR INDEX `form_10k_chunks` IF NOT EXISTS\n",
    "          FOR (c:Chunk) ON (c.textEmbedding) \n",
    "          OPTIONS { indexConfig: {\n",
    "            `vector.dimensions`: 1536,\n",
    "            `vector.similarity_function`: 'cosine'    \n",
    "         }}\n",
    "\"\"\")\n",
    "```\n",
    "To see the indexes in graph database in neo44\n",
    "```python\n",
    "graph.query(\"SHOW INDEXES\")\n",
    "```"
   ]
  },
  {
   "cell_type": "code",
   "execution_count": 17,
   "id": "122a4808-f0c9-4bfd-a68b-d8cbda89160d",
   "metadata": {
    "scrolled": true
   },
   "outputs": [
    {
     "data": {
      "text/plain": [
       "[{'id': 7,\n",
       "  'name': 'form_10k_chunks',\n",
       "  'state': 'ONLINE',\n",
       "  'populationPercent': 100.0,\n",
       "  'type': 'VECTOR',\n",
       "  'entityType': 'NODE',\n",
       "  'labelsOrTypes': ['Chunk'],\n",
       "  'properties': ['textEmbedding'],\n",
       "  'indexProvider': 'vector-2.0',\n",
       "  'owningConstraint': None,\n",
       "  'lastRead': neo4j.time.DateTime(2024, 8, 22, 14, 48, 21, 288000000, tzinfo=<UTC>),\n",
       "  'readCount': 7},\n",
       " {'id': 1,\n",
       "  'name': 'index_343aff4e',\n",
       "  'state': 'ONLINE',\n",
       "  'populationPercent': 100.0,\n",
       "  'type': 'LOOKUP',\n",
       "  'entityType': 'NODE',\n",
       "  'labelsOrTypes': None,\n",
       "  'properties': None,\n",
       "  'indexProvider': 'token-lookup-1.0',\n",
       "  'owningConstraint': None,\n",
       "  'lastRead': neo4j.time.DateTime(2024, 8, 22, 14, 57, 15, 305000000, tzinfo=<UTC>),\n",
       "  'readCount': 549},\n",
       " {'id': 2,\n",
       "  'name': 'index_f7700477',\n",
       "  'state': 'ONLINE',\n",
       "  'populationPercent': 100.0,\n",
       "  'type': 'LOOKUP',\n",
       "  'entityType': 'RELATIONSHIP',\n",
       "  'labelsOrTypes': None,\n",
       "  'properties': None,\n",
       "  'indexProvider': 'token-lookup-1.0',\n",
       "  'owningConstraint': None,\n",
       "  'lastRead': None,\n",
       "  'readCount': 0},\n",
       " {'id': 4,\n",
       "  'name': 'keyword',\n",
       "  'state': 'ONLINE',\n",
       "  'populationPercent': 100.0,\n",
       "  'type': 'FULLTEXT',\n",
       "  'entityType': 'NODE',\n",
       "  'labelsOrTypes': ['Movie'],\n",
       "  'properties': ['tagline'],\n",
       "  'indexProvider': 'fulltext-1.0',\n",
       "  'owningConstraint': None,\n",
       "  'lastRead': neo4j.time.DateTime(2024, 8, 22, 14, 47, 9, 605000000, tzinfo=<UTC>),\n",
       "  'readCount': 4},\n",
       " {'id': 3,\n",
       "  'name': 'movie_tagline_embeddings',\n",
       "  'state': 'ONLINE',\n",
       "  'populationPercent': 100.0,\n",
       "  'type': 'VECTOR',\n",
       "  'entityType': 'NODE',\n",
       "  'labelsOrTypes': ['Movie'],\n",
       "  'properties': ['taglineEmbedding'],\n",
       "  'indexProvider': 'vector-2.0',\n",
       "  'owningConstraint': None,\n",
       "  'lastRead': neo4j.time.DateTime(2024, 8, 22, 14, 47, 9, 601000000, tzinfo=<UTC>),\n",
       "  'readCount': 4},\n",
       " {'id': 5,\n",
       "  'name': 'unique_chunk',\n",
       "  'state': 'ONLINE',\n",
       "  'populationPercent': 100.0,\n",
       "  'type': 'RANGE',\n",
       "  'entityType': 'NODE',\n",
       "  'labelsOrTypes': ['Chunk'],\n",
       "  'properties': ['chunkId'],\n",
       "  'indexProvider': 'range-1.0',\n",
       "  'owningConstraint': 'unique_chunk',\n",
       "  'lastRead': neo4j.time.DateTime(2024, 8, 22, 14, 57, 15, 461000000, tzinfo=<UTC>),\n",
       "  'readCount': 97}]"
      ]
     },
     "execution_count": 17,
     "metadata": {},
     "output_type": "execute_result"
    }
   ],
   "source": [
    "# operation using langchain integration with neo4j database\n",
    "vector_index = Neo4jVector.from_existing_graph(\n",
    "    GOOGLE_EMBEDDING_MODEL,\n",
    "    database=\"neo4j\",\n",
    "    index_name=VECTOR_INDEX_NAME,\n",
    "    node_label=\"Chunk\",\n",
    "    text_node_properties=VECTOR_SOURCE_PROPERTIES,\n",
    "    embedding_node_property=\"textEmbedding\"\n",
    ")\n",
    "\n",
    "# retriver\n",
    "retriever = vector_index.as_retriever()\n",
    "\n",
    "# show indexes\n",
    "graph.query(\"SHOW INDEXES\")"
   ]
  },
  {
   "cell_type": "code",
   "execution_count": 18,
   "id": "f538fe36-680b-4c63-b774-dd26a9af73c0",
   "metadata": {},
   "outputs": [
    {
     "name": "stdout",
     "output_type": "stream",
     "text": [
      "Node properties:\n",
      "Movie {title: STRING, taglineEmbedding: LIST, tagline: STRING, released: INTEGER}\n",
      "Person {born: INTEGER, name: STRING}\n",
      "Chunk {text: STRING, textEmbedding: LIST, source: STRING, f10kItem: STRING, chunkSeqId: INTEGER, cik: STRING, cusip6: STRING, chunkId: STRING, names: LIST, formId: STRING}\n",
      "Form {cik: STRING, cusip6: STRING, names: LIST, formId: STRING, source: STRING}\n",
      "Relationship properties:\n",
      "SECTION {f10kItem: STRING}\n",
      "The relationships:\n",
      "(:Person)-[:WORKS_WITH]->(:Person)\n",
      "(:Chunk)-[:NEXT]->(:Chunk)\n",
      "(:Chunk)-[:PART_OF]->(:Form)\n",
      "(:Form)-[:SECTION]->(:Chunk)\n"
     ]
    }
   ],
   "source": [
    "# refresh schema to get updated schema oif database\n",
    "graph.refresh_schema()\n",
    "# display the schema of neo4j database\n",
    "print(graph.schema)"
   ]
  },
  {
   "cell_type": "markdown",
   "id": "22037f59-075d-4494-92ab-83c78a66fd0b",
   "metadata": {},
   "source": [
    "#### Perform Similarity Search"
   ]
  },
  {
   "cell_type": "code",
   "execution_count": 19,
   "id": "3d049306-3611-477e-b9c2-3d0084ca1971",
   "metadata": {
    "scrolled": true
   },
   "outputs": [
    {
     "name": "stdout",
     "output_type": "stream",
     "text": [
      "page_content='\n",
      "text: •\n",
      "Flexibility and consistency: NetApp makes moving data and applications between environments seamless through a common storage foundation across on-premises and multicloud environments.\n",
      "\n",
      "\n",
      "•\n",
      "Cyber resilience: NetApp unifies monitoring, data protection, security, governance, and compliance for total cyber resilience - with consistency and automation across environments. \n",
      "\n",
      "\n",
      "•\n",
      "Continuous operations: NetApp uses AI-driven automation for continuous optimization to service applications and store stateless and stateful applications at the lowest possible costs.\n",
      "\n",
      "\n",
      "•\n",
      "Sustainability: NetApp has industry-leading tools to audit consumption, locate waste, and set guardrails to stop overprovisioning.\n",
      "\n",
      "\n",
      "Product, Solutions and Services Portfolio\n",
      " \n",
      "\n",
      "\n",
      "NetApp's portfolio of cloud services and storage infrastructure is powered by intelligent data management software. Our operations are organized into two segments: Hybrid Cloud and Public Cloud.\n",
      "\n",
      "\n",
      " \n",
      "\n",
      "\n",
      "Hybrid Cloud\n",
      "\n",
      "\n",
      "Hybrid Cloud \n",
      "offers a portfolio of storage management and infrastructure solutions that help customers recast their traditional data centers into modern data centers with the power of the cloud. Our hybrid cloud portfolio is designed to operate with public clouds to unlock the potential of hybrid, multi-cloud operations. We offer a broad portfolio of cloud-connected all-flash, hybrid-flash, and object storage systems, powered by intelligent data management software. Hybrid Cloud is composed of software, hardware, and related support, as well as professional and other services.\n",
      "\n",
      "\n",
      "Intelligent data management software' metadata={'cik': '1002047', 'source': 'https://www.sec.gov/Archives/edgar/data/1002047/000095017023027948/0000950170-23-027948-index.htm', 'formId': '0000950170-23-027948', 'names': ['Netapp Inc', 'NETAPP INC'], 'f10kItem': 'item1', 'chunkId': '0000950170-23-027948--item1-chunk0001', 'cusip6': '64110D', 'chunkSeqId': 1}\n"
     ]
    }
   ],
   "source": [
    "search_result = vector_index.similarity_search(\n",
    "    'In a single sentence, tell me about Netapp.'\n",
    ")\n",
    "print(search_result[0])"
   ]
  },
  {
   "cell_type": "markdown",
   "id": "415d29e7-99e9-435f-a020-bd18aa5fe8e0",
   "metadata": {},
   "source": [
    "#### Setup Retriver chain to carry Question Answering\n"
   ]
  },
  {
   "cell_type": "code",
   "execution_count": 20,
   "id": "4a0e4a29-5be4-44d8-a3b7-0f98ed42de73",
   "metadata": {},
   "outputs": [],
   "source": [
    "chain = RetrievalQAWithSourcesChain.from_chain_type(\n",
    "    llm,\n",
    "    chain_type=\"stuff\", \n",
    "    retriever=retriever, \n",
    "    verbose=True\n",
    ")"
   ]
  },
  {
   "cell_type": "code",
   "execution_count": 21,
   "id": "39cdbc56-023d-4d73-ac3e-7956153570a4",
   "metadata": {},
   "outputs": [],
   "source": [
    "def prettychain(question: str) -> str:\n",
    "    \"\"\"Pretty print the chain's response to a question\"\"\"\n",
    "    response = chain.invoke({\"question\": question},\n",
    "        return_only_outputs=True,)\n",
    "    print(textwrap.fill(response['answer'], 60))"
   ]
  },
  {
   "cell_type": "markdown",
   "id": "d82c48e0-7c27-4933-9ae7-4336d0ee65e7",
   "metadata": {},
   "source": [
    "### Ask a question"
   ]
  },
  {
   "cell_type": "code",
   "execution_count": 22,
   "id": "008a2228-ac72-49ae-b470-c4f90e008e8b",
   "metadata": {},
   "outputs": [
    {
     "name": "stdout",
     "output_type": "stream",
     "text": [
      "\n",
      "\n",
      "\u001b[1m> Entering new RetrievalQAWithSourcesChain chain...\u001b[0m\n",
      "\n",
      "\u001b[1m> Finished chain.\u001b[0m\n",
      "It appears that the provided text is a snippet from a\n",
      "company's (NetApp) SEC filing, specifically an index of\n",
      "content related to their product and solutions portfolio.\n",
      "The final answer would be:  **There is no specific numerical\n",
      "answer to this question**, as it seems to be a descriptive\n",
      "passage about NetApp's products and services.\n"
     ]
    }
   ],
   "source": [
    "question = \"What is Netapp's primary business?\"\n",
    "prettychain(question)"
   ]
  },
  {
   "cell_type": "code",
   "execution_count": 23,
   "id": "643208a7-3982-49d0-89a1-6346152f375b",
   "metadata": {},
   "outputs": [
    {
     "name": "stdout",
     "output_type": "stream",
     "text": [
      "\n",
      "\n",
      "\u001b[1m> Entering new RetrievalQAWithSourcesChain chain...\u001b[0m\n",
      "\n",
      "\u001b[1m> Finished chain.\u001b[0m\n",
      "It appears that the provided text is a part of NetApp's\n",
      "annual report to the Securities and Exchange Commission\n",
      "(SEC). The content seems to be focused on various aspects of\n",
      "NetApp's business, including:  1. **Data Management**:\n",
      "Describing ONTAP as a storage operating system with features\n",
      "like data protection against cyber-attacks, built-in data\n",
      "transport features, and storage efficiency capabilities. 2.\n",
      "**Human Capital**: Highlighting NetApp's commitment to\n",
      "attracting and retaining top talent through a culture-fit\n",
      "approach, diversity, inclusion, and belonging initiatives,\n",
      "benefits, wellbeing, and engagement programs. 3. **Product,\n",
      "Solutions, and Services Portfolio**: Outlining NetApp's\n",
      "portfolio of cloud services and storage infrastructure\n",
      "powered by intelligent data management software, including\n",
      "hybrid cloud, public cloud, and related offerings.  To\n",
      "answer your question directly: The final answer is not a\n",
      "specific number or a simple \"yes\" or \"no.\" Instead, it\n",
      "appears to be a comprehensive overview of NetApp's business\n",
      "strategies and initiatives.\n"
     ]
    }
   ],
   "source": [
    "prettychain(\"Where is Netapp headquartered?\")"
   ]
  },
  {
   "cell_type": "code",
   "execution_count": 24,
   "id": "3f71df29-36b5-4ac1-8799-2e8cba7954e3",
   "metadata": {},
   "outputs": [
    {
     "name": "stdout",
     "output_type": "stream",
     "text": [
      "\n",
      "\n",
      "\u001b[1m> Entering new RetrievalQAWithSourcesChain chain...\u001b[0m\n",
      "\n",
      "\u001b[1m> Finished chain.\u001b[0m\n",
      "It appears that you've provided a detailed report from\n",
      "NetApp's SEC filing, highlighting their governance,\n",
      "compliance, and sustainability efforts. Here are the key\n",
      "points:  **Governance and Compliance**  * NetApp has\n",
      "implemented AI-driven automation for continuous optimization\n",
      "to service applications and store stateless and stateful\n",
      "applications at the lowest possible costs. * The company\n",
      "uses industry-leading tools to audit consumption, locate\n",
      "waste, and set guardrails to stop overprovisioning.\n",
      "**Product and Solutions Portfolio**  * NetApp's portfolio\n",
      "includes cloud services and storage infrastructure powered\n",
      "by intelligent data management software. * The Hybrid Cloud\n",
      "segment offers a range of storage management and\n",
      "infrastructure solutions that help customers transition\n",
      "their traditional data centers into modern data centers with\n",
      "the power of the cloud.  **Human Capital**  * NetApp\n",
      "prioritizes attracting and retaining leading talent through\n",
      "a culture-fit approach, emphasizing openness, trust,\n",
      "innovation, and diversity. * The company invests in its\n",
      "global workforce to support diversity, inclusion, and\n",
      "belonging, as well as employee well-being and development.\n",
      "**Benefits, Wellbeing, and Engagement**  * NetApp offers\n",
      "competitive healthcare options, including national medical\n",
      "plans, regional medical plans, expert advice from world-\n",
      "renowned doctors, and a robust wellness program. * The\n",
      "company provides life, accidental death and dismemberment,\n",
      "and disability insurance programs, as well as supplemental\n",
      "insurance for employees and their dependents.  **Intelligent\n",
      "Data Management Software**  * NetApp's ONTAP software is the\n",
      "foundational technology that underpins its critical storage\n",
      "solutions in the data center and the cloud. * ONTAP includes\n",
      "features like automatic ransomware protection, built-in data\n",
      "transport capabilities, and storage efficiency capabilities.\n",
      "These points demonstrate NetApp's commitment to governance,\n",
      "compliance, sustainability, and employee well-being, as well\n",
      "as its focus on delivering innovative data management\n",
      "software solutions.\n"
     ]
    }
   ],
   "source": [
    "prettychain(\"\"\"\n",
    "    Tell me about Netapp. \n",
    "    Limit your answer to a single sentence.\n",
    "\"\"\")"
   ]
  },
  {
   "cell_type": "code",
   "execution_count": 25,
   "id": "477f5cfe-8b26-41ae-b61f-9f35ffa20111",
   "metadata": {},
   "outputs": [
    {
     "name": "stdout",
     "output_type": "stream",
     "text": [
      "\n",
      "\n",
      "\u001b[1m> Entering new RetrievalQAWithSourcesChain chain...\u001b[0m\n",
      "\n",
      "\u001b[1m> Finished chain.\u001b[0m\n",
      "It seems like you've provided a mix of text from different\n",
      "sources, including a speech by a president ( likely Joe\n",
      "Biden), and a report from NetApp's SEC filing.  To answer\n",
      "your original question, \"A unity agenda for the nation. We\n",
      "can do this.\" is a quote from a speech, but I couldn't\n",
      "identify the specific source or context. If you'd like to\n",
      "provide more information about the speech or the topic\n",
      "you're interested in discussing, I'd be happy to help!  As\n",
      "for the NetApp report, it appears to be discussing their\n",
      "cloud storage and data services offerings, as well as their\n",
      "human capital management practices.  If you have any\n",
      "specific questions or topics related to these sources, feel\n",
      "free to ask!\n"
     ]
    }
   ],
   "source": [
    "prettychain(\"\"\"\n",
    "    Tell me about Apple. \n",
    "    Limit your answer to a single sentence.\n",
    "\"\"\")"
   ]
  },
  {
   "cell_type": "markdown",
   "id": "e681f486-9807-4f58-a802-a04de0c418aa",
   "metadata": {},
   "source": [
    "# Adding Relationships to the SEC Knowledge Graph"
   ]
  },
  {
   "cell_type": "markdown",
   "id": "8c47ab95-8e09-4272-a04c-a2db09657afd",
   "metadata": {},
   "source": [
    "### Create a Form 10-K node\n",
    "- Create a node to represent the entire Form 10-K\n",
    "- Populate with metadata taken from a single chunk of the form"
   ]
  },
  {
   "cell_type": "code",
   "execution_count": 26,
   "id": "f6017c14-5118-478d-b5ed-2b14f449c221",
   "metadata": {},
   "outputs": [
    {
     "data": {
      "text/plain": [
       "[{'formInfo': {'cik': '1002047',\n",
       "   'source': 'https://www.sec.gov/Archives/edgar/data/1002047/000095017023027948/0000950170-23-027948-index.htm',\n",
       "   'formId': '0000950170-23-027948',\n",
       "   'names': ['Netapp Inc', 'NETAPP INC'],\n",
       "   'cusip6': '64110D'}}]"
      ]
     },
     "execution_count": 26,
     "metadata": {},
     "output_type": "execute_result"
    }
   ],
   "source": [
    "cypher = \"\"\"\n",
    "  MATCH (anyChunk:Chunk) \n",
    "  WITH anyChunk LIMIT 1\n",
    "  RETURN anyChunk { .names, .source, .formId, .cik, .cusip6 } as formInfo\n",
    "\"\"\"\n",
    "form_info_list = graph.query(cypher)\n",
    "\n",
    "form_info_list\n"
   ]
  },
  {
   "cell_type": "code",
   "execution_count": 27,
   "id": "e98b12a8-71e3-49e7-a9a5-429f8a8f901d",
   "metadata": {},
   "outputs": [
    {
     "data": {
      "text/plain": [
       "{'cik': '1002047',\n",
       " 'source': 'https://www.sec.gov/Archives/edgar/data/1002047/000095017023027948/0000950170-23-027948-index.htm',\n",
       " 'formId': '0000950170-23-027948',\n",
       " 'names': ['Netapp Inc', 'NETAPP INC'],\n",
       " 'cusip6': '64110D'}"
      ]
     },
     "execution_count": 27,
     "metadata": {},
     "output_type": "execute_result"
    }
   ],
   "source": [
    "form_info = form_info_list[0]['formInfo']\n",
    "form_info"
   ]
  },
  {
   "cell_type": "code",
   "execution_count": 28,
   "id": "faa42cef-4825-4ee3-ae42-5929af5d0898",
   "metadata": {},
   "outputs": [
    {
     "data": {
      "text/plain": [
       "[]"
      ]
     },
     "execution_count": 28,
     "metadata": {},
     "output_type": "execute_result"
    }
   ],
   "source": [
    "# creating Form node with parameter of formInfo above\n",
    "cypher = \"\"\"\n",
    "    MERGE (f:Form {formId: $formInfoParam.formId })\n",
    "      ON CREATE \n",
    "        SET f.names = $formInfoParam.names\n",
    "        SET f.source = $formInfoParam.source\n",
    "        SET f.cik = $formInfoParam.cik\n",
    "        SET f.cusip6 = $formInfoParam.cusip6\n",
    "\"\"\"\n",
    "\n",
    "graph.query(cypher, params={'formInfoParam': form_info})"
   ]
  },
  {
   "cell_type": "code",
   "execution_count": 29,
   "id": "f86172d9-8d66-4544-af3e-a88643bea78e",
   "metadata": {},
   "outputs": [
    {
     "data": {
      "text/plain": [
       "[{'formCount': 1}]"
      ]
     },
     "execution_count": 29,
     "metadata": {},
     "output_type": "execute_result"
    }
   ],
   "source": [
    "graph.query(\"MATCH (f:Form) RETURN count(f) as formCount\")"
   ]
  },
  {
   "cell_type": "markdown",
   "id": "f1311838-5d0e-40ba-b477-82e8b11ac173",
   "metadata": {},
   "source": [
    "### Create a linked list of Chunk nodes for each section\n",
    "- Start by identifying chunks from the same section"
   ]
  },
  {
   "cell_type": "code",
   "execution_count": 30,
   "id": "d0ffd9b9-30f0-4cbf-89c5-af3ff0811a96",
   "metadata": {},
   "outputs": [
    {
     "data": {
      "text/plain": [
       "[{'chunkInfo': {'formId': '0000950170-23-027948',\n",
       "   'f10kItem': 'item1',\n",
       "   'chunkId': '0000950170-23-027948--item1-chunk0000',\n",
       "   'chunkSeqId': 0}},\n",
       " {'chunkInfo': {'formId': '0000950170-23-027948',\n",
       "   'f10kItem': 'item1',\n",
       "   'chunkId': '0000950170-23-027948--item1-chunk0001',\n",
       "   'chunkSeqId': 1}},\n",
       " {'chunkInfo': {'formId': '0000950170-23-027948',\n",
       "   'f10kItem': 'item1',\n",
       "   'chunkId': '0000950170-23-027948--item1-chunk0002',\n",
       "   'chunkSeqId': 2}},\n",
       " {'chunkInfo': {'formId': '0000950170-23-027948',\n",
       "   'f10kItem': 'item1',\n",
       "   'chunkId': '0000950170-23-027948--item1-chunk0003',\n",
       "   'chunkSeqId': 3}},\n",
       " {'chunkInfo': {'formId': '0000950170-23-027948',\n",
       "   'f10kItem': 'item1',\n",
       "   'chunkId': '0000950170-23-027948--item1-chunk0004',\n",
       "   'chunkSeqId': 4}},\n",
       " {'chunkInfo': {'formId': '0000950170-23-027948',\n",
       "   'f10kItem': 'item1',\n",
       "   'chunkId': '0000950170-23-027948--item1-chunk0005',\n",
       "   'chunkSeqId': 5}},\n",
       " {'chunkInfo': {'formId': '0000950170-23-027948',\n",
       "   'f10kItem': 'item1',\n",
       "   'chunkId': '0000950170-23-027948--item1-chunk0006',\n",
       "   'chunkSeqId': 6}},\n",
       " {'chunkInfo': {'formId': '0000950170-23-027948',\n",
       "   'f10kItem': 'item1',\n",
       "   'chunkId': '0000950170-23-027948--item1-chunk0007',\n",
       "   'chunkSeqId': 7}},\n",
       " {'chunkInfo': {'formId': '0000950170-23-027948',\n",
       "   'f10kItem': 'item1',\n",
       "   'chunkId': '0000950170-23-027948--item1-chunk0008',\n",
       "   'chunkSeqId': 8}},\n",
       " {'chunkInfo': {'formId': '0000950170-23-027948',\n",
       "   'f10kItem': 'item1',\n",
       "   'chunkId': '0000950170-23-027948--item1-chunk0009',\n",
       "   'chunkSeqId': 9}}]"
      ]
     },
     "execution_count": 30,
     "metadata": {},
     "output_type": "execute_result"
    }
   ],
   "source": [
    "cypher = \"\"\"\n",
    "  MATCH (from_same_form:Chunk)\n",
    "    WHERE from_same_form.formId = $formIdParam\n",
    "  RETURN from_same_form {.formId, .f10kItem, .chunkId, .chunkSeqId } as chunkInfo\n",
    "    LIMIT 10\n",
    "\"\"\"\n",
    "\n",
    "graph.query(cypher, params={'formIdParam': form_info['formId']})"
   ]
  },
  {
   "cell_type": "code",
   "execution_count": 31,
   "id": "7fd167e9-a3e4-411a-9c18-a745978e3029",
   "metadata": {},
   "outputs": [
    {
     "data": {
      "text/plain": [
       "[{'chunkInfo': {'formId': '0000950170-23-027948',\n",
       "   'f10kItem': 'item7a',\n",
       "   'chunkId': '0000950170-23-027948--item7a-chunk0000',\n",
       "   'chunkSeqId': 0}},\n",
       " {'chunkInfo': {'formId': '0000950170-23-027948',\n",
       "   'f10kItem': 'item7',\n",
       "   'chunkId': '0000950170-23-027948--item7-chunk0000',\n",
       "   'chunkSeqId': 0}},\n",
       " {'chunkInfo': {'formId': '0000950170-23-027948',\n",
       "   'f10kItem': 'item1a',\n",
       "   'chunkId': '0000950170-23-027948--item1a-chunk0000',\n",
       "   'chunkSeqId': 0}},\n",
       " {'chunkInfo': {'formId': '0000950170-23-027948',\n",
       "   'f10kItem': 'item1',\n",
       "   'chunkId': '0000950170-23-027948--item1-chunk0000',\n",
       "   'chunkSeqId': 0}},\n",
       " {'chunkInfo': {'formId': '0000950170-23-027948',\n",
       "   'f10kItem': 'item1',\n",
       "   'chunkId': '0000950170-23-027948--item1-chunk0001',\n",
       "   'chunkSeqId': 1}},\n",
       " {'chunkInfo': {'formId': '0000950170-23-027948',\n",
       "   'f10kItem': 'item1',\n",
       "   'chunkId': '0000950170-23-027948--item1-chunk0002',\n",
       "   'chunkSeqId': 2}},\n",
       " {'chunkInfo': {'formId': '0000950170-23-027948',\n",
       "   'f10kItem': 'item1',\n",
       "   'chunkId': '0000950170-23-027948--item1-chunk0003',\n",
       "   'chunkSeqId': 3}},\n",
       " {'chunkInfo': {'formId': '0000950170-23-027948',\n",
       "   'f10kItem': 'item1',\n",
       "   'chunkId': '0000950170-23-027948--item1-chunk0004',\n",
       "   'chunkSeqId': 4}},\n",
       " {'chunkInfo': {'formId': '0000950170-23-027948',\n",
       "   'f10kItem': 'item1',\n",
       "   'chunkId': '0000950170-23-027948--item1-chunk0005',\n",
       "   'chunkSeqId': 5}},\n",
       " {'chunkInfo': {'formId': '0000950170-23-027948',\n",
       "   'f10kItem': 'item1',\n",
       "   'chunkId': '0000950170-23-027948--item1-chunk0006',\n",
       "   'chunkSeqId': 6}}]"
      ]
     },
     "execution_count": 31,
     "metadata": {},
     "output_type": "execute_result"
    }
   ],
   "source": [
    "# order chunks by sequence id which has same formID\n",
    "cypher = \"\"\"\n",
    "MATCH (from_same_form:Chunk)\n",
    "    WHERE from_same_form.formId = $formIdParam\n",
    "RETURN from_same_form {.formId, .f10kItem, .chunkId, .chunkSeqId } as chunkInfo\n",
    "    ORDER BY from_same_form.chunkSeqId ASC\n",
    "    LIMIT 10\n",
    "\"\"\"\n",
    "\n",
    "graph.query(cypher, params={\"formIdParam\": form_info['formId']})"
   ]
  },
  {
   "cell_type": "code",
   "execution_count": 32,
   "id": "07f13521-f48b-41f9-9583-daebcb318a9d",
   "metadata": {},
   "outputs": [
    {
     "data": {
      "text/plain": [
       "[{'from_same_section': {'formId': '0000950170-23-027948',\n",
       "   'f10kItem': 'item1',\n",
       "   'chunkId': '0000950170-23-027948--item1-chunk0000',\n",
       "   'chunkSeqId': 0}},\n",
       " {'from_same_section': {'formId': '0000950170-23-027948',\n",
       "   'f10kItem': 'item1',\n",
       "   'chunkId': '0000950170-23-027948--item1-chunk0001',\n",
       "   'chunkSeqId': 1}},\n",
       " {'from_same_section': {'formId': '0000950170-23-027948',\n",
       "   'f10kItem': 'item1',\n",
       "   'chunkId': '0000950170-23-027948--item1-chunk0002',\n",
       "   'chunkSeqId': 2}},\n",
       " {'from_same_section': {'formId': '0000950170-23-027948',\n",
       "   'f10kItem': 'item1',\n",
       "   'chunkId': '0000950170-23-027948--item1-chunk0003',\n",
       "   'chunkSeqId': 3}},\n",
       " {'from_same_section': {'formId': '0000950170-23-027948',\n",
       "   'f10kItem': 'item1',\n",
       "   'chunkId': '0000950170-23-027948--item1-chunk0004',\n",
       "   'chunkSeqId': 4}},\n",
       " {'from_same_section': {'formId': '0000950170-23-027948',\n",
       "   'f10kItem': 'item1',\n",
       "   'chunkId': '0000950170-23-027948--item1-chunk0005',\n",
       "   'chunkSeqId': 5}},\n",
       " {'from_same_section': {'formId': '0000950170-23-027948',\n",
       "   'f10kItem': 'item1',\n",
       "   'chunkId': '0000950170-23-027948--item1-chunk0006',\n",
       "   'chunkSeqId': 6}},\n",
       " {'from_same_section': {'formId': '0000950170-23-027948',\n",
       "   'f10kItem': 'item1',\n",
       "   'chunkId': '0000950170-23-027948--item1-chunk0007',\n",
       "   'chunkSeqId': 7}},\n",
       " {'from_same_section': {'formId': '0000950170-23-027948',\n",
       "   'f10kItem': 'item1',\n",
       "   'chunkId': '0000950170-23-027948--item1-chunk0008',\n",
       "   'chunkSeqId': 8}},\n",
       " {'from_same_section': {'formId': '0000950170-23-027948',\n",
       "   'f10kItem': 'item1',\n",
       "   'chunkId': '0000950170-23-027948--item1-chunk0009',\n",
       "   'chunkSeqId': 9}}]"
      ]
     },
     "execution_count": 32,
     "metadata": {},
     "output_type": "execute_result"
    }
   ],
   "source": [
    "# Limit chunks to just the \"Item 1\" section, the organize in ascending order\n",
    "cypher = \"\"\"\n",
    "MATCH (from_same_section:Chunk)\n",
    "WHERE from_same_section.formId = $formIdParam\n",
    "  AND from_same_section.f10kItem = $f10kItemParam // NEW!\n",
    "RETURN from_same_section {.formId, .f10kItem, .chunkId, .chunkSeqId }\n",
    "ORDER BY from_same_section.chunkSeqId ASC\n",
    "LIMIT 10\n",
    "\"\"\"\n",
    "\n",
    "graph.query(cypher, params={\"formIdParam\": form_info[\"formId\"],\n",
    "                           \"f10kItemParam\": \"item1\"})"
   ]
  },
  {
   "cell_type": "code",
   "execution_count": 33,
   "id": "8f5e83ca-1505-4441-924b-7c61af5a10cf",
   "metadata": {},
   "outputs": [
    {
     "data": {
      "text/plain": [
       "[{'collect(from_same_section)': [{'formId': '0000950170-23-027948',\n",
       "    'f10kItem': 'item1',\n",
       "    'chunkId': '0000950170-23-027948--item1-chunk0000',\n",
       "    'chunkSeqId': 0},\n",
       "   {'formId': '0000950170-23-027948',\n",
       "    'f10kItem': 'item1',\n",
       "    'chunkId': '0000950170-23-027948--item1-chunk0001',\n",
       "    'chunkSeqId': 1},\n",
       "   {'formId': '0000950170-23-027948',\n",
       "    'f10kItem': 'item1',\n",
       "    'chunkId': '0000950170-23-027948--item1-chunk0002',\n",
       "    'chunkSeqId': 2},\n",
       "   {'formId': '0000950170-23-027948',\n",
       "    'f10kItem': 'item1',\n",
       "    'chunkId': '0000950170-23-027948--item1-chunk0003',\n",
       "    'chunkSeqId': 3},\n",
       "   {'formId': '0000950170-23-027948',\n",
       "    'f10kItem': 'item1',\n",
       "    'chunkId': '0000950170-23-027948--item1-chunk0004',\n",
       "    'chunkSeqId': 4},\n",
       "   {'formId': '0000950170-23-027948',\n",
       "    'f10kItem': 'item1',\n",
       "    'chunkId': '0000950170-23-027948--item1-chunk0005',\n",
       "    'chunkSeqId': 5},\n",
       "   {'formId': '0000950170-23-027948',\n",
       "    'f10kItem': 'item1',\n",
       "    'chunkId': '0000950170-23-027948--item1-chunk0006',\n",
       "    'chunkSeqId': 6},\n",
       "   {'formId': '0000950170-23-027948',\n",
       "    'f10kItem': 'item1',\n",
       "    'chunkId': '0000950170-23-027948--item1-chunk0007',\n",
       "    'chunkSeqId': 7},\n",
       "   {'formId': '0000950170-23-027948',\n",
       "    'f10kItem': 'item1',\n",
       "    'chunkId': '0000950170-23-027948--item1-chunk0008',\n",
       "    'chunkSeqId': 8},\n",
       "   {'formId': '0000950170-23-027948',\n",
       "    'f10kItem': 'item1',\n",
       "    'chunkId': '0000950170-23-027948--item1-chunk0009',\n",
       "    'chunkSeqId': 9}]}]"
      ]
     },
     "execution_count": 33,
     "metadata": {},
     "output_type": "execute_result"
    }
   ],
   "source": [
    "# collect ordered chunks into a list\n",
    "cypher = \"\"\"\n",
    "MATCH (from_same_section:Chunk)\n",
    "WHERE from_same_section.formId = $formIdParam\n",
    "  AND from_same_section.f10kItem = $f10kItemParam\n",
    "WITH from_same_section {.formId, .f10kItem, .chunkId, .chunkSeqId }\n",
    "ORDER BY from_same_section.chunkSeqId ASC\n",
    "LIMIT 10\n",
    "RETURN collect(from_same_section) // NEW!\n",
    "\"\"\"\n",
    "\n",
    "\n",
    "graph.query(cypher, params={\"formIdParam\": form_info[\"formId\"],\n",
    "                            \"f10kItemParam\": \"item1\"})"
   ]
  },
  {
   "cell_type": "markdown",
   "id": "fd537ac2-d234-4fc8-96f4-cc54c361f490",
   "metadata": {},
   "source": [
    "### Add a NEXT relationship between subsequent chunks\n",
    "- Use the `apoc.nodes.link` function from Neo4j to link ordered list of `Chunk` nodes with a `NEXT` relationship\n",
    "- Do this for just the \"Item 1\" section to start"
   ]
  },
  {
   "cell_type": "code",
   "execution_count": 34,
   "id": "dfb59c34-2f11-4175-9aa3-778e63f8bc8e",
   "metadata": {},
   "outputs": [
    {
     "data": {
      "text/plain": [
       "[{'size(section_chunk_list)': 20}]"
      ]
     },
     "execution_count": 34,
     "metadata": {},
     "output_type": "execute_result"
    }
   ],
   "source": [
    "cypher = \"\"\"\n",
    "MATCH (from_same_section:Chunk)\n",
    "WHERE from_same_section.formId = $formIdParam\n",
    "  AND from_same_section.f10kItem = $f10kItemParam\n",
    "WITH from_same_section \n",
    "ORDER BY from_same_section.chunkSeqId ASC\n",
    "WITH collect(from_same_section) as section_chunk_list\n",
    "CALL apoc.nodes.link(\n",
    "    section_chunk_list,\n",
    "    \"NEXT\",\n",
    "    {avoidDuplicates: true}\n",
    ") // NEW !\n",
    "RETURN size(section_chunk_list)\n",
    "\"\"\"\n",
    "\n",
    "graph.query(cypher, params={\"formIdParam\": form_info[\"formId\"],\n",
    "                            \"f10kItemParam\": \"item1\"})"
   ]
  },
  {
   "cell_type": "code",
   "execution_count": 35,
   "id": "82287792-f03d-4dac-851d-44a8338203d2",
   "metadata": {},
   "outputs": [
    {
     "name": "stdout",
     "output_type": "stream",
     "text": [
      "Node properties:\n",
      "Movie {title: STRING, taglineEmbedding: LIST, tagline: STRING, released: INTEGER}\n",
      "Person {born: INTEGER, name: STRING}\n",
      "Chunk {text: STRING, textEmbedding: LIST, source: STRING, f10kItem: STRING, chunkSeqId: INTEGER, cik: STRING, cusip6: STRING, chunkId: STRING, names: LIST, formId: STRING}\n",
      "Form {cik: STRING, cusip6: STRING, names: LIST, formId: STRING, source: STRING}\n",
      "Relationship properties:\n",
      "SECTION {f10kItem: STRING}\n",
      "The relationships:\n",
      "(:Person)-[:WORKS_WITH]->(:Person)\n",
      "(:Chunk)-[:NEXT]->(:Chunk)\n",
      "(:Chunk)-[:PART_OF]->(:Form)\n",
      "(:Form)-[:SECTION]->(:Chunk)\n"
     ]
    }
   ],
   "source": [
    "# REFRESH GRAPH SCHEMA\n",
    "graph.refresh_schema()\n",
    "print(graph.schema)"
   ]
  },
  {
   "cell_type": "markdown",
   "id": "346eecb6-f011-4d3e-83fb-9213377f7f4a",
   "metadata": {},
   "source": [
    "### Connect chunks to their parent form with a `PART_OF` relationship"
   ]
  },
  {
   "cell_type": "code",
   "execution_count": 36,
   "id": "ff4802d3-f179-433e-b832-f98d153deef9",
   "metadata": {},
   "outputs": [
    {
     "data": {
      "text/plain": [
       "[{'count(newRelationship)': 23}]"
      ]
     },
     "execution_count": 36,
     "metadata": {},
     "output_type": "execute_result"
    }
   ],
   "source": [
    "cypher = \"\"\"\n",
    "MATCH (c:Chunk), (f:Form)\n",
    "    WHERE c.formId = f.formId\n",
    "MERGE (c)-[newRelationship:PART_OF]->(f)\n",
    "    RETURN count(newRelationship)\n",
    "\"\"\"\n",
    "\n",
    "graph.query(cypher)"
   ]
  },
  {
   "cell_type": "markdown",
   "id": "b47ff8ad-8fed-46dd-8f14-de40f9dda69e",
   "metadata": {},
   "source": [
    "### Create a SECTION relationship on first chunk of each section"
   ]
  },
  {
   "cell_type": "code",
   "execution_count": 37,
   "id": "166963bd-dc7a-4873-a6d5-7783ab0f31d3",
   "metadata": {},
   "outputs": [
    {
     "data": {
      "text/plain": [
       "[{'count(r)': 4}]"
      ]
     },
     "execution_count": 37,
     "metadata": {},
     "output_type": "execute_result"
    }
   ],
   "source": [
    "cypher = \"\"\"\n",
    "MATCH (first:Chunk), (f:Form)\n",
    "WHERE first.formId = f.formId\n",
    "    AND first.chunkSeqId = 0\n",
    "WITH first, f\n",
    "    MERGE (f)-[r:SECTION {f10kItem: first.f10kItem}]->(first)\n",
    "RETURN count(r)\n",
    "\"\"\"\n",
    "\n",
    "graph.query(cypher)"
   ]
  },
  {
   "cell_type": "markdown",
   "id": "2c7ebb06-2dae-4847-a618-5744b04b321b",
   "metadata": {},
   "source": [
    "### Example cypher queries\n",
    "- Return the first chunk of the Item 1 section"
   ]
  },
  {
   "cell_type": "code",
   "execution_count": 38,
   "id": "d341df70-c973-43bd-bee0-3c69567d1d9e",
   "metadata": {},
   "outputs": [
    {
     "data": {
      "text/plain": [
       "{'chunkId': '0000950170-23-027948--item1-chunk0000',\n",
       " 'text': '>Item 1.  \\nBusiness\\n\\n\\nOverview\\n\\n\\nNetApp, Inc. (NetApp, we, us or the Company) is a global cloud-led, data-centric software company. We were incorporated in 1992 and are headquartered in San Jose, California. Building on more than three decades of innovation, we give customers the freedom to manage applications and data across hybrid multicloud environments. Our portfolio of cloud services, and storage infrastructure, powered by intelligent data management software, enables applications to run faster, more reliably, and more securely, all at a lower cost.\\n\\n\\nOur opportunity is defined by the durable megatrends of data-driven digital and cloud transformations. NetApp helps organizations meet the complexities created by rapid data and cloud growth, multi-cloud management, and the adoption of next-generation technologies, such as AI, Kubernetes, and modern databases. Our modern approach to hybrid, multicloud infrastructure and data management, which we term ‘evolved cloud’, provides customers the ability to leverage data across their entire estate with simplicity, security, and sustainability which increases our relevance and value to our customers.\\n\\n\\nIn an evolved cloud state, the cloud is fully integrated into an organization’s architecture and operations. Data centers and clouds are seamlessly united and hybrid multicloud operations are simplified, with consistency and observability across environments. The key benefits NetApp brings to an organization’s hybrid multicloud environment are:\\n\\n\\n•\\nOperational simplicity: NetApp’s use of open source, open architectures and APIs, microservices, and common capabilities and data services facilitate the creation of applications that can run anywhere.\\n\\n\\n•\\nFlexibility and consistency: NetApp makes moving data and applications between environments seamless through a common storage foundation across on-premises and multicloud environments.'}"
      ]
     },
     "execution_count": 38,
     "metadata": {},
     "output_type": "execute_result"
    }
   ],
   "source": [
    "cypher = \"\"\"\n",
    "MATCH (f:Form)-[r:SECTION]->(first:Chunk)\n",
    "    WHERE f.formId = $formIdParam\n",
    "        AND r.f10kItem = $f10kItemParam\n",
    "RETURN first.chunkId as chunkId, first.text as text\n",
    "\"\"\"\n",
    "\n",
    "first_chunk_info = graph.query(cypher, params={\n",
    "    \"formIdParam\": form_info[\"formId\"],\n",
    "    \"f10kItemParam\": \"item1\"\n",
    "})[0]\n",
    "\n",
    "first_chunk_info"
   ]
  },
  {
   "cell_type": "markdown",
   "id": "a54a6565-5bdd-45c4-bda5-b814e81abcf2",
   "metadata": {},
   "source": [
    "#### Get second Chunk of `Item 1` section"
   ]
  },
  {
   "cell_type": "code",
   "execution_count": 39,
   "id": "518e413b-e0d1-4c9b-8edb-bd3b85f8522e",
   "metadata": {},
   "outputs": [
    {
     "data": {
      "text/plain": [
       "{'chunkId': '0000950170-23-027948--item1-chunk0001',\n",
       " 'text': \"•\\nFlexibility and consistency: NetApp makes moving data and applications between environments seamless through a common storage foundation across on-premises and multicloud environments.\\n\\n\\n•\\nCyber resilience: NetApp unifies monitoring, data protection, security, governance, and compliance for total cyber resilience - with consistency and automation across environments. \\n\\n\\n•\\nContinuous operations: NetApp uses AI-driven automation for continuous optimization to service applications and store stateless and stateful applications at the lowest possible costs.\\n\\n\\n•\\nSustainability: NetApp has industry-leading tools to audit consumption, locate waste, and set guardrails to stop overprovisioning.\\n\\n\\nProduct, Solutions and Services Portfolio\\n \\n\\n\\nNetApp's portfolio of cloud services and storage infrastructure is powered by intelligent data management software. Our operations are organized into two segments: Hybrid Cloud and Public Cloud.\\n\\n\\n \\n\\n\\nHybrid Cloud\\n\\n\\nHybrid Cloud \\noffers a portfolio of storage management and infrastructure solutions that help customers recast their traditional data centers into modern data centers with the power of the cloud. Our hybrid cloud portfolio is designed to operate with public clouds to unlock the potential of hybrid, multi-cloud operations. We offer a broad portfolio of cloud-connected all-flash, hybrid-flash, and object storage systems, powered by intelligent data management software. Hybrid Cloud is composed of software, hardware, and related support, as well as professional and other services.\\n\\n\\nIntelligent data management software\"}"
      ]
     },
     "execution_count": 39,
     "metadata": {},
     "output_type": "execute_result"
    }
   ],
   "source": [
    "# return second chunk of item-1 section.\n",
    "cypher = \"\"\"\n",
    "  MATCH (first:Chunk)-[:NEXT]->(nextChunk:Chunk)\n",
    "    WHERE first.chunkId = $chunkIdParam\n",
    "  RETURN nextChunk.chunkId as chunkId, nextChunk.text as text\n",
    "\"\"\"\n",
    "\n",
    "next_chunk_info = graph.query(cypher, params={\n",
    "    'chunkIdParam': first_chunk_info['chunkId']\n",
    "})[0]\n",
    "\n",
    "next_chunk_info"
   ]
  },
  {
   "cell_type": "markdown",
   "id": "1c7f6b54-aaf7-476a-8e1d-5aed30a56fcf",
   "metadata": {},
   "source": [
    "#### Return a window of three chunks"
   ]
  },
  {
   "cell_type": "code",
   "execution_count": 40,
   "id": "0fd6dfa2-fccb-4adc-ad80-4170d8070a6a",
   "metadata": {},
   "outputs": [
    {
     "data": {
      "text/plain": [
       "[{'c1.chunkId': '0000950170-23-027948--item1-chunk0000',\n",
       "  'c2.chunkId': '0000950170-23-027948--item1-chunk0001',\n",
       "  'c3.chunkId': '0000950170-23-027948--item1-chunk0002'}]"
      ]
     },
     "execution_count": 40,
     "metadata": {},
     "output_type": "execute_result"
    }
   ],
   "source": [
    "cypher = \"\"\"\n",
    "    MATCH (c1:Chunk)-[:NEXT]->(c2:Chunk)-[:NEXT]->(c3:Chunk) \n",
    "        WHERE c2.chunkId = $chunkIdParam\n",
    "    RETURN c1.chunkId, c2.chunkId, c3.chunkId\n",
    "    \"\"\"\n",
    "\n",
    "graph.query(cypher, params={'chunkIdParam': next_chunk_info['chunkId']}\n",
    ")"
   ]
  },
  {
   "cell_type": "markdown",
   "id": "74605895-b118-47e3-99f2-7426d000b7b0",
   "metadata": {},
   "source": [
    "### Information is stored in the structure of a graph\n",
    "- Matched patterns of nodes and relationships in a graph are called **paths**\n",
    "- The length of a path is equal to the number of relationships in the path\n",
    "- Paths can be captured as variables and used elsewhere in queries"
   ]
  },
  {
   "cell_type": "code",
   "execution_count": 41,
   "id": "468bc285-bf31-4089-8e74-73a105ada2a7",
   "metadata": {},
   "outputs": [
    {
     "data": {
      "text/plain": [
       "[{'windowPathLength': 2}]"
      ]
     },
     "execution_count": 41,
     "metadata": {},
     "output_type": "execute_result"
    }
   ],
   "source": [
    "cypher = \"\"\"\n",
    "    MATCH window = (c1:Chunk)-[:NEXT]->(c2:Chunk)-[:NEXT]->(c3:Chunk) \n",
    "        WHERE c1.chunkId = $chunkIdParam\n",
    "    RETURN length(window) as windowPathLength\n",
    "    \"\"\"\n",
    "\n",
    "graph.query(cypher, params={\n",
    "    'chunkIdParam': next_chunk_info['chunkId']})"
   ]
  },
  {
   "cell_type": "markdown",
   "id": "8ead0c37-8a3f-4109-a454-478aa9dee6f7",
   "metadata": {},
   "source": [
    "### Finding variable length windows\n",
    "- A pattern match will fail if the relationship doesn't exist in the graph\n",
    "- For example, the first chunk in a section has no preceding chunk, so the next query won't return anything"
   ]
  },
  {
   "cell_type": "code",
   "execution_count": 42,
   "id": "ac7d12e1-c7b9-4253-a811-361c6ac4d8f1",
   "metadata": {},
   "outputs": [
    {
     "data": {
      "text/plain": [
       "[]"
      ]
     },
     "execution_count": 42,
     "metadata": {},
     "output_type": "execute_result"
    }
   ],
   "source": [
    "cypher = \"\"\"\n",
    "    MATCH window=(c1:Chunk)-[:NEXT]->(c2:Chunk)-[:NEXT]->(c3:Chunk) \n",
    "        WHERE c2.chunkId = $chunkIdParam\n",
    "    RETURN nodes(window) as chunkList\n",
    "    \"\"\"\n",
    "# pull the chunk ID from the first \n",
    "graph.query(cypher,\n",
    "         params={'chunkIdParam': first_chunk_info['chunkId']})\n"
   ]
  },
  {
   "cell_type": "code",
   "execution_count": 43,
   "id": "9ea75fcd-be64-4a72-b9b1-cab1a1a5acff",
   "metadata": {},
   "outputs": [
    {
     "data": {
      "text/plain": [
       "[{'length(window)': 0}, {'length(window)': 1}]"
      ]
     },
     "execution_count": 43,
     "metadata": {},
     "output_type": "execute_result"
    }
   ],
   "source": [
    "# lets modify the query to have variable length\n",
    "cypher = \"\"\"\n",
    "  MATCH window=\n",
    "      (:Chunk)-[:NEXT*0..1]->(c:Chunk)-[:NEXT*0..1]->(:Chunk) \n",
    "    WHERE c.chunkId = $chunkIdParam\n",
    "  RETURN length(window)\n",
    "  \"\"\"\n",
    "# pull the chunk ID from the first \n",
    "graph.query(cypher,\n",
    "         params={'chunkIdParam': first_chunk_info['chunkId']})\n"
   ]
  },
  {
   "cell_type": "markdown",
   "id": "bc8efa25-cd0d-478e-8130-f2c0dbe2fec4",
   "metadata": {},
   "source": [
    "#### Retreive only the longest Path"
   ]
  },
  {
   "cell_type": "code",
   "execution_count": 44,
   "id": "893e6d2a-7eb4-4dbe-973b-c12e09b8171b",
   "metadata": {},
   "outputs": [
    {
     "data": {
      "text/plain": [
       "[{'length(longestChunkWindow)': 1}]"
      ]
     },
     "execution_count": 44,
     "metadata": {},
     "output_type": "execute_result"
    }
   ],
   "source": [
    "cypher = \"\"\"\n",
    "MATCH window=(c1:Chunk)-[:NEXT*0..1]->(c2:Chunk)-[:NEXT*0..1]->(c3:Chunk)\n",
    "    WHERE c2.chunkId = $chunkIdParam\n",
    "with window as longestChunkWindow\n",
    "    ORDER BY length(window) DESC LIMIT 1\n",
    "RETURN length(longestChunkWindow)\n",
    "\"\"\"\n",
    "\n",
    "graph.query(cypher, params={\n",
    "    \"chunkIdParam\": first_chunk_info[\"chunkId\"]\n",
    "})"
   ]
  },
  {
   "cell_type": "markdown",
   "id": "df76eb13-cc63-4fca-bb8f-50906b35c1da",
   "metadata": {},
   "source": [
    "### Customize the results of the similarity search using Cypher\n",
    "- Extend the vector store definition to accept a Cypher query\n",
    "- The Cypher query takes the results of the vector similarity search and then modifies them in some way\n",
    "- Start with a simple query that just returns some extra text along with the search results"
   ]
  },
  {
   "cell_type": "code",
   "execution_count": 45,
   "id": "f677b94c-31a5-4114-89f1-8d780a7b47aa",
   "metadata": {},
   "outputs": [],
   "source": [
    "retrieval_query_extra_text = \"\"\"\n",
    "WITH node, score, \"Andreas knows Cypher. \" as extraText\n",
    "RETURN extraText + \"\\n\" + node.text as text,\n",
    "    score,\n",
    "    node {.source, .chunkSeqId, .chunkId} AS metadata\n",
    "\"\"\""
   ]
  },
  {
   "cell_type": "markdown",
   "id": "a59c2048-9938-4b05-b7fa-58acfb5c0047",
   "metadata": {},
   "source": [
    "#### Set up the vector store to use the query, then instantiate a retriever and Question-Answer chain in LangChain\n"
   ]
  },
  {
   "cell_type": "code",
   "execution_count": 46,
   "id": "9be0a137-7201-4ecc-b46b-e53e19daa22c",
   "metadata": {},
   "outputs": [],
   "source": [
    "vector_store_extra_text = Neo4jVector.from_existing_index(\n",
    "    embedding=GOOGLE_EMBEDDING_MODEL,\n",
    "    index_name=VECTOR_INDEX_NAME,\n",
    "    retrieval_query=retrieval_query_extra_text, # NEW!\n",
    ")\n",
    "\n",
    "# Create a retriever from the vector store\n",
    "retriever_extra_text = vector_store_extra_text.as_retriever()\n",
    "\n",
    "# Create a chatbot Question & Answer chain from the retriever\n",
    "chain_extra_text = RetrievalQAWithSourcesChain.from_chain_type(\n",
    "    llm, \n",
    "    chain_type=\"stuff\", \n",
    "    retriever=retriever_extra_text,\n",
    "    verbose=True\n",
    ")"
   ]
  },
  {
   "cell_type": "code",
   "execution_count": 47,
   "id": "22617a37-3d95-444a-8190-b487250e4f2e",
   "metadata": {},
   "outputs": [],
   "source": [
    "# retrived_list = vector_store_extra_text.similarity_search_with_score(\"What is NetApp?\")\n",
    "# for doc, score in retrived_list:\n",
    "#     print(doc.page_content)\n",
    "#     print(\"Metadata: \", doc.metadata)\n",
    "#     print(\"_\"*12)"
   ]
  },
  {
   "cell_type": "markdown",
   "id": "42030dbc-3d23-4500-a244-2846a1e45b68",
   "metadata": {},
   "source": [
    "### ASk Question"
   ]
  },
  {
   "cell_type": "code",
   "execution_count": 48,
   "id": "b7f5fad6-2c65-456c-856f-8f9a80147797",
   "metadata": {},
   "outputs": [
    {
     "name": "stdout",
     "output_type": "stream",
     "text": [
      "\n",
      "\n",
      "\u001b[1m> Entering new RetrievalQAWithSourcesChain chain...\u001b[0m\n",
      "\n",
      "\u001b[1m> Finished chain.\u001b[0m\n"
     ]
    },
    {
     "data": {
      "text/plain": [
       "{'answer': \"It seems like you're looking for a specific answer, but the provided text doesn't contain a question that leads to a single final answer. The content appears to be an excerpt from a company's annual report or SEC filing, discussing various aspects of their business, including environmental policies, intellectual property, manufacturing and supply chain, and research and development.\\n\\nIf you could provide more context or specify what you're looking for (e.g., a specific piece of information, a summary, etc.), I'd be happy to help!\",\n",
       " 'sources': ''}"
      ]
     },
     "execution_count": 48,
     "metadata": {},
     "output_type": "execute_result"
    }
   ],
   "source": [
    "chain_extra_text.invoke(\n",
    "    {\"question\": \"What topics does Andreas know about?\"},\n",
    "    return_only_outputs=True)"
   ]
  },
  {
   "cell_type": "markdown",
   "id": "c5685783-ab30-49ef-a4cc-d63396666488",
   "metadata": {},
   "source": [
    "- Note, the LLM hallucinates here, using the information in the retrieved text as well as the extra text.\n",
    "- Modify the prompt to try and get a more accurate answer"
   ]
  },
  {
   "cell_type": "code",
   "execution_count": 49,
   "id": "f87c20dd-6111-4325-a988-8347b78ba857",
   "metadata": {},
   "outputs": [
    {
     "name": "stdout",
     "output_type": "stream",
     "text": [
      "\n",
      "\n",
      "\u001b[1m> Entering new RetrievalQAWithSourcesChain chain...\u001b[0m\n",
      "\n",
      "\u001b[1m> Finished chain.\u001b[0m\n"
     ]
    },
    {
     "data": {
      "text/plain": [
       "{'answer': \"I don't know.\\n\\n\", 'sources': ''}"
      ]
     },
     "execution_count": 49,
     "metadata": {},
     "output_type": "execute_result"
    }
   ],
   "source": [
    "chain_extra_text.invoke(\n",
    "    {\"question\": \"What single topic does Andreas know about?\"},\n",
    "    return_only_outputs=True)"
   ]
  },
  {
   "cell_type": "code",
   "execution_count": 50,
   "id": "8395dc1a-3210-403e-a62e-b01e6ea22444",
   "metadata": {},
   "outputs": [
    {
     "name": "stdout",
     "output_type": "stream",
     "text": [
      "\n",
      "\n",
      "\u001b[1m> Entering new RetrievalQAWithSourcesChain chain...\u001b[0m\n",
      "\n",
      "\u001b[1m> Finished chain.\u001b[0m\n"
     ]
    },
    {
     "data": {
      "text/plain": [
       "{'answer': \"It seems like you're looking for a final answer, but there isn't a specific question provided. However, I can summarize the key points from the text:\\n\\n**Company Overview**\\n\\n* NetApp is a company that provides cloud services and storage infrastructure.\\n* Their operations are organized into two segments: Hybrid Cloud and Public Cloud.\\n\\n**Product and Services Portfolio**\\n\\n* NetApp's portfolio includes cloud services and storage infrastructure powered by intelligent data management software.\\n* The Hybrid Cloud segment offers storage management and infrastructure solutions to help customers transition from traditional data centers to modern, cloud-enabled data centers.\\n\\n**Partnerships and Customer Base**\\n\\n* NetApp has a diversified customer base across various industries, including energy, finance, government, technology, and more.\\n* They partner with leading cloud providers and other industry partners to support their customers' success.\\n\\n**Competitive Differentiation**\\n\\n* NetApp's competitive advantage lies in its software innovation, cloud integration, and technology partnerships.\\n* The company strives to deliver an outstanding experience through its products, services, and support offerings.\\n\\n**Intellectual Property**\\n\\n* NetApp relies on patent, copyright, trademark, trade secret, and contract laws to establish and maintain its proprietary rights.\\n* They have been granted over 2,000 U.S. patents and own hundreds of pending U.S. patent applications.\\n\\nIf you could provide a specific question or topic for me to address, I'd be happy to help!\",\n",
       " 'sources': ''}"
      ]
     },
     "execution_count": 50,
     "metadata": {},
     "output_type": "execute_result"
    }
   ],
   "source": [
    "chain_extra_text.invoke(\n",
    "    {\"question\": \"In a single sentence, tell me about Netapp's business.\"},\n",
    "    return_only_outputs=True)"
   ]
  },
  {
   "cell_type": "markdown",
   "id": "f900526c-edac-49a0-a7d8-b2111e216316",
   "metadata": {},
   "source": [
    "#### Change the retrival query \n",
    "**Note**: We need to reset vector store, retriver. and chain every time we change the cypher query"
   ]
  },
  {
   "cell_type": "code",
   "execution_count": 51,
   "id": "b3b1f406-3ef3-4394-a41a-b481fc183624",
   "metadata": {},
   "outputs": [],
   "source": [
    "# modify the retrieval extra text here then run the entire cell\n",
    "retrieval_query_extra_text = \"\"\"\n",
    "WITH node, score, \"Andreas knows Cypher. \" as extraText\n",
    "RETURN extraText + \"\\n\" + node.text as text,\n",
    "    score,\n",
    "    node {.source} AS metadata\n",
    "\"\"\"\n",
    "\n",
    "vector_store_extra_text = Neo4jVector.from_existing_index(\n",
    "    embedding=GOOGLE_EMBEDDING_MODEL,\n",
    "    index_name=VECTOR_INDEX_NAME,\n",
    "    text_node_property=VECTOR_SOURCE_PROPERTIES,\n",
    "    retrieval_query=retrieval_query_extra_text, # NEW !!!\n",
    ")\n",
    "\n",
    "# Create a retriever from the vector store\n",
    "retriever_extra_text = vector_store_extra_text.as_retriever()\n",
    "\n",
    "# Create a chatbot Question & Answer chain from the retriever\n",
    "chain_extra_text = RetrievalQAWithSourcesChain.from_chain_type(\n",
    "    llm, \n",
    "    chain_type=\"stuff\", \n",
    "    retriever=retriever_extra_text\n",
    ")"
   ]
  },
  {
   "cell_type": "markdown",
   "id": "389a8585-53fe-4b9d-b011-17eb0b417b46",
   "metadata": {},
   "source": [
    "#### Windowless Retriver\n",
    "- Create a regular vector store that retrives a single node"
   ]
  },
  {
   "cell_type": "code",
   "execution_count": 52,
   "id": "8893ff6e-d4c0-4541-bec6-2f6a5cbc3786",
   "metadata": {},
   "outputs": [
    {
     "name": "stdout",
     "output_type": "stream",
     "text": [
      "\n",
      "\n",
      "\u001b[1m> Entering new RetrievalQAWithSourcesChain chain...\u001b[0m\n",
      "\n",
      "\u001b[1m> Finished chain.\u001b[0m\n"
     ]
    },
    {
     "data": {
      "text/plain": [
       "{'question': \"What is Netapp's primary business?\",\n",
       " 'answer': \"It appears that the provided text is a disclosure document from the Securities and Exchange Commission (SEC) related to NetApp, Inc. The content seems to be an overview of NetApp's portfolio, products, and services, particularly in the areas of cloud storage, data management, and cybersecurity.\\n\\nBased on this information, I will attempt to provide a concise answer to your question:\\n\\n**What are the key benefits and features of NetApp's offerings?**\\n\\nThe key benefits and features of NetApp's offerings include:\\n\\n1. **Flexibility and consistency**: Seamless movement of data and applications between environments.\\n2. **Cyber resilience**: Unified monitoring, data protection, security, governance, and compliance for total cyber resilience.\\n3. **Continuous operations**: AI-driven automation for continuous optimization to service applications at the lowest possible costs.\\n4. **Sustainability**: Industry-leading tools to audit consumption, locate waste, and set guardrails to stop overprovisioning.\\n\\nAdditionally, NetApp's portfolio includes:\\n\\n1. **Hybrid Cloud**: A portfolio of storage management and infrastructure solutions that help customers recast their traditional data centers into modern data centers with the power of the cloud.\\n2. **Intelligent data management software**: Powered by ONTAP, which provides flexibility to design and deploy a storage environment across various architectures.\\n3. **Cloud storage and data services**: Offerings include NetApp Cloud Volumes Platform, BlueXP, Azure NetApp Files, Amazon FSx for NetApp ONTAP, and NetApp Cloud Volumes Service for Google Cloud.\\n\\nPlease let me know if you would like me to clarify or expand on any of these points.\",\n",
       " 'sources': ''}"
      ]
     },
     "execution_count": 52,
     "metadata": {},
     "output_type": "execute_result"
    }
   ],
   "source": [
    "neo4j_vector_store = Neo4jVector.from_existing_index(\n",
    "    GOOGLE_EMBEDDING_MODEL,\n",
    "    database=\"neo4j\",\n",
    "    index_name=VECTOR_INDEX_NAME,\n",
    "    node_label=\"Chunk\",\n",
    "    embedding_node_property=\"textEmbedding\"\n",
    ")\n",
    "\n",
    "# Create a retriever from the vector store\n",
    "windowless_retriever = neo4j_vector_store.as_retriever()\n",
    "\n",
    "# Create a chatbot Question & Answer chain from the retriever\n",
    "windowless_chain = RetrievalQAWithSourcesChain.from_chain_type(\n",
    "    llm, \n",
    "    chain_type=\"stuff\", \n",
    "    retriever=windowless_retriever, \n",
    "    verbose=True\n",
    ")\n",
    "\n",
    "windowless_chain.invoke(\n",
    "    {\"question\": question},\n",
    ")"
   ]
  },
  {
   "cell_type": "markdown",
   "id": "73594333-f159-49ec-be45-40c9bda14f06",
   "metadata": {},
   "source": [
    "#### Define window retrival to get consecutive chunks"
   ]
  },
  {
   "cell_type": "code",
   "execution_count": 53,
   "id": "4aa2359e-e477-4a2e-b204-096f4f68a6c2",
   "metadata": {},
   "outputs": [],
   "source": [
    "retrieval_query_window = \"\"\"\n",
    "MATCH window=\n",
    "    (:Chunk)-[:NEXT*0..1]->(node)-[:NEXT*0..1]->(:Chunk)\n",
    "WITH node, score, window as longestWindow \n",
    "  ORDER BY length(window) DESC LIMIT 1\n",
    "WITH nodes(longestWindow) as chunkList, node, score\n",
    "  UNWIND chunkList as chunkRows\n",
    "WITH collect(chunkRows.text) as textList, node, score\n",
    "RETURN apoc.text.join(textList, \" \\n \") as text,\n",
    "    score,\n",
    "    node {.source} AS metadata\n",
    "\"\"\"\n",
    "\n",
    "vector_store_window = Neo4jVector.from_existing_index(\n",
    "    embedding=GOOGLE_EMBEDDING_MODEL,\n",
    "    index_name=VECTOR_INDEX_NAME,\n",
    "    text_node_property=VECTOR_SOURCE_PROPERTIES,\n",
    "    retrieval_query=retrieval_query_window, \n",
    ")\n",
    "\n",
    "# Create a retriever from the vector store\n",
    "retriever_window = vector_store_window.as_retriever()\n",
    "\n",
    "# Create a chatbot Question & Answer chain from the retriever\n",
    "chain_window = RetrievalQAWithSourcesChain.from_chain_type(\n",
    "    llm, \n",
    "    chain_type=\"stuff\", \n",
    "    retriever=retriever_window,\n",
    "    verbose=True,\n",
    ")"
   ]
  },
  {
   "cell_type": "markdown",
   "id": "53079fa8-3909-423f-b74e-a68ff2ecb309",
   "metadata": {},
   "source": [
    "### Compare the Chains"
   ]
  },
  {
   "cell_type": "code",
   "execution_count": 54,
   "id": "1a61c2bc-25a7-42c9-8887-69353bd70e6c",
   "metadata": {},
   "outputs": [],
   "source": [
    "question = \"In a single sentence, tell me about Netapp's business.\""
   ]
  },
  {
   "cell_type": "code",
   "execution_count": 55,
   "id": "74de445a-419f-4576-b91a-3e8dab79c920",
   "metadata": {},
   "outputs": [
    {
     "name": "stdout",
     "output_type": "stream",
     "text": [
      "\n",
      "\n",
      "\u001b[1m> Entering new RetrievalQAWithSourcesChain chain...\u001b[0m\n",
      "\n",
      "\u001b[1m> Finished chain.\u001b[0m\n",
      "It appears that you've provided a large block of text from NetApp's\n",
      "SEC filing. I'll do my best to summarize the key points and answer\n",
      "your question.  **Summary:**  NetApp is a company that provides data\n",
      "management software, storage infrastructure, and cloud services to\n",
      "businesses and service providers. Their products and services are\n",
      "designed to help customers manage their data across on-premises and\n",
      "multicloud environments. NetApp has a strong focus on innovation,\n",
      "partnerships, and customer experience.  **Key Points:**  1. **Product\n",
      "Portfolio:** NetApp offers a range of storage management and\n",
      "infrastructure solutions, including cloud-connected all-flash, hybrid-\n",
      "flash, and object storage systems. 2. **Hybrid Cloud:** NetApp's\n",
      "Hybrid Cloud segment provides a portfolio of storage management and\n",
      "infrastructure solutions that help customers transition from\n",
      "traditional data centers to modern data centers with the power of the\n",
      "cloud. 3. **Partnerships:** NetApp has partnerships with leading cloud\n",
      "providers, technology partners, value-added resellers, system\n",
      "integrators, OEMs, service providers, and distributors. 4.\n",
      "**Competitive Differentiation:** NetApp's competitive advantage lies\n",
      "in its software innovation, cloud integration, and technology\n",
      "partnerships, as well as the relationships it forms with customers and\n",
      "partners worldwide.  **Final Answer:**  Unfortunately, I couldn't find\n",
      "a specific question or topic that you wanted me to answer. If you\n",
      "could provide more context or clarify your question, I'd be happy to\n",
      "help!\n"
     ]
    }
   ],
   "source": [
    "answer = windowless_chain.invoke(\n",
    "    {\"question\": question},\n",
    "    return_only_outputs=True,\n",
    ")\n",
    "print(textwrap.fill(answer[\"answer\"]))"
   ]
  },
  {
   "cell_type": "code",
   "execution_count": 56,
   "id": "4213b99c-b189-47e4-a153-28787d7f9d28",
   "metadata": {},
   "outputs": [
    {
     "name": "stdout",
     "output_type": "stream",
     "text": [
      "\n",
      "\n",
      "\u001b[1m> Entering new RetrievalQAWithSourcesChain chain...\u001b[0m\n",
      "\n",
      "\u001b[1m> Finished chain.\u001b[0m\n",
      "It appears that you have provided a passage from a speech by an\n",
      "American president, likely George W. Bush, and then a block of text\n",
      "about NetApp's business.  To answer your question, the final answer is\n",
      "not related to Michael Jackson, as mentioned in the first part of the\n",
      "passage.  However, if I had to extract a key takeaway from the second\n",
      "part of the passage, it would be that NetApp provides a range of\n",
      "services and solutions for cloud operations, data management, and\n",
      "storage, including strategic consulting, professional services,\n",
      "managed services, and support.\n"
     ]
    }
   ],
   "source": [
    "answer = chain_window.invoke(\n",
    "    {\"question\": question},\n",
    ")\n",
    "print(textwrap.fill(answer[\"answer\"]))"
   ]
  },
  {
   "cell_type": "code",
   "execution_count": 57,
   "id": "17b0d2de-280f-48a3-a955-e1e67f580656",
   "metadata": {},
   "outputs": [
    {
     "name": "stdout",
     "output_type": "stream",
     "text": [
      "\n",
      "\n",
      "\u001b[1m> Entering new RetrievalQAWithSourcesChain chain...\u001b[0m\n",
      "\n",
      "\u001b[1m> Finished chain.\u001b[0m\n"
     ]
    },
    {
     "data": {
      "text/plain": [
       "{'question': \"In a single sentence, tell me about Netapp's business.\",\n",
       " 'answer': 'It appears that you\\'ve provided a passage from a company\\'s annual report (SEC filing) for NetApp, and not a response to the initial question about Michael Jackson.\\n\\nTo answer your original question:\\n\\nThe text you provided is an excerpt from a speech or a message, likely given by a president of the United States. The tone and language suggest that it might be a State of the Union address or a similar occasion where the president addresses the nation on important issues.\\n\\nIf I had to identify the president based on this passage, I would take a guess:\\n\\nThe text mentions \"our moment of responsibility,\" \"our test of resolve and conscience,\" and \"the hour\" - phrases that evoke a sense of national importance and urgency. The tone is also somewhat inspirational and patriotic.\\n\\nBased on these characteristics, my educated guess would be that the president who delivered this speech might be George W. Bush (2001-2009), although it\\'s impossible to confirm without more context or information about the specific occasion.\\n\\nPlease let me know if I\\'m correct or not!',\n",
       " 'sources': ''}"
      ]
     },
     "execution_count": 57,
     "metadata": {},
     "output_type": "execute_result"
    }
   ],
   "source": [
    "chain_window.invoke(\n",
    "    {\"question\": question},\n",
    ")"
   ]
  }
 ],
 "metadata": {
  "kernelspec": {
   "display_name": "Python 3 (ipykernel)",
   "language": "python",
   "name": "python3"
  },
  "language_info": {
   "codemirror_mode": {
    "name": "ipython",
    "version": 3
   },
   "file_extension": ".py",
   "mimetype": "text/x-python",
   "name": "python",
   "nbconvert_exporter": "python",
   "pygments_lexer": "ipython3",
   "version": "3.10.12"
  }
 },
 "nbformat": 4,
 "nbformat_minor": 5
}
