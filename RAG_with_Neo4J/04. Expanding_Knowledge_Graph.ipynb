{
 "cells": [
  {
   "cell_type": "code",
   "execution_count": 1,
   "id": "3a68702b-b16f-4947-9601-7fb9d243488f",
   "metadata": {},
   "outputs": [],
   "source": [
    "import os\n",
    "import csv\n",
    "import textwrap\n",
    "\n",
    "from langchain_community.graphs import Neo4jGraph\n",
    "from langchain_community.vectorstores import Neo4jVector\n",
    "from langchain_text_splitters import RecursiveCharacterTextSplitter\n",
    "from langchain.chains import RetrievalQAWithSourcesChain\n",
    "from langchain_google_genai import GoogleGenerativeAI\n",
    "from langchain_google_genai import GoogleGenerativeAIEmbeddings\n",
    "\n",
    "# graph \n",
    "from yfiles_jupyter_graphs import GraphWidget\n",
    "\n",
    "from dotenv import load_dotenv"
   ]
  },
  {
   "cell_type": "code",
   "execution_count": 2,
   "id": "2bb0c790-7cf8-468e-a975-e0d6ee27ac68",
   "metadata": {},
   "outputs": [],
   "source": [
    "# load the environment\n",
    "load_dotenv()\n",
    "\n",
    "# Global constants\n",
    "VECTOR_INDEX_NAME = \"form_10k_chunks\"\n",
    "VECTOR_NODE_LABEL = \"Chunk\"\n",
    "VECTOR_SOURCE_PROPERTY = \"text\"\n",
    "VECTOR_EMBEDDING_PROPERTY = \"textEmbedding\"\n",
    "\n",
    "# initialize the embedding model\n",
    "GOOGLE_EMBEDDING_MODEL = GoogleGenerativeAIEmbeddings(model=\"models/embedding-001\")\n",
    "# initiate the google gemini pro model\n",
    "LLM = GoogleGenerativeAI(model=\"models/gemini-1.5-pro-latest\", temperature=0.0)"
   ]
  },
  {
   "cell_type": "code",
   "execution_count": 3,
   "id": "1e990ee8-ecf3-4452-8a70-7265ad692c46",
   "metadata": {},
   "outputs": [],
   "source": [
    "# initiate the graph database\n",
    "# all data are get from .env file for connection with graph database\n",
    "graph = Neo4jGraph()"
   ]
  },
  {
   "cell_type": "markdown",
   "id": "6bad9af2-ef32-4c64-b847-4598ca175d79",
   "metadata": {},
   "source": [
    "## Read the collection of Form 13s\n",
    "- Investment management firms must report on their investments in companies to SEC by filing a document called **Form 13**\n",
    "- You'll load a collection of Form 13 for managers that have invested in NetApp\n",
    "- You can check out the CSV file by navigating to the data directly using the File menu at the top of the notebook"
   ]
  },
  {
   "cell_type": "code",
   "execution_count": 4,
   "id": "947f697f-9d49-4722-b968-d86a4e37d6be",
   "metadata": {},
   "outputs": [
    {
     "name": "stdout",
     "output_type": "stream",
     "text": [
      ">>>Total records:  561\n",
      ">>>Sample records:  {'source': 'https://sec.gov/Archives/edgar/data/1000275/0001140361-23-039575.txt', 'managerCik': '1000275', 'managerAddress': 'ROYAL BANK PLAZA, 200 BAY STREET, TORONTO, A6, M5J2J5', 'managerName': 'Royal Bank of Canada', 'reportCalendarOrQuarter': '2023-06-30', 'cusip6': '64110D', 'cusip': '64110D104', 'companyName': 'NETAPP INC', 'value': '64395000000.0', 'shares': '842850'}\n"
     ]
    }
   ],
   "source": [
    "all_form13s = []\n",
    "\n",
    "with open(\"./data/form13.csv\", mode=\"r\") as csv_file:\n",
    "    csv_reader = csv.DictReader(csv_file)\n",
    "    # each row is dictionary\n",
    "    for row in csv_reader:\n",
    "        all_form13s.append(row)\n",
    "\n",
    "print(\">>>Total records: \", len(all_form13s))\n",
    "print(\">>>Sample records: \", all_form13s[0])"
   ]
  },
  {
   "cell_type": "markdown",
   "id": "0378281d-2739-433f-849b-ac689425c580",
   "metadata": {},
   "source": [
    "## Create company nodes in the graph\n",
    "- Use the companies identified in the Form 13s to create `Company` nodes\n",
    "- Here there is only one company - NetApp"
   ]
  },
  {
   "cell_type": "code",
   "execution_count": 5,
   "id": "296a45cb-8d73-434c-a2ab-e616728b055f",
   "metadata": {},
   "outputs": [
    {
     "data": {
      "text/plain": [
       "[]"
      ]
     },
     "execution_count": 5,
     "metadata": {},
     "output_type": "execute_result"
    }
   ],
   "source": [
    "# Select the first row from the form 13s\n",
    "first_form13s = all_form13s[0]\n",
    "\n",
    "# Define Cypher query\n",
    "cypher_query = \"\"\"\n",
    "MERGE (com:Company {cusip6: $cusip6})\n",
    "    ON CREATE\n",
    "        SET com.companyName = $companyName,\n",
    "            com.cusip = $cusip\n",
    "\"\"\"\n",
    "\n",
    "# Execute the query\n",
    "graph.query(cypher_query, params={\n",
    "    \"cusip6\": first_form13s[\"cusip6\"],\n",
    "    \"companyName\": first_form13s[\"companyName\"],\n",
    "    \"cusip\": first_form13s[\"cusip\"],\n",
    "})\n"
   ]
  },
  {
   "cell_type": "code",
   "execution_count": 6,
   "id": "88c0300b-2a87-4c92-975a-e8801073d763",
   "metadata": {},
   "outputs": [
    {
     "data": {
      "text/plain": [
       "[{'com': {'cusip': '64110D104',\n",
       "   'companyName': 'NETAPP INC',\n",
       "   'cusip6': '64110D'}}]"
      ]
     },
     "execution_count": 6,
     "metadata": {},
     "output_type": "execute_result"
    }
   ],
   "source": [
    "# validate the query above\n",
    "cypher = \"\"\"\n",
    "MATCH (com:Company)\n",
    "RETURN com LIMIT 1\n",
    "\"\"\"\n",
    "\n",
    "graph.query(cypher)"
   ]
  },
  {
   "cell_type": "markdown",
   "id": "89b3a600-99e1-4952-b619-876318e3a63b",
   "metadata": {},
   "source": [
    "### Update the company name to match Form 10-k"
   ]
  },
  {
   "cell_type": "code",
   "execution_count": 7,
   "id": "3253be6e-311f-45b2-a80d-b56a0af025bc",
   "metadata": {},
   "outputs": [
    {
     "data": {
      "text/plain": [
       "[{'com.companyName': 'NETAPP INC', 'form.names': ['Netapp Inc', 'NETAPP INC']}]"
      ]
     },
     "execution_count": 7,
     "metadata": {},
     "output_type": "execute_result"
    }
   ],
   "source": [
    "cypher = \"\"\"\n",
    "MATCH (com:Company), (form:Form)\n",
    "    WHERE com.cusip6 = form.cusip6\n",
    "RETURN com.companyName, form.names\n",
    "\"\"\"\n",
    "graph.query(cypher)"
   ]
  },
  {
   "cell_type": "code",
   "execution_count": 8,
   "id": "b9f208f5-5ed1-442c-9f05-0f211fa18832",
   "metadata": {},
   "outputs": [
    {
     "data": {
      "text/plain": [
       "[]"
      ]
     },
     "execution_count": 8,
     "metadata": {},
     "output_type": "execute_result"
    }
   ],
   "source": [
    "cypher = \"\"\"\n",
    "MATCH (com:Company), (form:Form)\n",
    "    WHERE com.cusip6 = form.cusip6\n",
    "SET com.names=form.names\n",
    "\"\"\"\n",
    "\n",
    "graph.query(cypher)"
   ]
  },
  {
   "cell_type": "markdown",
   "id": "e1af67e2-6e4a-4f87-a429-173dec50781f",
   "metadata": {},
   "source": [
    "### Create a `FILED` relationship between the company and the Form-10k node"
   ]
  },
  {
   "cell_type": "code",
   "execution_count": 9,
   "id": "6bf9452c-fda3-4e23-9dc3-803ec6d33331",
   "metadata": {},
   "outputs": [
    {
     "data": {
      "text/plain": [
       "[]"
      ]
     },
     "execution_count": 9,
     "metadata": {},
     "output_type": "execute_result"
    }
   ],
   "source": [
    "graph.query(\"\"\"\n",
    "MATCH (com:Company), (form:Form)\n",
    "    WHERE com.cusip6 = form.cusip6\n",
    "MERGE (com)-[:FILED]->(form)\n",
    "\"\"\")"
   ]
  },
  {
   "cell_type": "markdown",
   "id": "2aa615fe-b9e9-4dda-8a29-abc7e54eac66",
   "metadata": {},
   "source": [
    "### Create manaager nodes\n",
    "- Create a `manager` node for companies that have filed a Form 13 to report their investment in NetApp\n",
    "- Start with the single manager who filed the Form 13 in the list"
   ]
  },
  {
   "cell_type": "code",
   "execution_count": 10,
   "id": "9c63be9a-a5c0-4315-b13f-1088cdb04e72",
   "metadata": {},
   "outputs": [
    {
     "data": {
      "text/plain": [
       "[]"
      ]
     },
     "execution_count": 10,
     "metadata": {},
     "output_type": "execute_result"
    }
   ],
   "source": [
    "cypher = \"\"\"\n",
    "MERGE (mgr:Manager {managerCik: $managerParam.managerCik})\n",
    "  ON CREATE\n",
    "      SET mgr.managerName = $managerParam.managerName,\n",
    "          mgr.managerAddress = $managerParam.managerAddress\n",
    "\"\"\"\n",
    "\n",
    "graph.query(cypher, params={\"managerParam\": first_form13s})"
   ]
  },
  {
   "cell_type": "code",
   "execution_count": 11,
   "id": "2d1ef81f-ba6b-47aa-be31-7ea0b20b9523",
   "metadata": {},
   "outputs": [
    {
     "data": {
      "text/plain": [
       "[{'mgr': {'managerCik': '1000275',\n",
       "   'managerAddress': 'ROYAL BANK PLAZA, 200 BAY STREET, TORONTO, A6, M5J2J5',\n",
       "   'managerName': 'Royal Bank of Canada'}}]"
      ]
     },
     "execution_count": 11,
     "metadata": {},
     "output_type": "execute_result"
    }
   ],
   "source": [
    "graph.query(\"\"\"\n",
    "MATCH (mgr:Manager)\n",
    "RETURN mgr LIMIT 1\n",
    "\"\"\")"
   ]
  },
  {
   "cell_type": "markdown",
   "id": "4d406394-3fb3-43fa-86de-a66e59dbcb27",
   "metadata": {},
   "source": [
    "### Create a uniqueness constraint to avoid duplicate managers"
   ]
  },
  {
   "cell_type": "code",
   "execution_count": 12,
   "id": "b3d4fbf5-9fce-4a0c-94b5-fc9df02d9c5c",
   "metadata": {},
   "outputs": [
    {
     "data": {
      "text/plain": [
       "[]"
      ]
     },
     "execution_count": 12,
     "metadata": {},
     "output_type": "execute_result"
    }
   ],
   "source": [
    "graph.query(\"\"\"\n",
    "CREATE CONSTRAINT unique_manager\n",
    "    IF NOT EXISTS\n",
    "    FOR (n:Manager)\n",
    "    REQUIRE n.managerCik IS UNIQUE\n",
    "\"\"\")"
   ]
  },
  {
   "cell_type": "markdown",
   "id": "ba723678-9711-45be-916d-1a516be8da41",
   "metadata": {},
   "source": [
    "### Create a fulltext index of manager names to enable text search"
   ]
  },
  {
   "cell_type": "code",
   "execution_count": 13,
   "id": "bc228d24-d370-48dd-b03a-cf6917fd359a",
   "metadata": {},
   "outputs": [
    {
     "name": "stdout",
     "output_type": "stream",
     "text": [
      "{'node': {'managerCik': '1000275', 'managerAddress': 'ROYAL BANK PLAZA, 200 BAY STREET, TORONTO, A6, M5J2J5', 'managerName': 'Royal Bank of Canada'}, 'score': 0.2615291476249695}\n"
     ]
    }
   ],
   "source": [
    "graph.query(\"\"\"\n",
    "CREATE FULLTEXT INDEX fullTextManagerNames\n",
    "    IF NOT EXISTS\n",
    "    FOR (mgr:Manager)\n",
    "    ON EACH [mgr.managerName]\n",
    "\"\"\")\n",
    "\n",
    "\n",
    "# do search in index as test\n",
    "results = graph.query(\"\"\"\n",
    "CALL db.index.fulltext.queryNodes(\"fullTextManagerNames\",\n",
    "    \"royal bank\") YIELD node, score\n",
    "\"\"\")\n",
    "\n",
    "print(results[0])"
   ]
  },
  {
   "cell_type": "markdown",
   "id": "6e429be1-50f9-413c-a982-2b2f5e039545",
   "metadata": {},
   "source": [
    "### Create nodes for all companies that filed a Form 13"
   ]
  },
  {
   "cell_type": "code",
   "execution_count": 14,
   "id": "7b1fb29a-c6a7-4389-81de-d4a6e29a31ef",
   "metadata": {},
   "outputs": [],
   "source": [
    "# Define Cypher query\n",
    "cypher = \"\"\"\n",
    "MERGE (mgr:Manager {managerCik: $managerParam.managerCik})\n",
    "  ON CREATE\n",
    "      SET mgr.managerName = $managerParam.managerName,\n",
    "          mgr.managerAddress = $managerParam.managerAddress\n",
    "\"\"\"\n",
    "\n",
    "# Loop through all Form 13s\n",
    "for form13 in all_form13s:\n",
    "    # Execute the query\n",
    "    graph.query(cypher, params={\"managerParam\": form13})\n"
   ]
  },
  {
   "cell_type": "code",
   "execution_count": 15,
   "id": "ce54f96e-6020-41f0-b71e-d13e07dd3816",
   "metadata": {},
   "outputs": [
    {
     "data": {
      "text/plain": [
       "[{'count(mgr)': 561}]"
      ]
     },
     "execution_count": 15,
     "metadata": {},
     "output_type": "execute_result"
    }
   ],
   "source": [
    "# count number of manager in graph\n",
    "graph.query(\"\"\"\n",
    "MATCH (mgr:Manager)\n",
    "RETURN count(mgr)\n",
    "\"\"\")"
   ]
  },
  {
   "cell_type": "markdown",
   "id": "ec57aaf0-0811-48a2-9a14-741bfb6e7f66",
   "metadata": {},
   "source": [
    "## Create relationships between managerrs and companies\n",
    "- Match companies with managers based on data in the Form 13\n",
    "- Create an `OWNS_STOCK_IN` relationship between the manager and the company\n",
    "- Dtart with the single manager who filed the first Form 13 in the list"
   ]
  },
  {
   "cell_type": "code",
   "execution_count": 16,
   "id": "54c2b826-ad84-407e-a744-9f4571f00de6",
   "metadata": {},
   "outputs": [
    {
     "data": {
      "text/plain": [
       "[{'mgr.maangerName': None,\n",
       "  'com.companyName': 'NETAPP INC',\n",
       "  'inverstmenet': {'shares': '842850',\n",
       "   'source': 'https://sec.gov/Archives/edgar/data/1000275/0001140361-23-039575.txt',\n",
       "   'managerName': 'Royal Bank of Canada',\n",
       "   'managerAddress': 'ROYAL BANK PLAZA, 200 BAY STREET, TORONTO, A6, M5J2J5',\n",
       "   'value': '64395000000.0',\n",
       "   'cusip6': '64110D',\n",
       "   'cusip': '64110D104',\n",
       "   'reportCalendarOrQuarter': '2023-06-30',\n",
       "   'companyName': 'NETAPP INC',\n",
       "   'managerCik': '1000275'}}]"
      ]
     },
     "execution_count": 16,
     "metadata": {},
     "output_type": "execute_result"
    }
   ],
   "source": [
    "cypher = \"\"\"\n",
    "MATCH (mgr:Manager {managerCik: $investmentParam.managerCik}),\n",
    "    (com:Company {cusip6: $investmentParam.cusip6})\n",
    "RETURN mgr.maangerName, com.companyName, $investmentParam as inverstmenet\n",
    "\"\"\"\n",
    "\n",
    "graph.query(cypher, params={\n",
    "    \"investmentParam\": first_form13s\n",
    "})"
   ]
  },
  {
   "cell_type": "code",
   "execution_count": 17,
   "id": "dea45406-6eec-4d62-b3f7-e90dc4bc2b1a",
   "metadata": {},
   "outputs": [
    {
     "data": {
      "text/plain": [
       "[{'mgr.managerName': 'Royal Bank of Canada',\n",
       "  'owns.reportCalendarOrQuarter': '2023-06-30',\n",
       "  'com.companyName': 'NETAPP INC'}]"
      ]
     },
     "execution_count": 17,
     "metadata": {},
     "output_type": "execute_result"
    }
   ],
   "source": [
    "# create relationship between manager and company for first record.\n",
    "# relation has property\n",
    "cypher = \"\"\"\n",
    "MATCH (mgr:Manager {managerCik: $ownsParam.managerCik}),\n",
    "    (com:Company {cusip6: $ownsParam.cusip6})\n",
    "MERGE (mgr)-[owns:OWNS_STOCK_IN {\n",
    "    reportCalendarOrQuarter: $ownsParam.reportCalendarOrQuarter\n",
    "}]->(com)\n",
    "ON CREATE\n",
    "    SET owns.value = toFloat($ownsParam.value),\n",
    "        owns.shares = toInteger($ownsParam.shares)\n",
    "RETURN mgr.managerName, owns.reportCalendarOrQuarter, com.companyName\n",
    "\"\"\"\n",
    "\n",
    "graph.query(cypher, params={\n",
    "    \"ownsParam\": first_form13s})"
   ]
  },
  {
   "cell_type": "code",
   "execution_count": 18,
   "id": "42f5ef2c-928b-4c3e-9965-f520b4124eb4",
   "metadata": {},
   "outputs": [
    {
     "data": {
      "text/plain": [
       "[{'owns': {'shares': 842850, 'value': 64395000000.0}}]"
      ]
     },
     "execution_count": 18,
     "metadata": {},
     "output_type": "execute_result"
    }
   ],
   "source": [
    "cypher = \"\"\"\n",
    "MATCH (mgr:Manager {managerCik: $ownsParam.managerCik})\n",
    "-[owns:OWNS_STOCK_IN]->(com:Company { cusip6: $ownsParam.cusip6})\n",
    "RETURN owns {.shares, .value }\n",
    "\"\"\"\n",
    "\n",
    "graph.query(cypher, params={\"ownsParam\": first_form13s})"
   ]
  },
  {
   "cell_type": "markdown",
   "id": "932fbb09-9cc4-4230-b921-48a7c9ae8c56",
   "metadata": {},
   "source": [
    "### Create relationships between all of the maangers who filed Form 13s and the company"
   ]
  },
  {
   "cell_type": "code",
   "execution_count": 19,
   "id": "fd5c7780-24d6-4bc6-9d3f-a460bd3857db",
   "metadata": {},
   "outputs": [
    {
     "data": {
      "text/plain": [
       "[{'investments': 561}]"
      ]
     },
     "execution_count": 19,
     "metadata": {},
     "output_type": "execute_result"
    }
   ],
   "source": [
    "cypher = \"\"\"\n",
    "MATCH (mgr:Manager {managerCik: $ownsParam.managerCik}),\n",
    "    (com:Company {cusip6: $ownsParam.cusip6})\n",
    "MERGE (mgr)-[owns:OWNS_STOCK_IN {\n",
    "    reportCalendarOrQuarter: $ownsParam.reportCalendarOrQuarter\n",
    "    }]->(com)\n",
    "    ON CREATE \n",
    "        SET owns.value = toFloat($ownsParam.value),\n",
    "            owns.shares = toInteger($ownsParam.shares)\n",
    "\"\"\"\n",
    "\n",
    "# loop through all Form 13s\n",
    "for form13 in all_form13s:\n",
    "    graph.query(cypher, params={\"ownsParam\": form13})\n",
    "\n",
    "# display how much is reeleation of manager owning stock in company\n",
    "cypher = \"\"\"\n",
    "MATCH (:Manager)-[owns:OWNS_STOCK_IN]->(:Company)\n",
    "RETURN count(owns) as investments\n",
    "\"\"\"\n",
    "\n",
    "graph.query(cypher)"
   ]
  },
  {
   "cell_type": "markdown",
   "id": "7c19d391-6244-4609-af23-53d410537da3",
   "metadata": {},
   "source": [
    "### Determine the number of investors\n",
    "- Start by finding a form 10-k chunk, and save to use in subsequent queries"
   ]
  },
  {
   "cell_type": "code",
   "execution_count": 20,
   "id": "b7767a32-4044-4961-86f7-c164c646bcb3",
   "metadata": {},
   "outputs": [
    {
     "name": "stdout",
     "output_type": "stream",
     "text": [
      "[{'ChunkId': '0000950170-23-027948--item1-chunk0000'}]\n"
     ]
    }
   ],
   "source": [
    "cypher = \"\"\"\n",
    "MATCH (chunk:Chunk)\n",
    "RETURN chunk.chunkId as ChunkId LIMIT 1\n",
    "\"\"\"\n",
    "\n",
    "chunk_rows = graph.query(cypher)\n",
    "print(chunk_rows)"
   ]
  },
  {
   "cell_type": "markdown",
   "id": "0d05a517-6cc8-4428-8cc4-34c32fd4d4cd",
   "metadata": {},
   "source": [
    "### Display shcema "
   ]
  },
  {
   "cell_type": "code",
   "execution_count": 21,
   "id": "f4a5868f-71fe-4f82-8180-1c02c6cb7d72",
   "metadata": {},
   "outputs": [
    {
     "name": "stdout",
     "output_type": "stream",
     "text": [
      "Node properties: Movie {title: STRING, taglineEmbedding: LIST, tagline: STRING,\n",
      "released: INTEGER} Person {born: INTEGER, name: STRING} Chunk {text: STRING,\n",
      "textEmbedding: LIST, source: STRING, f10kItem: STRING, chunkSeqId: INTEGER, cik:\n",
      "STRING, cusip6: STRING, chunkId: STRING, names: LIST, formId: STRING} Form {cik:\n",
      "STRING, cusip6: STRING, names: LIST, formId: STRING, source: STRING} Company\n",
      "{cusip6: STRING, names: LIST, companyName: STRING, cusip: STRING} Manager\n",
      "{managerName: STRING, managerCik: STRING, managerAddress: STRING} Relationship\n",
      "properties: SECTION {f10kItem: STRING} OWNS_STOCK_IN {shares: INTEGER,\n",
      "reportCalendarOrQuarter: STRING, value: FLOAT} The relationships:\n",
      "(:Person)-[:WORKS_WITH]->(:Person) (:Chunk)-[:NEXT]->(:Chunk)\n",
      "(:Chunk)-[:PART_OF]->(:Form) (:Form)-[:SECTION]->(:Chunk)\n",
      "(:Company)-[:FILED]->(:Form) (:Manager)-[:OWNS_STOCK_IN]->(:Company)\n"
     ]
    }
   ],
   "source": [
    "graph.refresh_schema()\n",
    "print(textwrap.fill(graph.schema, 80))"
   ]
  },
  {
   "cell_type": "code",
   "execution_count": 22,
   "id": "79f2f3c4-62a8-456c-aa90-b7d834c3a414",
   "metadata": {},
   "outputs": [
    {
     "data": {
      "application/vnd.jupyter.widget-view+json": {
       "model_id": "fed4aa2e693d459bbefc6bec74267aaa",
       "version_major": 2,
       "version_minor": 0
      },
      "text/plain": [
       "GraphWidget(layout=Layout(height='790px', width='100%'))"
      ]
     },
     "metadata": {},
     "output_type": "display_data"
    }
   ],
   "source": [
    "from neo4j import GraphDatabase\n",
    "\n",
    "# directly show the graph resulting from the given Cypher query\n",
    "default_cypher = \"MATCH (s)-[r:!MENTIONS]->(t) RETURN s,r,t LIMIT 50\"\n",
    "\n",
    "def showGraph(cypher: str = default_cypher):\n",
    "    # create a neo4j session to run queries\n",
    "    driver = GraphDatabase.driver(\n",
    "        uri = os.environ[\"NEO4J_URI\"],\n",
    "        auth = (os.environ[\"NEO4J_USERNAME\"],\n",
    "                os.environ[\"NEO4J_PASSWORD\"]))\n",
    "    session = driver.session()\n",
    "    widget = GraphWidget(graph = session.run(cypher).graph())\n",
    "    widget.node_label_mapping = 'id'\n",
    "    #display(widget)\n",
    "    return widget\n",
    "\n",
    "showGraph()"
   ]
  },
  {
   "cell_type": "markdown",
   "id": "e95245eb-bd6f-47f2-acbb-69dce453aaa7",
   "metadata": {},
   "source": [
    "### Determine the number of investors\n",
    "- Start by finding a form 10-k chunk and save to use in subsequent queries "
   ]
  },
  {
   "cell_type": "code",
   "execution_count": 23,
   "id": "6230e32c-f843-4977-a8a0-0561cb170604",
   "metadata": {},
   "outputs": [
    {
     "data": {
      "text/plain": [
       "[{'chunkId': '0000950170-23-027948--item1-chunk0000'}]"
      ]
     },
     "execution_count": 23,
     "metadata": {},
     "output_type": "execute_result"
    }
   ],
   "source": [
    "cypher = \"\"\"\n",
    "MATCH (chunk:Chunk)\n",
    "RETURN chunk.chunkId as chunkId LIMIT 1\n",
    "\"\"\"\n",
    "\n",
    "chunk_rows = graph.query(cypher)\n",
    "chunk_rows"
   ]
  },
  {
   "cell_type": "code",
   "execution_count": 24,
   "id": "b25e5cdd-b2fc-4fbd-ba31-5fde7ac58e9a",
   "metadata": {},
   "outputs": [
    {
     "data": {
      "text/plain": [
       "[{'f.source': 'https://www.sec.gov/Archives/edgar/data/1002047/000095017023027948/0000950170-23-027948-index.htm'}]"
      ]
     },
     "execution_count": 24,
     "metadata": {},
     "output_type": "execute_result"
    }
   ],
   "source": [
    "ref_chunk_id = chunk_rows[0][\"chunkId\"]\n",
    "\n",
    "cypher = \"\"\"\n",
    "MATCH (:Chunk {chunkId: $chunkIdParam})-[:PART_OF]->(f:Form)\n",
    "RETURN f.source\n",
    "\"\"\"\n",
    "\n",
    "graph.query(cypher, params={\"chunkIdParam\": ref_chunk_id})"
   ]
  },
  {
   "cell_type": "code",
   "execution_count": 25,
   "id": "43eab129-6555-4fb8-b73f-65265348f16f",
   "metadata": {},
   "outputs": [
    {
     "data": {
      "text/plain": [
       "[{'name': 'NETAPP INC'}]"
      ]
     },
     "execution_count": 25,
     "metadata": {},
     "output_type": "execute_result"
    }
   ],
   "source": [
    "cypher = \"\"\"\n",
    "MATCH (:Chunk {chunkId: $chunkIdParam})-[:PART_OF]->(f:Form),\n",
    "    (com:Company)-[:FILED]->(f)\n",
    "RETURN com.companyName as name\n",
    "\"\"\"\n",
    "\n",
    "# execute the query\n",
    "graph.query(cypher, params={'chunkIdParam': ref_chunk_id})"
   ]
  },
  {
   "cell_type": "code",
   "execution_count": 26,
   "id": "c023b238-c65f-4b34-932a-d75daf1c0f8f",
   "metadata": {},
   "outputs": [
    {
     "name": "stdout",
     "output_type": "stream",
     "text": [
      "[{'com.companyName': 'NETAPP INC', 'numberOfInvestors': 561}]\n"
     ]
    }
   ],
   "source": [
    "cypher_query = \"\"\"\n",
    "MATCH (:Chunk {chunkId: $chunkIdParam})-[:PART_OF]->(f:Form),\n",
    "(com:Company)-[:FILED]->(f),\n",
    "(mgr:Manager)-[:OWNS_STOCK_IN]->(com)\n",
    "RETURN com.companyName,\n",
    "count(mgr.managerName) as numberOfInvestors\n",
    "LIMIT 1\n",
    "\"\"\"\n",
    "\n",
    "result = graph.query(cypher_query, params={\n",
    "    \"chunkIdParam\": ref_chunk_id\n",
    "})\n",
    "\n",
    "print(result)"
   ]
  },
  {
   "cell_type": "markdown",
   "id": "a11fcfba-e0cf-487f-abdd-7e15b7103972",
   "metadata": {},
   "source": [
    "### Use queries to build additional context for LLM\n",
    "- Create sentences that indicate how much stock a manager has invested in a company"
   ]
  },
  {
   "cell_type": "code",
   "execution_count": 27,
   "id": "1f73dbf0-3cbb-49e6-9f6b-33027c1ee4fa",
   "metadata": {},
   "outputs": [
    {
     "data": {
      "text/plain": [
       "[{'text': 'CSS LLC/IL owns 12500 shares of NETAPP INC at a value of $955,000,000'},\n",
       " {'text': 'BOKF, NA owns 40774 shares of NETAPP INC at a value of $3,115,134,000'},\n",
       " {'text': 'BANK OF NOVA SCOTIA owns 18676 shares of NETAPP INC at a value of $1,426,847,000'},\n",
       " {'text': 'Jefferies Financial Group Inc. owns 23200 shares of NETAPP INC at a value of $1,772,480,000'},\n",
       " {'text': 'DEUTSCHE BANK AG\\\\ owns 929854 shares of NETAPP INC at a value of $71,040,845,000'},\n",
       " {'text': 'TORONTO DOMINION BANK owns 183163 shares of NETAPP INC at a value of $13,984,000'},\n",
       " {'text': 'STATE BOARD OF ADMINISTRATION OF FLORIDA RETIREMENT SYSTEM owns 265756 shares of NETAPP INC at a value of $20,303,759,000'},\n",
       " {'text': 'NISA INVESTMENT ADVISORS, LLC owns 67848 shares of NETAPP INC at a value of $5,183,587,000'},\n",
       " {'text': 'ONTARIO TEACHERS PENSION PLAN BOARD owns 7290 shares of NETAPP INC at a value of $556,956,000'},\n",
       " {'text': 'STATE STREET CORP owns 9321206 shares of NETAPP INC at a value of $712,140,138,000'}]"
      ]
     },
     "execution_count": 27,
     "metadata": {},
     "output_type": "execute_result"
    }
   ],
   "source": [
    "cypher = \"\"\"\n",
    "MATCH (:Chunk {chunkId: $chunkIdParam})-[:PART_OF]->(f:Form),\n",
    "    (com:Company)-[:FILED]->(f),\n",
    "    (mgr:Manager)-[owns:OWNS_STOCK_IN]->(com)\n",
    "RETURN mgr.managerName + \" owns \" + owns.shares +\n",
    "    \" shares of \" + com.companyName + \n",
    "    \" at a value of $\" + \n",
    "    apoc.number.format(toInteger(owns.value)) AS text\n",
    "LIMIT 10\n",
    "\"\"\"\n",
    "\n",
    "results = graph.query(cypher, params={\n",
    "    \"chunkIdParam\": ref_chunk_id\n",
    "})\n",
    "\n",
    "results"
   ]
  },
  {
   "cell_type": "code",
   "execution_count": 28,
   "id": "c77e22f2-f9de-47d7-9234-499cb96cdce6",
   "metadata": {},
   "outputs": [
    {
     "data": {
      "text/plain": [
       "'CSS LLC/IL owns 12500 shares of NETAPP INC at a value of $955,000,000'"
      ]
     },
     "execution_count": 28,
     "metadata": {},
     "output_type": "execute_result"
    }
   ],
   "source": [
    "results[0][\"text\"]"
   ]
  },
  {
   "cell_type": "markdown",
   "id": "d50563ed-48ae-41f3-904b-6307bf6b484b",
   "metadata": {},
   "source": [
    "- Create a plain Question Answer chain\n",
    "- Similarity search only, no augmentation by Cypher Query"
   ]
  },
  {
   "cell_type": "code",
   "execution_count": 29,
   "id": "5a44737a-04c6-46d6-93e1-705fea727641",
   "metadata": {},
   "outputs": [],
   "source": [
    "vector_store = Neo4jVector.from_existing_graph(\n",
    "    embedding=GOOGLE_EMBEDDING_MODEL,\n",
    "    index_name=VECTOR_INDEX_NAME,\n",
    "    node_label=VECTOR_NODE_LABEL,\n",
    "    text_node_properties=[VECTOR_SOURCE_PROPERTY],\n",
    "    embedding_node_property=VECTOR_EMBEDDING_PROPERTY,\n",
    ")\n",
    "\n",
    "# create a retriever from the vector store\n",
    "retriever = vector_store.as_retriever()\n",
    "\n",
    "# create a chain from retriver\n",
    "plain_chain = RetrievalQAWithSourcesChain.from_chain_type(\n",
    "    LLM,\n",
    "    chain_type=\"stuff\",\n",
    "    retriever=retriever\n",
    ")"
   ]
  },
  {
   "cell_type": "markdown",
   "id": "5952ef2a-7d11-4e26-814d-3e209710ea98",
   "metadata": {},
   "source": [
    "- Create a second QA chain\n",
    "- Auugment similarity search using sentences found by investment query above"
   ]
  },
  {
   "cell_type": "code",
   "execution_count": 30,
   "id": "24c6696c-e364-413c-896b-f8d234b48f6d",
   "metadata": {},
   "outputs": [],
   "source": [
    "investment_retrieval_query = \"\"\"\n",
    "MATCH (node)-[:PART_OF]->(f:Form),\n",
    "    (f)<-[:FILED]-(com:Company),\n",
    "    (com)<-[owns:OWNS_STOCK_IN]-(mgr:Manager)\n",
    "WITH node, score, mgr, owns, com \n",
    "    ORDER BY owns.shares DESC LIMIT 10\n",
    "WITH collect (\n",
    "    mgr.managerName + \n",
    "    \" owns \" + owns.shares + \n",
    "    \" shares in \" + com.companyName + \n",
    "    \" at a value of $\" + \n",
    "    apoc.number.format(toInteger(owns.value)) + \".\" \n",
    ") AS investment_statements, node, score\n",
    "RETURN apoc.text.join(investment_statements, \"\\n\") + \n",
    "    \"\\n\" + node.text AS text,\n",
    "    score,\n",
    "    { \n",
    "      source: node.source\n",
    "    } as metadata\n",
    "\"\"\""
   ]
  },
  {
   "cell_type": "code",
   "execution_count": 31,
   "id": "a650cf27-7567-48e4-8198-6f3e5b843832",
   "metadata": {},
   "outputs": [],
   "source": [
    "# Create a Neo4j vector store with investment information\n",
    "# uses both structured data and instructured data while retriving the information\n",
    "vector_store_with_investment = Neo4jVector.from_existing_index(\n",
    "    GOOGLE_EMBEDDING_MODEL,\n",
    "    index_name=VECTOR_INDEX_NAME,\n",
    "    # text_node_properties=[VECTOR_SOURCE_PROPERTY],\n",
    "    retrieval_query=investment_retrieval_query,\n",
    ")\n",
    "\n",
    "# Create a retriever from the vector store\n",
    "retriever_with_investments = vector_store_with_investment.as_retriever()\n",
    "\n",
    "# Create a QA chain with investment sources\n",
    "investment_chain = RetrievalQAWithSourcesChain.from_chain_type(\n",
    "    LLM,\n",
    "    chain_type=\"stuff\",\n",
    "    retriever=retriever_with_investments,\n",
    "    verbose=True\n",
    ")"
   ]
  },
  {
   "cell_type": "markdown",
   "id": "b37d0026-9016-4782-a5b9-07d55fd52687",
   "metadata": {},
   "source": [
    "### Compare the outputs"
   ]
  },
  {
   "cell_type": "code",
   "execution_count": 32,
   "id": "3ae5af9d-d344-4ec6-aca1-123a2444b942",
   "metadata": {},
   "outputs": [],
   "source": [
    "question = \"In a single sentence, tell me about Netapp.\""
   ]
  },
  {
   "cell_type": "code",
   "execution_count": 33,
   "id": "73e57ecc-401a-442b-92ad-ee5632bce026",
   "metadata": {},
   "outputs": [
    {
     "data": {
      "text/plain": [
       "{'question': 'In a single sentence, tell me about Netapp.',\n",
       " 'answer': 'FINAL ANSWER: Netapp is a company that provides cloud services and storage infrastructure powered by intelligent data management software.\\n',\n",
       " 'sources': 'https://www.sec.gov/Archives/edgar/data/1002047/000095017023027948/0000950170-23-027948-index.htm'}"
      ]
     },
     "execution_count": 33,
     "metadata": {},
     "output_type": "execute_result"
    }
   ],
   "source": [
    "# answer by plain chain\n",
    "plain_chain.invoke({\"question\": question})"
   ]
  },
  {
   "cell_type": "code",
   "execution_count": 34,
   "id": "10c47b7f-4e79-4619-8561-3b2827dbb658",
   "metadata": {},
   "outputs": [
    {
     "name": "stdout",
     "output_type": "stream",
     "text": [
      "\n",
      "\n",
      "\u001b[1m> Entering new RetrievalQAWithSourcesChain chain...\u001b[0m\n",
      "\n",
      "\u001b[1m> Finished chain.\u001b[0m\n"
     ]
    },
    {
     "data": {
      "text/plain": [
       "{'question': 'In a single sentence, tell me about Netapp.',\n",
       " 'answer': 'NetApp is a cloud-led, data-centric software company that helps organizations manage data across hybrid multicloud environments. \\n',\n",
       " 'sources': 'https://www.sec.gov/Archives/edgar/data/1002047/000095017023027948/0000950170-23-027948-index.htm'}"
      ]
     },
     "execution_count": 34,
     "metadata": {},
     "output_type": "execute_result"
    }
   ],
   "source": [
    "# answer by investment chain\n",
    "investment_chain.invoke({\"question\": question})"
   ]
  },
  {
   "cell_type": "code",
   "execution_count": 35,
   "id": "ec56d6df-0e35-42a9-a4c9-e4b6a9867552",
   "metadata": {},
   "outputs": [
    {
     "name": "stdout",
     "output_type": "stream",
     "text": [
      "\n",
      "\n",
      "\u001b[1m> Entering new RetrievalQAWithSourcesChain chain...\u001b[0m\n",
      "\n",
      "\u001b[1m> Finished chain.\u001b[0m\n",
      "PLAIN_ANSWER:  {'question': 'In a single sentence, tell me about Netapp investors.', 'answer': 'NetApp investors are individuals or institutions who hold a financial stake in the company, which specializes in cloud data services and data management solutions. \\n', 'sources': 'https://www.sec.gov/Archives/edgar/data/1002047/000095017023027948/0000950170-23-027948-index.htm'}\n",
      "\n",
      "\n",
      "ANSWER_BY_INVESTMENT_CHAIN:  {'question': 'In a single sentence, tell me about Netapp investors.', 'answer': \"FINAL ANSWER: NetApp's major investors include large investment firms like Vanguard Group Inc., BlackRock Inc., and Primecap Management Co. \\n\", 'sources': 'https://www.sec.gov/Archives/edgar/data/1002047/000095017023027948/0000950170-23-027948-index.htm'}\n"
     ]
    }
   ],
   "source": [
    "question = \"In a single sentence, tell me about Netapp investors.\"\n",
    "\n",
    "# lets see about investors in Netapp\n",
    "plain_answer = plain_chain.invoke({\"question\": question})\n",
    "investment_chain_answer = investment_chain.invoke({\"question\": question})\n",
    "\n",
    "print(\"PLAIN_ANSWER: \", plain_answer)\n",
    "print(\"\\n\\nANSWER_BY_INVESTMENT_CHAIN: \", investment_chain_answer)"
   ]
  }
 ],
 "metadata": {
  "kernelspec": {
   "display_name": "Python 3 (ipykernel)",
   "language": "python",
   "name": "python3"
  },
  "language_info": {
   "codemirror_mode": {
    "name": "ipython",
    "version": 3
   },
   "file_extension": ".py",
   "mimetype": "text/x-python",
   "name": "python",
   "nbconvert_exporter": "python",
   "pygments_lexer": "ipython3",
   "version": "3.10.12"
  }
 },
 "nbformat": 4,
 "nbformat_minor": 5
}
