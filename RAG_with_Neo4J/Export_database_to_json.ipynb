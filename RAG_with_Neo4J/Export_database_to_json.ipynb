{
 "cells": [
  {
   "cell_type": "markdown",
   "id": "fadd0d00-17eb-4385-9317-75092a6d731a",
   "metadata": {},
   "source": [
    "## Export Neo4J database to Json\n",
    "> Make sure the there is data in database"
   ]
  },
  {
   "cell_type": "code",
   "execution_count": 1,
   "id": "9c496c3d-09aa-41a3-9fb4-a6218849a090",
   "metadata": {},
   "outputs": [],
   "source": [
    "import os\n",
    "import json\n",
    "\n",
    "from neo4j import GraphDatabase\n",
    "from langchain_community.graphs import Neo4jGraph\n",
    "\n",
    "from dotenv import load_dotenv"
   ]
  },
  {
   "cell_type": "code",
   "execution_count": 2,
   "id": "41803ee0-45b8-4735-b46b-0e540aca9d46",
   "metadata": {},
   "outputs": [],
   "source": [
    "# load dotenv\n",
    "load_dotenv()\n",
    "NEO4J_URI = os.getenv(\"NEO4J_URI\")\n",
    "NEO4J_USERNAME = os.getenv(\"NEO4J_USERNAME\")\n",
    "NEO4J_PASSWORD = os.getenv(\"NEO4J_PASSWORD\")\n",
    "NEO4J_DATABASE = os.getenv(\"NEO4J_DATABASE\")"
   ]
  },
  {
   "cell_type": "markdown",
   "id": "87f9e48b-bbe4-4eae-b0a6-fb33726ee05f",
   "metadata": {},
   "source": [
    "### Connect to database"
   ]
  },
  {
   "cell_type": "code",
   "execution_count": 3,
   "id": "c01cd64d-539c-4e8c-85ed-aba120b9b361",
   "metadata": {},
   "outputs": [],
   "source": [
    "graph = Neo4jGraph(\n",
    "    url=NEO4J_URI,\n",
    "    username=NEO4J_USERNAME,\n",
    "    password=NEO4J_PASSWORD,\n",
    "    database=NEO4J_DATABASE\n",
    ")"
   ]
  },
  {
   "cell_type": "code",
   "execution_count": 4,
   "id": "42297bea-4e68-4339-9344-dfdb5456035e",
   "metadata": {},
   "outputs": [
    {
     "name": "stdout",
     "output_type": "stream",
     "text": [
      "Node properties:\n",
      "Chunk {chunkSeqId: INTEGER, chunkId: STRING, cusip6: STRING, id: INTEGER, text: STRING, names: LIST, cik: STRING, source: STRING, formId: STRING, f10kItem: STRING, textEmbedding: LIST}\n",
      "Form {cusip6: STRING, source: STRING, id: INTEGER, formId: STRING, names: LIST}\n",
      "Company {cusip6: STRING, location: LIST, companyName: STRING, names: LIST, id: INTEGER, cusip: STRING, companyAddress: STRING}\n",
      "Manager {managerName: STRING, managerCik: STRING, managerAddress: STRING, id: INTEGER, location: LIST}\n",
      "Address {country: STRING, id: INTEGER, location: LIST, city: STRING, state: STRING}\n",
      "Relationship properties:\n",
      "SECTION {f10kItem: STRING}\n",
      "OWNS_STOCK_IN {value: FLOAT, shares: INTEGER, reportCalendarOrQuarter: STRING}\n",
      "The relationships:\n",
      "(:Chunk)-[:NEXT]->(:Chunk)\n",
      "(:Chunk)-[:PART_OF]->(:Form)\n",
      "(:Form)-[:SECTION]->(:Chunk)\n",
      "(:Company)-[:LOCATED_AT]->(:Address)\n",
      "(:Company)-[:FILED]->(:Form)\n",
      "(:Manager)-[:LOCATED_AT]->(:Address)\n",
      "(:Manager)-[:OWNS_STOCK_IN]->(:Company)\n"
     ]
    }
   ],
   "source": [
    "# update the schema of graph(if changes are made in graph)\n",
    "graph.refresh_schema()\n",
    "print(graph.schema)"
   ]
  },
  {
   "cell_type": "code",
   "execution_count": 5,
   "id": "c6ac025c-b00b-4a3d-bf26-d27a89e45a47",
   "metadata": {},
   "outputs": [
    {
     "data": {
      "text/plain": [
       "[{'mgr': {'managerCik': '1424381',\n",
       "   'managerAddress': '650 Madison Avenue, 25th Floor, New York, NY, 10022',\n",
       "   'location': [-73.9713457, 40.7639879],\n",
       "   'id': 1145,\n",
       "   'managerName': 'LAKEWOOD CAPITAL MANAGEMENT, LP'},\n",
       "  'addr': {'country': 'United States',\n",
       "   'city': 'New York',\n",
       "   'location': [-73.9821429, 40.7584882],\n",
       "   'id': 3302,\n",
       "   'state': 'New York'}}]"
      ]
     },
     "execution_count": 5,
     "metadata": {},
     "output_type": "execute_result"
    }
   ],
   "source": [
    "# get manager and their address\n",
    "graph.query(\"\"\"\n",
    "MATCH (mgr:Manager)-[:LOCATED_AT]->(addr:Address)\n",
    "RETURN mgr, addr\n",
    "LIMIT 1\n",
    "\"\"\")"
   ]
  },
  {
   "cell_type": "code",
   "execution_count": 6,
   "id": "d0283a56-5e0e-47fc-85d1-43878dee0577",
   "metadata": {},
   "outputs": [],
   "source": [
    "driver = GraphDatabase.driver(NEO4J_URI, auth=(NEO4J_USERNAME, NEO4J_PASSWORD))\n",
    "\n",
    "query = \"\"\"\n",
    "MATCH (n)\n",
    "OPTIONAL MATCH (n)-[r]->(m)\n",
    "RETURN n, r, m\n",
    "\"\"\""
   ]
  },
  {
   "cell_type": "code",
   "execution_count": 7,
   "id": "29b69782-1dd7-46f0-aff9-a81622434ec6",
   "metadata": {},
   "outputs": [],
   "source": [
    "# Initialize the Neo4j driver\n",
    "driver = GraphDatabase.driver(NEO4J_URI, auth=(NEO4J_USERNAME, NEO4J_PASSWORD))\n",
    "\n",
    "query = \"\"\"\n",
    "MATCH (n)\n",
    "OPTIONAL MATCH (n)-[r]->(m)\n",
    "RETURN n, r, m\n",
    "\"\"\"\n",
    "\n",
    "# Run the query and process results\n",
    "with driver.session() as session:\n",
    "    result = session.run(query)\n",
    "    export_data = []\n",
    "    for record in result:\n",
    "        node_data = record.get('n', None)\n",
    "        relationship_data = record.get('r', None)\n",
    "        connected_node_data = record.get('m', None)\n",
    "\n",
    "        # Process data as needed\n",
    "        export_data.append({\n",
    "            'node': dict(node_data) if node_data else None,\n",
    "            'relationship': dict(relationship_data) if relationship_data else None,\n",
    "            'connected_node': dict(connected_node_data) if connected_node_data else None\n",
    "        })\n",
    "\n",
    "WRITE_FILE_PATH = 'exported_data.json'\n",
    "# Save data to a JSON file\n",
    "with open(WRITE_FILE_PATH, 'w') as f:\n",
    "    json.dump(export_data, f, indent=4)\n",
    "\n",
    "# Close the driver connection\n",
    "driver.close()"
   ]
  }
 ],
 "metadata": {
  "kernelspec": {
   "display_name": "Python 3 (ipykernel)",
   "language": "python",
   "name": "python3"
  },
  "language_info": {
   "codemirror_mode": {
    "name": "ipython",
    "version": 3
   },
   "file_extension": ".py",
   "mimetype": "text/x-python",
   "name": "python",
   "nbconvert_exporter": "python",
   "pygments_lexer": "ipython3",
   "version": "3.10.12"
  }
 },
 "nbformat": 4,
 "nbformat_minor": 5
}
