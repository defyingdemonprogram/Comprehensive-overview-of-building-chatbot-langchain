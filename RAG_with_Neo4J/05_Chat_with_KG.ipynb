{
 "cells": [
  {
   "cell_type": "markdown",
   "id": "6154d249-5290-4fea-aa58-bd27b76fff82",
   "metadata": {},
   "source": [
    "## Chatting With SEC Knowledge Graph\n",
    "\n",
    "First Run `Insert_Into_DB_from_Json.ipynb` Notebook before you proceed in this notebook."
   ]
  },
  {
   "cell_type": "code",
   "execution_count": 1,
   "id": "14ad74e2-3309-4f61-afba-d54b9dbd6f9e",
   "metadata": {},
   "outputs": [],
   "source": [
    "import os\n",
    "import textwrap\n",
    "\n",
    "# import necessarylangchain libraries\n",
    "from langchain_community.graphs import Neo4jGraph\n",
    "from langchain_community.vectorstores import Neo4jVector\n",
    "from langchain.prompts import PromptTemplate\n",
    "from langchain.chains import RetrievalQAWithSourcesChain\n",
    "from langchain.chains import GraphCypherQAChain\n",
    "from langchain_google_genai import GoogleGenerativeAI\n",
    "from langchain_google_genai import GoogleGenerativeAIEmbeddings\n",
    "\n",
    "# graph \n",
    "from yfiles_jupyter_graphs import GraphWidget\n",
    "from IPython.display import display, Markdown\n",
    "\n",
    "from dotenv import load_dotenv"
   ]
  },
  {
   "cell_type": "code",
   "execution_count": 2,
   "id": "ec1d23a0-ac32-4379-afb9-663dbed0090d",
   "metadata": {},
   "outputs": [],
   "source": [
    "def display_markdown(mark_text: str):\n",
    "    '''\n",
    "    Function to display the markdown text in notebook\n",
    "    '''\n",
    "    return display(Markdown(mark_text))"
   ]
  },
  {
   "cell_type": "code",
   "execution_count": 3,
   "id": "fc27c2a7-4b05-432c-8b85-d5c3064b03ac",
   "metadata": {},
   "outputs": [],
   "source": [
    "# load the env variables from .env file\n",
    "load_dotenv()\n",
    "\n",
    "# Global constants\n",
    "VECTOR_INDEX_NAME = \"form_10k_chunks\"\n",
    "VECTOR_NODE_LABEL = \"Chunk\"\n",
    "VECTOR_SOURCE_PROPERTY = \"text\"\n",
    "VECTPR_EMBEDDING_PROPERTIES = [\"textEmedding\"]"
   ]
  },
  {
   "cell_type": "code",
   "execution_count": 4,
   "id": "fe25ca74-85c6-4302-84b7-751be3f99717",
   "metadata": {},
   "outputs": [],
   "source": [
    "graph = Neo4jGraph(enhanced_schema=True)"
   ]
  },
  {
   "cell_type": "markdown",
   "id": "3146730b-d81f-4f29-9a4b-ba092a228755",
   "metadata": {},
   "source": [
    "### Create the index for full text Search"
   ]
  },
  {
   "cell_type": "code",
   "execution_count": 5,
   "id": "20e4e7c9-ca30-4550-a677-edaa7afa31df",
   "metadata": {},
   "outputs": [
    {
     "data": {
      "text/plain": [
       "[]"
      ]
     },
     "execution_count": 5,
     "metadata": {},
     "output_type": "execute_result"
    }
   ],
   "source": [
    "graph.query(\"\"\"\n",
    "CREATE FULLTEXT INDEX fullTextManagerNames\n",
    "    IF NOT EXISTS\n",
    "    FOR (mgr:Manager)\n",
    "    ON EACH [mgr.managerName]\n",
    "\"\"\")\n",
    "\n",
    "\n",
    "graph.query(\"\"\"\n",
    "CREATE FULLTEXT INDEX fullTextCompanyNames\n",
    "    IF NOT EXISTS\n",
    "    FOR (com:Company)\n",
    "    ON EACH [com.companyName]\n",
    "\"\"\")\n"
   ]
  },
  {
   "cell_type": "markdown",
   "id": "0c0923e8-5e48-49e4-a980-70b35a54eb2e",
   "metadata": {},
   "source": [
    "### Explore the Updated SEC Documents Graph\n",
    "\n",
    "**Enhanced Schema Information**\n",
    "\n",
    "Using the enhanced schema version allows the system to automatically scan databases for example values and calculate distribution metrics. If a node property has fewer than 10 distinct values, all possible values are returned in the schema. Otherwise, only a single example value per node and relationship property is provided."
   ]
  },
  {
   "cell_type": "code",
   "execution_count": 6,
   "id": "1b601c85-c6a9-4c0a-84d7-49e455640090",
   "metadata": {},
   "outputs": [
    {
     "data": {
      "text/markdown": [
       "Node properties:\n",
       "- **Chunk**\n",
       "  - `chunkSeqId`: INTEGER Min: 0, Max: 19\n",
       "  - `chunkId`: STRING Example: \"0001650372-23-000040-item1-chunk0000\"\n",
       "  - `cusip6`: STRING Available options: ['G06242', '31428X', '65249B', '36241U', '003783', '64110D', '697435', '958102', '654106', 'G7945J']\n",
       "  - `id`: INTEGER Min: 0, Max: 543\n",
       "  - `text`: STRING Example: \">ITEM 1. BUSINESS Company Overview   Our mission i\"\n",
       "  - `names`: LIST Min Size: 1, Max Size: 4\n",
       "  - `cik`: STRING Available options: ['1650372', '1048911', '1564708', '1126741', '1490054', '1002047', '1327567', '106040', '320187', '1137789']\n",
       "  - `source`: STRING Available options: ['https://www.sec.gov/Archives/edgar/data/1650372/00', 'https://www.sec.gov/Archives/edgar/data/1048911/00', 'https://www.sec.gov/Archives/edgar/data/1564708/00', 'https://www.sec.gov/Archives/edgar/data/1126741/00', 'https://www.sec.gov/Archives/edgar/data/1490054/00', 'https://www.sec.gov/Archives/edgar/data/1002047/00', 'https://www.sec.gov/Archives/edgar/data/1327567/00', 'https://www.sec.gov/Archives/edgar/data/106040/000', 'https://www.sec.gov/Archives/edgar/data/320187/000', 'https://www.sec.gov/Archives/edgar/data/1137789/00']\n",
       "  - `formId`: STRING Available options: ['0001650372-23-000040', '0000950170-23-033201', '0001564708-23-000368', '0001558370-23-011516', '0001096906-23-001489', '0000950170-23-027948', '0001327567-23-000024', '0000106040-23-000024', '0000320187-23-000039', '0001137789-23-000049']\n",
       "  - `f10kItem`: STRING Available options: ['item1', 'item1a', 'item7', 'item7a']\n",
       "- **Form**\n",
       "  - `cusip6`: STRING Available options: ['G06242', '31428X', '65249B', '36241U', '003783', '64110D', '697435', '958102', '654106', 'G7945J']\n",
       "  - `source`: STRING Available options: ['https://www.sec.gov/Archives/edgar/data/1650372/00', 'https://www.sec.gov/Archives/edgar/data/1048911/00', 'https://www.sec.gov/Archives/edgar/data/1564708/00', 'https://www.sec.gov/Archives/edgar/data/1126741/00', 'https://www.sec.gov/Archives/edgar/data/1490054/00', 'https://www.sec.gov/Archives/edgar/data/1002047/00', 'https://www.sec.gov/Archives/edgar/data/1327567/00', 'https://www.sec.gov/Archives/edgar/data/106040/000', 'https://www.sec.gov/Archives/edgar/data/320187/000', 'https://www.sec.gov/Archives/edgar/data/1137789/00']\n",
       "  - `id`: INTEGER Min: 544, Max: 553\n",
       "  - `formId`: STRING Available options: ['0001650372-23-000040', '0000950170-23-033201', '0001564708-23-000368', '0001558370-23-011516', '0001096906-23-001489', '0000950170-23-027948', '0001327567-23-000024', '0000106040-23-000024', '0000320187-23-000039', '0001137789-23-000049']\n",
       "  - `names`: LIST Min Size: 1, Max Size: 4\n",
       "- **Company**\n",
       "  - `cusip6`: STRING Available options: ['G06242', '31428X', '65249B', '36241U', '003783', '64110D', '697435', '958102', '654106', 'G7945J']\n",
       "  - `location`: LIST Min Size: 2, Max Size: 2\n",
       "  - `companyName`: STRING Available options: ['ATLASSIAN CORP PLC', 'FEDEX CORP', 'NEWS CORP NEW', 'GSI TECHNOLOGY INC', 'APPLE INC', 'NETAPP INC', 'PALO ALTO NETWORKS INC', 'WESTERN DIGITAL CORP.', 'NIKE INC', 'SEAGATE TECHNOLOGY']\n",
       "  - `names`: LIST Min Size: 1, Max Size: 4\n",
       "  - `id`: INTEGER Min: 554, Max: 563\n",
       "  - `cusip`: STRING Available options: ['G06242104', '31428X106', '65249B109', '36241U106', '003783310', '64110D104', '697435105', '958102105', '654106103', 'G7945J104']\n",
       "  - `companyAddress`: STRING Available options: ['431 El Camino Real, Santa Clara, CA 95050, USA', 'Delaware, USA', '1211 6th Ave, New York, NY 10036, USA', '1213 Elko Dr, Sunnyvale, CA 94089, USA', 'Cupertino, CA, USA', 'Headquarters Dr, San Jose, CA 95134, USA', '3000 Tannery Way, Santa Clara, CA 95054, USA', 'San Jose, 5601 Great Oaks Pkwy, United States', 'Oregon, USA', '2445 Augustine Dr, Santa Clara, CA 95054, USA']\n",
       "- **Manager**\n",
       "  - `managerName`: STRING Example: \"KINGDON CAPITAL MANAGEMENT, L.L.C.\"\n",
       "  - `managerCik`: STRING Example: \"1000097\"\n",
       "  - `managerAddress`: STRING Example: \"152 WEST 57TH STREET, 50TH FLOOR, NEW YORK, NY, 10\"\n",
       "  - `id`: INTEGER Min: 564, Max: 3301\n",
       "  - `location`: LIST Min Size: 2, Max Size: 2\n",
       "- **Address**\n",
       "  - `country`: STRING Example: \"United States\"\n",
       "  - `id`: INTEGER Min: 3302, Max: 4165\n",
       "  - `location`: LIST Min Size: 2, Max Size: 2\n",
       "  - `city`: STRING Example: \"New York\"\n",
       "  - `state`: STRING Example: \"New York\"\n",
       "Relationship properties:\n",
       "- **SECTION**\n",
       "  - `f10kItem: STRING` Available options: ['item1', 'item1a', 'item7', 'item7a']\n",
       "- **OWNS_STOCK_IN**\n",
       "  - `value: FLOAT` Min: 0.0, Max:  1.1899154484E13\n",
       "  - `shares: INTEGER` Min: 0, Max:  1922059328\n",
       "  - `reportCalendarOrQuarter: STRING` Available options: ['2023-06-30', '2023-03-31', '2021-09-30', '2020-12-31', '2022-06-30', '2022-09-30']\n",
       "The relationships:\n",
       "(:Chunk)-[:NEXT]->(:Chunk)\n",
       "(:Chunk)-[:PART_OF]->(:Form)\n",
       "(:Form)-[:SECTION]->(:Chunk)\n",
       "(:Company)-[:LOCATED_AT]->(:Address)\n",
       "(:Company)-[:FILED]->(:Form)\n",
       "(:Manager)-[:LOCATED_AT]->(:Address)\n",
       "(:Manager)-[:OWNS_STOCK_IN]->(:Company)"
      ],
      "text/plain": [
       "<IPython.core.display.Markdown object>"
      ]
     },
     "metadata": {},
     "output_type": "display_data"
    }
   ],
   "source": [
    "# update the schema \n",
    "graph.refresh_schema()\n",
    "display_markdown(graph.schema)"
   ]
  },
  {
   "cell_type": "markdown",
   "id": "724f132b-c774-4d6d-b6ec-8dc424ac7b1e",
   "metadata": {},
   "source": [
    "### Visualize the Graph database"
   ]
  },
  {
   "cell_type": "code",
   "execution_count": 7,
   "id": "1b4c36bc-e12a-4b26-9424-0a0fffa9530a",
   "metadata": {},
   "outputs": [
    {
     "data": {
      "application/vnd.jupyter.widget-view+json": {
       "model_id": "4cd7763a293e4506b53a521d6127cd3f",
       "version_major": 2,
       "version_minor": 0
      },
      "text/plain": [
       "GraphWidget(layout=Layout(height='800px', width='100%'))"
      ]
     },
     "metadata": {},
     "output_type": "display_data"
    }
   ],
   "source": [
    "from neo4j import GraphDatabase\n",
    "\n",
    "# directly show the graph resulting from the given Cypher query\n",
    "default_cypher = \"MATCH (s)-[r:!MENTIONS]->(t) RETURN s,r,t LIMIT 50\"\n",
    "\n",
    "def showGraph(cypher: str = default_cypher):\n",
    "    # create a neo4j session to run queries\n",
    "    driver = GraphDatabase.driver(\n",
    "        uri = os.environ[\"NEO4J_URI\"],\n",
    "        auth = (os.environ[\"NEO4J_USERNAME\"],\n",
    "                os.environ[\"NEO4J_PASSWORD\"]))\n",
    "    session = driver.session()\n",
    "    widget = GraphWidget(graph = session.run(cypher).graph())\n",
    "    widget.node_label_mapping = 'id'\n",
    "    #display(widget)\n",
    "    return widget\n",
    "\n",
    "showGraph()"
   ]
  },
  {
   "cell_type": "markdown",
   "id": "959533bf-5421-442d-aa26-c403746af443",
   "metadata": {},
   "source": [
    "### Full text search"
   ]
  },
  {
   "cell_type": "code",
   "execution_count": 8,
   "id": "9e4eb702-e1a1-4501-b164-775c0090ee8e",
   "metadata": {},
   "outputs": [
    {
     "data": {
      "text/plain": [
       "[{'node.managerName': 'Royal Bank of Canada', 'score': 4.431276321411133}]"
      ]
     },
     "execution_count": 8,
     "metadata": {},
     "output_type": "execute_result"
    }
   ],
   "source": [
    "# full text search a manager named Royal Bank\n",
    "graph.query(\"\"\"\n",
    "CALL db.index.fulltext.queryNodes(\n",
    "    \"fullTextManagerNames\", \n",
    "    \"Royal Bank\"\n",
    ") YIELD node, score\n",
    "RETURN node.managerName, score\n",
    "LIMIT 1\n",
    "\n",
    "\"\"\")"
   ]
  },
  {
   "cell_type": "markdown",
   "id": "6f10cfe8-3824-4e26-a6e0-563c52c990f1",
   "metadata": {},
   "source": [
    "### Do Some query in Knowledge Graph"
   ]
  },
  {
   "cell_type": "code",
   "execution_count": 9,
   "id": "4de16d31-4d76-4221-bcce-4a221ece6c22",
   "metadata": {},
   "outputs": [
    {
     "data": {
      "text/plain": [
       "[{'mgr': {'managerCik': '1424381',\n",
       "   'managerAddress': '650 Madison Avenue, 25th Floor, New York, NY, 10022',\n",
       "   'location': [-73.9713457, 40.7639879],\n",
       "   'id': 1145,\n",
       "   'managerName': 'LAKEWOOD CAPITAL MANAGEMENT, LP'},\n",
       "  'addr': {'country': 'United States',\n",
       "   'city': 'New York',\n",
       "   'location': [-73.9821429, 40.7584882],\n",
       "   'id': 3302,\n",
       "   'state': 'New York'}}]"
      ]
     },
     "execution_count": 9,
     "metadata": {},
     "output_type": "execute_result"
    }
   ],
   "source": [
    "# check the address of a random Manager\n",
    "graph.query(\"\"\"\n",
    "MATCH (mgr:Manager)-[LOCATED_AT]->(addr:Address)\n",
    "RETURN mgr, addr\n",
    "limit 1\n",
    "\"\"\")"
   ]
  },
  {
   "cell_type": "code",
   "execution_count": 10,
   "id": "15900766-086b-44bd-9ef9-3ee61ab8739a",
   "metadata": {},
   "outputs": [
    {
     "data": {
      "text/plain": [
       "[{'mgr.managerName': 'Royal Bank of Canada',\n",
       "  'addr': {'country': 'Canada',\n",
       "   'city': 'Toronto',\n",
       "   'location': [-79.3805647, 43.6508267],\n",
       "   'id': 3303,\n",
       "   'state': 'Ontario'}}]"
      ]
     },
     "execution_count": 10,
     "metadata": {},
     "output_type": "execute_result"
    }
   ],
   "source": [
    "# find the loaction of Royal Bank\n",
    "graph.query(\"\"\"\n",
    "CALL db.index.fulltext.queryNodes(\n",
    "         \"fullTextManagerNames\", \n",
    "         \"royal bank\"\n",
    "  ) YIELD node, score\n",
    "WITH node as mgr LIMIT 1\n",
    "MATCH (mgr:Manager)-[:LOCATED_AT]->(addr:Address)\n",
    "RETURN mgr.managerName, addr\n",
    "\"\"\")"
   ]
  },
  {
   "cell_type": "code",
   "execution_count": 11,
   "id": "c0d29c46-e4e1-4e19-8bfa-aa670db83f0f",
   "metadata": {},
   "outputs": [
    {
     "data": {
      "text/plain": [
       "[{'state': 'New York', 'numManagers': 304},\n",
       " {'state': 'California', 'numManagers': 302},\n",
       " {'state': 'Massachusetts', 'numManagers': 146},\n",
       " {'state': 'Pennsylvania', 'numManagers': 138},\n",
       " {'state': 'Texas', 'numManagers': 125},\n",
       " {'state': 'Illinois', 'numManagers': 121},\n",
       " {'state': 'Florida', 'numManagers': 115},\n",
       " {'state': 'Connecticut', 'numManagers': 77},\n",
       " {'state': 'Ohio', 'numManagers': 76},\n",
       " {'state': 'New Jersey', 'numManagers': 69}]"
      ]
     },
     "execution_count": 11,
     "metadata": {},
     "output_type": "execute_result"
    }
   ],
   "source": [
    "# determine which state has the most investment firms\n",
    "graph.query(\"\"\"\n",
    "MATCH p=(:Manager)-[:LOCATED_AT]->(address:Address)\n",
    "RETURN address.state as state, count (address.state) as numManagers\n",
    "ORDER BY numManagers DESC\n",
    "LIMIT 10\n",
    "\"\"\")"
   ]
  },
  {
   "cell_type": "code",
   "execution_count": 12,
   "id": "50ee9ad7-0ff9-48c2-a2a3-76e8ec85860e",
   "metadata": {},
   "outputs": [
    {
     "data": {
      "text/plain": [
       "[{'state': 'California', 'numCompanies': 7},\n",
       " {'state': 'Delaware', 'numCompanies': 1},\n",
       " {'state': 'New York', 'numCompanies': 1},\n",
       " {'state': 'Oregon', 'numCompanies': 1}]"
      ]
     },
     "execution_count": 12,
     "metadata": {},
     "output_type": "execute_result"
    }
   ],
   "source": [
    "# determine whihc state has the most companies\n",
    "graph.query(\"\"\"\n",
    "MATCH p=(:Company)-[:LOCATED_AT]->(address:Address)\n",
    "RETURN address.state as state, count(address.state) as numCompanies\n",
    "ORDER BY numCompanies DESC\n",
    "LIMIT 10\n",
    "\"\"\")"
   ]
  },
  {
   "cell_type": "code",
   "execution_count": 13,
   "id": "30ec38e6-4ef7-4764-82fc-ac8f59f293de",
   "metadata": {},
   "outputs": [
    {
     "data": {
      "text/plain": [
       "[{'citty': 'Santa Clara', 'numCompanies': 3},\n",
       " {'citty': 'San Jose', 'numCompanies': 2},\n",
       " {'citty': 'Sunnyvale', 'numCompanies': 1},\n",
       " {'citty': 'Cupertino', 'numCompanies': 1}]"
      ]
     },
     "execution_count": 13,
     "metadata": {},
     "output_type": "execute_result"
    }
   ],
   "source": [
    "# which city in california with most investment firms\n",
    "graph.query(\"\"\"\n",
    "MATCH p=(:Company)-[:LOCATED_AT]->(address:Address)\n",
    "    WHERE address.state='California'\n",
    "RETURN address.city as citty, count(address.city) as numCompanies\n",
    "ORDER BY numCompanies DESC\n",
    "\"\"\")"
   ]
  },
  {
   "cell_type": "code",
   "execution_count": 14,
   "id": "83365b47-4217-4743-9dda-209832d89c91",
   "metadata": {},
   "outputs": [
    {
     "data": {
      "text/plain": [
       "[{'city': 'Santa Clara', 'numCompanies': 3},\n",
       " {'city': 'San Jose', 'numCompanies': 2},\n",
       " {'city': 'Sunnyvale', 'numCompanies': 1},\n",
       " {'city': 'Cupertino', 'numCompanies': 1}]"
      ]
     },
     "execution_count": 14,
     "metadata": {},
     "output_type": "execute_result"
    }
   ],
   "source": [
    "# which city in California has the most companies listed\n",
    "graph.query(\"\"\"\n",
    "MATCH p=(:Company)-[:LOCATED_AT]->(address:Address)\n",
    "    WHERE address.state = 'California'\n",
    "RETURN address.city as city, count(address.city) as numCompanies\n",
    "    ORDER BY numCompanies DESC\n",
    "\"\"\")"
   ]
  },
  {
   "cell_type": "code",
   "execution_count": 15,
   "id": "379358bd-73bb-42ba-8eb6-a67d3e0764b4",
   "metadata": {},
   "outputs": [
    {
     "data": {
      "text/plain": [
       "[{'mgr.managerName': 'Dodge & Cox', 'totalInvestmentValue': 3889236092000.0},\n",
       " {'mgr.managerName': 'WELLS FARGO & COMPANY/MN',\n",
       "  'totalInvestmentValue': 2177580039000.0},\n",
       " {'mgr.managerName': 'CHARLES SCHWAB INVESTMENT MANAGEMENT INC',\n",
       "  'totalInvestmentValue': 1944847519000.0},\n",
       " {'mgr.managerName': 'Parallax Volatility Advisers, L.P.',\n",
       "  'totalInvestmentValue': 694023723000.0},\n",
       " {'mgr.managerName': 'PARNASSUS INVESTMENTS, LLC',\n",
       "  'totalInvestmentValue': 211068925000.0},\n",
       " {'mgr.managerName': 'Spyglass Capital Management LLC',\n",
       "  'totalInvestmentValue': 98135259000.0},\n",
       " {'mgr.managerName': 'Valiant Capital Management, L.P.',\n",
       "  'totalInvestmentValue': 52124040000.0},\n",
       " {'mgr.managerName': 'Ensemble Capital Management, LLC',\n",
       "  'totalInvestmentValue': 42355370000.0},\n",
       " {'mgr.managerName': 'Woodline Partners LP',\n",
       "  'totalInvestmentValue': 41497384000.0},\n",
       " {'mgr.managerName': 'Alta Park Capital, LP',\n",
       "  'totalInvestmentValue': 38959909000.0}]"
      ]
     },
     "execution_count": 15,
     "metadata": {},
     "output_type": "execute_result"
    }
   ],
   "source": [
    "# what are the top investment firms in San Francisco?\n",
    "graph.query(\"\"\"\n",
    "MATCH (mgr:Manager)-[:LOCATED_AT]->(address:Address),\n",
    "      (mgr)-[owns:OWNS_STOCK_IN]->(:Company)\n",
    "WHERE address.city = \"San Francisco\"\n",
    "RETURN mgr.managerName, sum(owns.value) as totalInvestmentValue\n",
    "ORDER BY totalInvestmentValue DESC\n",
    "LIMIT 10\n",
    "\"\"\")"
   ]
  },
  {
   "cell_type": "code",
   "execution_count": 16,
   "id": "632de72d-4a0e-41cf-b8f9-9092565d224c",
   "metadata": {},
   "outputs": [
    {
     "data": {
      "text/plain": [
       "[{'com.company': None}, {'com.company': None}, {'com.company': None}]"
      ]
     },
     "execution_count": 16,
     "metadata": {},
     "output_type": "execute_result"
    }
   ],
   "source": [
    "## what companies are located in Santa Clara\n",
    "graph.query(\"\"\"\n",
    "MATCH (com:Company)-[:LOCATED_AT]->(address:Address)\n",
    "    WHERE address.city = \"Santa Clara\"\n",
    "RETURN com.company\n",
    "\"\"\")"
   ]
  },
  {
   "cell_type": "code",
   "execution_count": 17,
   "id": "3e9373c8-c469-48f1-aaab-5dc7ea6178af",
   "metadata": {},
   "outputs": [
    {
     "data": {
      "text/plain": [
       "[]"
      ]
     },
     "execution_count": 17,
     "metadata": {},
     "output_type": "execute_result"
    }
   ],
   "source": [
    "graph.query(\"\"\"\n",
    "MATCH (address:Address)\n",
    "SET address.location = point({longitude: address.longitude, latitude: address.latitude})\n",
    "\"\"\")"
   ]
  },
  {
   "cell_type": "code",
   "execution_count": 18,
   "id": "ef254e86-4c2d-4665-8acf-d0986a17fb78",
   "metadata": {},
   "outputs": [
    {
     "data": {
      "text/plain": [
       "[]"
      ]
     },
     "execution_count": 18,
     "metadata": {},
     "output_type": "execute_result"
    }
   ],
   "source": [
    "# what companies are near Santa Clara\n",
    "graph.query(\"\"\"\n",
    "  MATCH (sc:Address)\n",
    "    WHERE sc.city = \"Santa Clara\"\n",
    "  MATCH (com:Company)-[:LOCATED_AT]->(comAddr:Address)\n",
    "    WHERE point.distance(sc.location, comAddr.location) < 1000000\n",
    "  RETURN com.companyName, com.companyAddress\n",
    "\"\"\")"
   ]
  },
  {
   "cell_type": "code",
   "execution_count": 19,
   "id": "3f8932ca-643a-416f-80f2-a51272b215f1",
   "metadata": {},
   "outputs": [
    {
     "data": {
      "text/plain": [
       "[]"
      ]
     },
     "execution_count": 19,
     "metadata": {},
     "output_type": "execute_result"
    }
   ],
   "source": [
    "##which investment  firms are near Santa Clara\n",
    "graph.query(\"\"\"\n",
    "MATCH (address:Address)\n",
    "    WHERE address.city = \"Santa Clara\"\n",
    "WITH address\n",
    "MATCH (mgr:Manager)-[:LOCATED_AT]->(managerAddress:Address)\n",
    "    WHERE point.distance(address.location, managerAddress.location) < 10000\n",
    "RETURN mgr.managerName, managerAddress\n",
    "\"\"\")"
   ]
  },
  {
   "cell_type": "markdown",
   "id": "09877ee5-ba97-442b-b1b1-d1d8c5641e89",
   "metadata": {},
   "source": [
    "### Writing Cypher with LLM\n",
    "\n",
    "The `GraphCypherQAChain` includes a default Cypher generation template. However, if our graph database requires more complex Cypher queries, we can create a custom Cypher query generation template to meet our specific needs."
   ]
  },
  {
   "cell_type": "code",
   "execution_count": 20,
   "id": "607d7c88-cd24-4f19-a5f2-a008ee6e241c",
   "metadata": {},
   "outputs": [],
   "source": [
    "CYPHER_GENERATION_TEMPLATE = \"\"\"Task: Generate a Cypher statement to query a graph database.\n",
    "Instructions:\n",
    "Use only the provided relationship types and properties in the schema. Do not use any other relationship types or properties that are not provided.\n",
    "Schema:\n",
    "{schema}\n",
    "Note: Do not include any explanations or apologies in your responses.\n",
    "Do not respond to any questions that ask for anything other than constructing a Cypher statement.\n",
    "Do not include any text except the generated Cypher statement.\n",
    "Examples: Here are a few examples of generated Cypher statements for particular questions:\n",
    "\n",
    "# What investment firms are in San Francisco?\n",
    "MATCH (mgr:Manager)-[:LOCATED_AT]->(mgrAddress:Address)\n",
    "WHERE mgrAddress.city = 'San Francisco'\n",
    "RETURN mgr.managerName\n",
    "\n",
    "The question is:\n",
    "{question}\"\"\"\n"
   ]
  },
  {
   "cell_type": "code",
   "execution_count": 21,
   "id": "2134a421-fddd-4221-bc49-d84bfa72db61",
   "metadata": {},
   "outputs": [],
   "source": [
    "CYPHER_GENERATION_PROMPT = PromptTemplate(\n",
    "    input_variables=[\"schema\", \"question\"], \n",
    "    template=CYPHER_GENERATION_TEMPLATE\n",
    ")\n",
    "\n",
    "\n",
    "# initiate the google gemini pro model\n",
    "LLM = GoogleGenerativeAI(model=\"models/gemini-1.5-pro-latest\", temperature=0.0)"
   ]
  },
  {
   "cell_type": "code",
   "execution_count": 22,
   "id": "824175db-0c71-4f7d-9f48-e16e98634c62",
   "metadata": {},
   "outputs": [],
   "source": [
    "cypherChain = GraphCypherQAChain.from_llm(\n",
    "    LLM,\n",
    "    graph=graph,\n",
    "    verbose=True,\n",
    "    cypher_prompt=CYPHER_GENERATION_PROMPT,\n",
    ")"
   ]
  },
  {
   "cell_type": "code",
   "execution_count": 23,
   "id": "dc3552f1-3405-44d5-82f3-4800b8b5d741",
   "metadata": {},
   "outputs": [],
   "source": [
    "def prettyCypherChain(question: str) -> str:\n",
    "    '''\n",
    "    Display output in a way that looks nice. \n",
    "    `invoke` method returns the dict\n",
    "    '''\n",
    "    response = cypherChain.invoke(question)\n",
    "    print(textwrap.fill(response['result'], 60))"
   ]
  },
  {
   "cell_type": "code",
   "execution_count": 24,
   "id": "5b89f432-df6c-4616-bf63-13fbe9e124ff",
   "metadata": {},
   "outputs": [
    {
     "name": "stdout",
     "output_type": "stream",
     "text": [
      "\n",
      "\n",
      "\u001b[1m> Entering new GraphCypherQAChain chain...\u001b[0m\n",
      "Generated Cypher:\n",
      "\u001b[32;1m\u001b[1;3mcypher\n",
      "MATCH (m:Manager)-[:LOCATED_AT]->(a:Address)\n",
      "WHERE a.city = 'San Francisco'\n",
      "RETURN m.managerName\n",
      "\u001b[0m\n",
      "Full Context:\n",
      "\u001b[32;1m\u001b[1;3m[{'m.managerName': 'PARNASSUS INVESTMENTS, LLC'}, {'m.managerName': 'SKBA CAPITAL MANAGEMENT LLC'}, {'m.managerName': 'ROSENBLUM SILVERMAN SUTTON S F INC /CA'}, {'m.managerName': 'CHARLES SCHWAB INVESTMENT MANAGEMENT INC'}, {'m.managerName': 'WELLS FARGO & COMPANY/MN'}, {'m.managerName': 'Dodge & Cox'}, {'m.managerName': 'Strait & Sound Wealth Management LLC'}, {'m.managerName': 'Sonoma Private Wealth LLC'}, {'m.managerName': 'Fund Management at Engine No. 1 LLC'}, {'m.managerName': 'SELDON CAPITAL LP'}]\u001b[0m\n",
      "\n",
      "\u001b[1m> Finished chain.\u001b[0m\n"
     ]
    },
    {
     "data": {
      "text/plain": [
       "{'query': 'What investment firms are in San Francisco?',\n",
       " 'result': \"I don't know the answer. \\n\"}"
      ]
     },
     "execution_count": 24,
     "metadata": {},
     "output_type": "execute_result"
    }
   ],
   "source": [
    "cypherChain.invoke(\"What investment firms are in San Francisco?\")"
   ]
  },
  {
   "cell_type": "code",
   "execution_count": 25,
   "id": "f7f55251-b82c-4000-b5e8-10bb50aa77d3",
   "metadata": {},
   "outputs": [
    {
     "name": "stdout",
     "output_type": "stream",
     "text": [
      "\n",
      "\n",
      "\u001b[1m> Entering new GraphCypherQAChain chain...\u001b[0m\n",
      "Generated Cypher:\n",
      "\u001b[32;1m\u001b[1;3mcypher\n",
      "MATCH (m:Manager)-[:LOCATED_AT]->(a:Address)\n",
      "WHERE a.city = 'Menlo Park'\n",
      "RETURN m.managerName\n",
      "\u001b[0m\n",
      "Full Context:\n",
      "\u001b[32;1m\u001b[1;3m[{'m.managerName': 'Bordeaux Wealth Advisors LLC'}, {'m.managerName': 'Opes Wealth Management LLC'}, {'m.managerName': 'Solstein Capital, LLC'}, {'m.managerName': 'Stamos Capital Partners, L.P.'}, {'m.managerName': 'TIEMANN INVESTMENT ADVISORS, LLC'}, {'m.managerName': 'SCGE MANAGEMENT, L.P.'}, {'m.managerName': 'Nelson Capital Management, LLC'}, {'m.managerName': 'Jasper Ridge Partners, L.P.'}, {'m.managerName': 'CROSSLINK CAPITAL INC'}]\u001b[0m\n",
      "\n",
      "\u001b[1m> Finished chain.\u001b[0m\n",
      "I don't know the answer.\n"
     ]
    }
   ],
   "source": [
    "prettyCypherChain(\"What investment firms are in Menlo Park?\")"
   ]
  },
  {
   "cell_type": "code",
   "execution_count": 26,
   "id": "3d2b4179-1dba-4b9e-8e33-7eda448ad404",
   "metadata": {},
   "outputs": [
    {
     "name": "stdout",
     "output_type": "stream",
     "text": [
      "\n",
      "\n",
      "\u001b[1m> Entering new GraphCypherQAChain chain...\u001b[0m\n",
      "Generated Cypher:\n",
      "\u001b[32;1m\u001b[1;3mcypher\n",
      "MATCH (c:Company)-[:LOCATED_AT]->(a:Address)\n",
      "WHERE a.city = 'Santa Clara'\n",
      "RETURN c.companyName\n",
      "\u001b[0m\n",
      "Full Context:\n",
      "\u001b[32;1m\u001b[1;3m[{'c.companyName': 'ATLASSIAN CORP PLC'}, {'c.companyName': 'PALO ALTO NETWORKS INC'}, {'c.companyName': 'SEAGATE TECHNOLOGY'}]\u001b[0m\n",
      "\n",
      "\u001b[1m> Finished chain.\u001b[0m\n",
      "ATLASSIAN CORP PLC, PALO ALTO NETWORKS INC, and SEAGATE\n",
      "TECHNOLOGY are in Santa Clara.\n"
     ]
    }
   ],
   "source": [
    "prettyCypherChain(\"What companies are in Santa Clara?\")"
   ]
  },
  {
   "cell_type": "code",
   "execution_count": 27,
   "id": "98ad6864-302a-430c-980b-1845950d9fd3",
   "metadata": {},
   "outputs": [
    {
     "name": "stdout",
     "output_type": "stream",
     "text": [
      "\n",
      "\n",
      "\u001b[1m> Entering new GraphCypherQAChain chain...\u001b[0m\n",
      "Generated Cypher:\n",
      "\u001b[32;1m\u001b[1;3mcypher\n",
      "MATCH (m:Manager)-[:LOCATED_AT]->(a:Address)\n",
      "WHERE a.city = 'Santa Clara'\n",
      "RETURN m.managerName\n",
      "\u001b[0m\n",
      "Full Context:\n",
      "\u001b[32;1m\u001b[1;3m[]\u001b[0m\n",
      "\n",
      "\u001b[1m> Finished chain.\u001b[0m\n",
      "I don't know the answer.\n"
     ]
    }
   ],
   "source": [
    "prettyCypherChain(\"What investment firms are near Santa Clara?\")"
   ]
  },
  {
   "cell_type": "markdown",
   "id": "06531165-ce2b-4fff-b053-4ed5309806e6",
   "metadata": {},
   "source": [
    "### Expand the prompt to teach the LLM new Cypher patterns"
   ]
  },
  {
   "cell_type": "code",
   "execution_count": 28,
   "id": "df734e4f-a38a-40a9-bb23-dbe494846b61",
   "metadata": {},
   "outputs": [],
   "source": [
    "CYPHER_GENERATION_TEMPLATE = \"\"\"Task: Generate a Cypher statement to query a graph database.\n",
    "Instructions:\n",
    "Use only the provided relationship types and properties in the schema.\n",
    "Do not use any other relationship types or properties that are not provided.\n",
    "Schema:\n",
    "{schema}\n",
    "Note: Do not include any explanations or apologies in your responses.\n",
    "Do not respond to any questions that ask for anything other than constructing a Cypher statement.\n",
    "Do not include any text except the generated Cypher statement.\n",
    "Examples: Here are a few examples of generated Cypher statements for particular questions:\n",
    "\n",
    "# What investment firms are in San Francisco?\n",
    "MATCH (mgr:Manager)-[:LOCATED_AT]->(mgrAddress:Address)\n",
    "WHERE mgrAddress.city = 'San Francisco'\n",
    "RETURN mgr.managerName\n",
    "\n",
    "# What investment firms are near Santa Clara?\n",
    "MATCH (address:Address)\n",
    "WHERE address.city = \"Santa Clara\"\n",
    "WITH address\n",
    "MATCH (mgr:Manager)-[:LOCATED_AT]->(managerAddress:Address)\n",
    "WHERE point.distance(address.location, managerAddress.location) < 10000\n",
    "RETURN mgr.managerName, managerAddress\n",
    "\n",
    "The question is:\n",
    "{question}\"\"\"\n"
   ]
  },
  {
   "cell_type": "code",
   "execution_count": 29,
   "id": "e1a97655-bdb6-47cb-8576-525e44f226d5",
   "metadata": {},
   "outputs": [],
   "source": [
    "CYPHER_GENERATION_PROMPT = PromptTemplate(\n",
    "    input_variables=[\"schema\", \"question\"], \n",
    "    template=CYPHER_GENERATION_TEMPLATE\n",
    ")\n",
    "\n",
    "cypherChain = GraphCypherQAChain.from_llm(\n",
    "    LLM,\n",
    "    graph=graph,\n",
    "    verbose=True,\n",
    "    cypher_prompt=CYPHER_GENERATION_PROMPT,\n",
    ")"
   ]
  },
  {
   "cell_type": "code",
   "execution_count": 30,
   "id": "7921e4c8-a273-4583-b20a-a3a79e3ed972",
   "metadata": {},
   "outputs": [
    {
     "name": "stdout",
     "output_type": "stream",
     "text": [
      "\n",
      "\n",
      "\u001b[1m> Entering new GraphCypherQAChain chain...\u001b[0m\n",
      "Generated Cypher:\n",
      "\u001b[32;1m\u001b[1;3mcypher\n",
      "MATCH (address:Address)\n",
      "WHERE address.city = \"Santa Clara\"\n",
      "WITH address\n",
      "MATCH (mgr:Manager)-[:LOCATED_AT]->(managerAddress:Address)\n",
      "WHERE point.distance(address.location, managerAddress.location) < 10000\n",
      "RETURN mgr.managerName\n",
      "\u001b[0m\n",
      "Full Context:\n",
      "\u001b[32;1m\u001b[1;3m[]\u001b[0m\n",
      "\n",
      "\u001b[1m> Finished chain.\u001b[0m\n",
      "I don't know the answer.\n"
     ]
    }
   ],
   "source": [
    "prettyCypherChain(\"What investment firms are near Santa Clara?\")"
   ]
  },
  {
   "cell_type": "markdown",
   "id": "181637b4-e9bb-47d3-b48a-77e87b6ff995",
   "metadata": {},
   "source": [
    "### Expand the query to retrieve information from the Form 10K chunks"
   ]
  },
  {
   "cell_type": "code",
   "execution_count": 31,
   "id": "4260e7f5-7973-40bb-97a4-f8367bc75eab",
   "metadata": {},
   "outputs": [],
   "source": [
    "CYPHER_GENERATION_TEMPLATE = \"\"\"Task: Generate a Cypher statement to query a graph database.\n",
    "Instructions:\n",
    "Use only the provided relationship types and properties in the schema.\n",
    "Do not use any other relationship types or properties that are not provided.\n",
    "Schema:\n",
    "{schema}\n",
    "Note: Do not include any explanations or apologies in your responses.\n",
    "Do not respond to any questions that ask for anything other than constructing a Cypher statement.\n",
    "Do not include any text except the generated Cypher statement.\n",
    "Examples: Here are a few examples of generated Cypher statements for particular questions:\n",
    "\n",
    "# What investment firms are in San Francisco?\n",
    "MATCH (mgr:Manager)-[:LOCATED_AT]->(mgrAddress:Address)\n",
    "WHERE mgrAddress.city = 'San Francisco'\n",
    "RETURN mgr.managerName\n",
    "\n",
    "# What investment firms are near Santa Clara?\n",
    "MATCH (address:Address)\n",
    "WHERE address.city = \"Santa Clara\"\n",
    "WITH address\n",
    "MATCH (mgr:Manager)-[:LOCATED_AT]->(managerAddress:Address)\n",
    "WHERE point.distance(address.location, managerAddress.location) < 10000\n",
    "RETURN mgr.managerName, managerAddress\n",
    "\n",
    "# What does Palo Alto Networks do?\n",
    "CALL db.index.fulltext.queryNodes(\n",
    "    \"fullTextCompanyNames\", \n",
    "    \"Palo Alto Networks\"\n",
    ") YIELD node, score\n",
    "WITH node AS com\n",
    "MATCH (com)-[:FILED]->(f:Form),\n",
    "      (f)-[s:SECTION]->(c:Chunk)\n",
    "WHERE s.f10kItem = \"item1\"\n",
    "RETURN c.text\n",
    "\n",
    "The question is:\n",
    "{question}\"\"\"\n"
   ]
  },
  {
   "cell_type": "code",
   "execution_count": 32,
   "id": "7993bf2a-ac86-4800-aa63-8d6225823585",
   "metadata": {},
   "outputs": [],
   "source": [
    "CYPHER_GENERATION_PROMPT = PromptTemplate(\n",
    "    input_variables=[\"schema\", \"question\"], \n",
    "    template=CYPHER_GENERATION_TEMPLATE\n",
    ")\n",
    "\n",
    "cypherChain = GraphCypherQAChain.from_llm(\n",
    "    LLM,\n",
    "    graph=graph,\n",
    "    verbose=True,\n",
    "    cypher_prompt=CYPHER_GENERATION_PROMPT,\n",
    ")\n"
   ]
  },
  {
   "cell_type": "code",
   "execution_count": 33,
   "id": "67d296a7-7566-4710-9333-7f02a10fcc16",
   "metadata": {},
   "outputs": [
    {
     "name": "stdout",
     "output_type": "stream",
     "text": [
      "\n",
      "\n",
      "\u001b[1m> Entering new GraphCypherQAChain chain...\u001b[0m\n",
      "Generated Cypher:\n",
      "\u001b[32;1m\u001b[1;3mCALL db.index.fulltext.queryNodes(\"fullTextCompanyNames\", \"Palo Alto Networks\") YIELD node, score WITH node AS com MATCH (com)-[:FILED]->(f:Form)-[s:SECTION]->(c:Chunk) WHERE s.f10kItem = \"item1\" RETURN c.text\n",
      "\u001b[0m\n",
      "Full Context:\n",
      "\u001b[32;1m\u001b[1;3m[{'c.text': '>Item 1. Business\\nGeneral\\nPalo Alto Networks, Inc. is a global cybersecurity provider with a vision of a world where each day is safer and more secure than the one before. We were incorporated in 2005 and are headquartered in Santa Clara, California.\\nWe empower enterprises, organizations, service providers, and government entities to protect themselves against today’s most sophisticated cyber threats. Our cybersecurity platforms and services help secure enterprise users, networks, clouds, and endpoints by delivering comprehensive cybersecurity backed by industry-leading artificial intelligence and automation. We are a leading provider of zero trust solutions, starting with next-generation zero trust network access to secure today’s remote hybrid workforces and extending to securing all users, applications, and infrastructure with zero trust principles. Our security solutions are designed to reduce customers’ total cost of ownership by improving operational efficiency and eliminating the need for siloed point products. Our company focuses on delivering value in four fundamental areas:\\nNetwork Security:\\n•\\nOur network security platform, designed to deliver complete zero trust solutions to our customers, includes our hardware and software ML-Powered Next-Generation Firewalls, as well as a cloud-delivered Secure Access Service Edge (“SASE”). Prisma\\n®\\n Access, our Security Services Edge (“SSE”) solution, when combined with Prisma SD-WAN, provides a comprehensive single-vendor SASE offering that is used to secure remote workforces and enable the cloud-delivered branch. We have been recognized as a leader in network firewalls, SSE, and SD-WAN. Our network security platform also includes our cloud-delivered security services, such as Advanced Threat Prevention, Advanced WildFire\\n®\\n, Advanced URL Filtering, DNS Security, IoT/OT Security, GlobalProtect\\n®'}, {'c.text': '>Item 1. Business\\nGeneral\\nPalo Alto Networks, Inc. is a global cybersecurity provider with a vision of a world where each day is safer and more secure than the one before. We were incorporated in 2005 and are headquartered in Santa Clara, California.\\nWe empower enterprises, organizations, service providers, and government entities to protect themselves against today’s most sophisticated cyber threats. Our cybersecurity platforms and services help secure enterprise users, networks, clouds, and endpoints by delivering comprehensive cybersecurity backed by industry-leading artificial intelligence and automation. We are a leading provider of zero trust solutions, starting with next-generation zero trust network access to secure today’s remote hybrid workforces and extending to securing all users, applications, and infrastructure with zero trust principles. Our security solutions are designed to reduce customers’ total cost of ownership by improving operational efficiency and eliminating the need for siloed point products. Our company focuses on delivering value in four fundamental areas:\\nNetwork Security:\\n•\\nOur network security platform, designed to deliver complete zero trust solutions to our customers, includes our hardware and software ML-Powered Next-Generation Firewalls, as well as a cloud-delivered Secure Access Service Edge (“SASE”). Prisma\\n®\\n Access, our Security Services Edge (“SSE”) solution, when combined with Prisma SD-WAN, provides a comprehensive single-vendor SASE offering that is used to secure remote workforces and enable the cloud-delivered branch. We have been recognized as a leader in network firewalls, SSE, and SD-WAN. Our network security platform also includes our cloud-delivered security services, such as Advanced Threat Prevention, Advanced WildFire\\n®\\n, Advanced URL Filtering, DNS Security, IoT/OT Security, GlobalProtect\\n®'}]\u001b[0m\n",
      "\n",
      "\u001b[1m> Finished chain.\u001b[0m\n",
      "Palo Alto Networks is a global cybersecurity provider that\n",
      "empowers enterprises, organizations, service providers, and\n",
      "government entities to protect themselves against today’s\n",
      "most sophisticated cyber threats.\n"
     ]
    }
   ],
   "source": [
    "prettyCypherChain(\"What does Palo Alto Networks do?\")"
   ]
  }
 ],
 "metadata": {
  "kernelspec": {
   "display_name": "Python 3 (ipykernel)",
   "language": "python",
   "name": "python3"
  },
  "language_info": {
   "codemirror_mode": {
    "name": "ipython",
    "version": 3
   },
   "file_extension": ".py",
   "mimetype": "text/x-python",
   "name": "python",
   "nbconvert_exporter": "python",
   "pygments_lexer": "ipython3",
   "version": "3.10.12"
  }
 },
 "nbformat": 4,
 "nbformat_minor": 5
}
