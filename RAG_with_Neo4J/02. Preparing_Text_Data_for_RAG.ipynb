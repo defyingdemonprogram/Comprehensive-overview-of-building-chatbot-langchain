{
 "cells": [
  {
   "cell_type": "markdown",
   "id": "bbedf4e2-1a75-43a9-b960-2e429cf090e2",
   "metadata": {},
   "source": [
    "# Preparing Text Data for RAG\n",
    "\n",
    "For a comprehensive understanding or any upcoming changes in the langchain package, refer to the [Neo4j langchain documentation](https://python.langchain.com/v0.1/docs/integrations/vectorstores/neo4jvector/)."
   ]
  },
  {
   "cell_type": "code",
   "execution_count": 1,
   "id": "9e272d11-cc03-4daa-96f5-19fdcc225693",
   "metadata": {},
   "outputs": [],
   "source": [
    "### required if we wanna use vertex AI. We don't use it here so ignore it\n",
    "# !pip install --upgrade google-cloud-aiplatform"
   ]
  },
  {
   "cell_type": "code",
   "execution_count": 2,
   "id": "8423451a-91d7-42ef-a8b2-7a4a975b1efd",
   "metadata": {},
   "outputs": [],
   "source": [
    "import os\n",
    "from dotenv import load_dotenv\n",
    "\n",
    "from langchain_community.graphs import Neo4jGraph\n",
    "\n",
    "# vector database integration of neo4j\n",
    "from langchain_community.vectorstores import Neo4jVector\n",
    "from langchain_google_genai import GoogleGenerativeAIEmbeddings\n",
    "from langchain_experimental.graph_transformers import LLMGraphTransformer"
   ]
  },
  {
   "cell_type": "code",
   "execution_count": 3,
   "id": "e1bee357-18b2-434f-8be7-555eb3abc8c1",
   "metadata": {},
   "outputs": [],
   "source": [
    "# load from environment\n",
    "load_dotenv()\n",
    "\n",
    "NEO4J_URI = os.getenv(\"NEO4J_URI\")\n",
    "NEO4J_USERNAME = os.getenv(\"NEO4J_USERNAME\")\n",
    "NEO4J_PASSWORD = os.getenv(\"NEO4J_PASSWORD\")\n",
    "NEO4J_DATABASE = os.getenv(\"NEO4J_DATABASE\")\n",
    "GOOGLE_API_KEY = os.getenv(\"GOOGLE_API_KEY\")\n",
    "\n",
    "GOOGLE_EMBEDDING_MODEL = GoogleGenerativeAIEmbeddings(model=\"models/embedding-001\")\n",
    "\n",
    "# LLMGraphTransformer currently only supports OpenAI and mistral model\n",
    "##### see documentation if this feature is updated in lagchain\n",
    "# llm_transformer = LLMGraphTransformer(llm=llm)"
   ]
  },
  {
   "cell_type": "code",
   "execution_count": 4,
   "id": "ad08626a-aff4-404f-8378-07d262e07566",
   "metadata": {},
   "outputs": [],
   "source": [
    "# connect the knowledge graph instance using LangChain\n",
    "graph = Neo4jGraph(\n",
    "    url=NEO4J_URI,\n",
    "    username=NEO4J_USERNAME,\n",
    "    password=NEO4J_PASSWORD,\n",
    "    database=NEO4J_DATABASE\n",
    ")"
   ]
  },
  {
   "cell_type": "markdown",
   "id": "74e58f2b-8cfe-48c8-9980-c9d19a7284ee",
   "metadata": {},
   "source": [
    "## Create sample database\n",
    "\n",
    "\n",
    "```python\n",
    "from langchain_community.graphs import Neo4jGraph\n",
    "\n",
    "graph = Neo4jGraph()\n",
    "\n",
    "# Import movie information and actor\n",
    "# donot have move.tagLine\n",
    "movies_query = \"\"\"\n",
    "LOAD CSV WITH HEADERS FROM \n",
    "'https://raw.githubusercontent.com/tomasonjo/blog-datasets/main/movies/movies_small.csv'\n",
    "AS row\n",
    "MERGE (m:Movie {id:row.movieId})\n",
    "SET m.released = date(row.released),\n",
    "    m.title = row.title,\n",
    "    m.imdbRating = toFloat(row.imdbRating)\n",
    "FOREACH (director in split(row.director, '|') | \n",
    "    MERGE (p:Person {name:trim(director)})\n",
    "    MERGE (p)-[:DIRECTED]->(m))\n",
    "FOREACH (actor in split(row.actors, '|') | \n",
    "    MERGE (p:Person {name:trim(actor)})\n",
    "    MERGE (p)-[:ACTED_IN]->(m))\n",
    "FOREACH (genre in split(row.genres, '|') | \n",
    "    MERGE (g:Genre {name:trim(genre)})\n",
    "    MERGE (m)-[:IN_GENRE]->(g))\n",
    "\"\"\"\n",
    "\n",
    "graph.query(movies_query)\n",
    "```"
   ]
  },
  {
   "cell_type": "code",
   "execution_count": 5,
   "id": "18384152-5d34-4ef7-92b1-520b897c036d",
   "metadata": {},
   "outputs": [
    {
     "data": {
      "text/plain": [
       "[]"
      ]
     },
     "execution_count": 5,
     "metadata": {},
     "output_type": "execute_result"
    }
   ],
   "source": [
    "# open sample database\n",
    "with open(\"data/dummy/movies_cypher.txt\") as fp:\n",
    "    content = fp.read()\n",
    "\n",
    "# create sample database\n",
    "graph.query(content)"
   ]
  },
  {
   "cell_type": "markdown",
   "id": "1c5a49b8-3116-4f2d-bca9-7e08cb215f13",
   "metadata": {},
   "source": [
    "## Create a Vector Index\n",
    "- Create a vector index on `movie_tagline_embeddings` for each movie based on the `taglineEmbedding` property.\n",
    "- Configure the vector length of embeddings according to the embedding model being used. In this example, we use the Sentence Transformer, which produces embeddings with a dimension of 768. However, you may use other services like Google or OpenAI for embeddings. OpenAI embeddings have a dimension of 1536. Refer to the documentation of respective service for online API services.\n",
    "- Use the **cosine similarity** function to retrieve the vector from the query."
   ]
  },
  {
   "cell_type": "code",
   "execution_count": 6,
   "id": "129784df-a50b-428c-862b-4a430b4fd1ac",
   "metadata": {},
   "outputs": [
    {
     "data": {
      "text/plain": [
       "[{'id': 3,\n",
       "  'name': 'movie_tagline_embeddings',\n",
       "  'state': 'ONLINE',\n",
       "  'populationPercent': 100.0,\n",
       "  'type': 'VECTOR',\n",
       "  'entityType': 'NODE',\n",
       "  'labelsOrTypes': ['Movie'],\n",
       "  'properties': ['taglineEmbedding'],\n",
       "  'indexProvider': 'vector-2.0',\n",
       "  'owningConstraint': None,\n",
       "  'lastRead': neo4j.time.DateTime(2024, 8, 22, 14, 43, 50, 212000000, tzinfo=<UTC>),\n",
       "  'readCount': 2}]"
      ]
     },
     "execution_count": 6,
     "metadata": {},
     "output_type": "execute_result"
    }
   ],
   "source": [
    "graph.query(\"\"\"\n",
    "    CREATE VECTOR INDEX movie_tagline_embeddings IF NOT EXISTS\n",
    "    FOR (m:Movie) ON (m.taglineEmbedding)\n",
    "    OPTIONS { indexConfig: {\n",
    "        `vector.dimensions`: 768, // openai embedding :1536,\n",
    "        `vector.similarity_function`: 'cosine'\n",
    "    }}\"\"\"\n",
    ")\n",
    "\n",
    "graph.query(\"\"\"\n",
    "    SHOW VECTOR INDEXES\n",
    "    \"\"\"\n",
    ")"
   ]
  },
  {
   "cell_type": "markdown",
   "id": "69913bb1-fb54-472a-b949-1f70e83c68ec",
   "metadata": {},
   "source": [
    "## Populate the vector index\n",
    "- Calculate vector representation for each movie tagline using GoogleGenerativeAI\n",
    "- Add vector to the `Movie` node as `taglineEmbedding` property\n",
    "- Documentation: [Neo4j](https://neo4j.com/docs/cypher-manual/current/genai-integrations/#ai-providers)\n",
    "- **Note**: `genai.vector.encode` GenAI is supposed to be missing in community edition, but the error message needs changing to reflect that.: [Github Issue](https://github.com/neo4j/docker-neo4j/issues/489)\n",
    "\n",
    "```python\n",
    "from vertexai.language_models import TextEmbeddingModel\n",
    "projectId = \"gen-lang-client-0738820968\"\n",
    "\n",
    "graph.query(\"\"\"\n",
    "    MATCH (movie:Movie) WHERE movie.tagline IS NOT NULL\n",
    "    WITH movie, genai.vector.encode(\n",
    "        movie.tagline,\n",
    "        \"VertexAI\",\n",
    "        {\n",
    "            token: $googleApiKey,\n",
    "            projectId: $project\n",
    "        }) AS vector\n",
    "    CALL db.create.setNodeVectorProperty(movie, \"taglineEmbedding\", vector)\n",
    "    \"\"\",\n",
    "    params={\"googleApiKey\": GOOGLE_API_KEY,\n",
    "           \"project\": projectId}\n",
    ")\n",
    "```"
   ]
  },
  {
   "cell_type": "code",
   "execution_count": 7,
   "id": "5dc3fe8a-7f76-47c5-beec-34611589f634",
   "metadata": {},
   "outputs": [],
   "source": [
    "# same as above but with langchain integration\n",
    "vector_index = Neo4jVector.from_existing_graph(\n",
    "    GOOGLE_EMBEDDING_MODEL,\n",
    "    #langchain supports hybrid search(keyword+vector)\n",
    "    # for keyword search we have to specify the keyword_index_name in param\n",
    "    search_type=\"hybrid\",  \n",
    "    node_label=\"Movie\",\n",
    "    text_node_properties=[\"tagline\"],\n",
    "    embedding_node_property=\"taglineEmbedding\"\n",
    ")"
   ]
  },
  {
   "cell_type": "code",
   "execution_count": 8,
   "id": "b3327881-cd70-4de1-bea3-362878140461",
   "metadata": {},
   "outputs": [
    {
     "name": "stdout",
     "output_type": "stream",
     "text": [
      "m.tagline: <class 'str'>\n",
      "m.taglineEmbedding: <class 'list'>\n"
     ]
    }
   ],
   "source": [
    "result = graph.query(\"\"\"\n",
    "    MATCH (m:Movie) \n",
    "    WHERE m.tagline IS NOT NULL\n",
    "    RETURN m.tagline, m.taglineEmbedding\n",
    "    LIMIT 1\n",
    "    \"\"\"\n",
    ")\n",
    "\n",
    "result_dict = result[0]\n",
    "for key, value in result_dict.items():\n",
    "    print(f\"{key}: {type(value)}\")"
   ]
  },
  {
   "cell_type": "code",
   "execution_count": 9,
   "id": "48807f02-830a-4482-b1f0-6d1c04cd74cb",
   "metadata": {},
   "outputs": [
    {
     "name": "stdout",
     "output_type": "stream",
     "text": [
      "Tagline:  Welcome to the Real World\n",
      "tagLineEmbedding length:  768\n",
      "First five elements of taglineEmbedding vector:  [0.05952933430671692, -0.01058897189795971, -0.04653780534863472, -0.0076306723058223724, 0.06363282352685928, 0.008514228276908398, 0.006364417262375355, -0.00433186674490571, -0.005778653081506491, 0.02067330852150917]\n"
     ]
    }
   ],
   "source": [
    "print(\"Tagline: \", result[0]['m.tagline'])\n",
    "print(\"tagLineEmbedding length: \", len(result[0]['m.taglineEmbedding']))\n",
    "print(\"First five elements of taglineEmbedding vector: \", result[0]['m.taglineEmbedding'][:10])"
   ]
  },
  {
   "cell_type": "markdown",
   "id": "abf9f063-ec71-457b-b476-4254c2694f1d",
   "metadata": {},
   "source": [
    "### Similarity Search\n",
    "- Calculate embedding for question\n",
    "- Identifying matching movies based in similarity of question and `taglineEmbedding` vectors\n",
    "```python\n",
    "kg.query(\"\"\"\n",
    "    WITH genai.vector.encode(\n",
    "        $question, \n",
    "        \"OpenAI\", \n",
    "        {\n",
    "          token: $openAiApiKey,\n",
    "          endpoint: $openAiEndpoint\n",
    "        }) AS question_embedding\n",
    "    CALL db.index.vector.queryNodes(\n",
    "        'movie_tagline_embeddings', \n",
    "        $top_k, \n",
    "        question_embedding\n",
    "        ) YIELD node AS movie, score\n",
    "    RETURN movie.title, movie.tagline, score\n",
    "    \"\"\", \n",
    "    params={\"openAiApiKey\":OPENAI_API_KEY,\n",
    "            \"openAiEndpoint\": OPENAI_ENDPOINT,\n",
    "            \"question\": question,\n",
    "            \"top_k\": 5\n",
    "            })\n",
    "\"\"\"\n"
   ]
  },
  {
   "cell_type": "code",
   "execution_count": 10,
   "id": "e1df2772-daa4-4d0e-b8f4-ebe19baadb68",
   "metadata": {},
   "outputs": [],
   "source": [
    "question = \"What moveis are about Love?\""
   ]
  },
  {
   "cell_type": "code",
   "execution_count": 11,
   "id": "44135023-e8f8-467c-9a13-8c2cba5938f1",
   "metadata": {},
   "outputs": [
    {
     "data": {
      "text/plain": [
       "Document(metadata={'released': 1998, 'title': 'When Harry Met Sally'}, page_content='\\ntagline: Can two friends sleep together and still love each other in the morning?')"
      ]
     },
     "execution_count": 11,
     "metadata": {},
     "output_type": "execute_result"
    }
   ],
   "source": [
    "retrived_data = vector_index.similarity_search(question, k=5)\n",
    "retrived_data[0]"
   ]
  },
  {
   "cell_type": "code",
   "execution_count": 12,
   "id": "847d8cc2-0817-4886-abbb-6bfb8e680c92",
   "metadata": {},
   "outputs": [
    {
     "data": {
      "text/plain": [
       "(Document(metadata={'released': 2000, 'title': 'Cast Away'}, page_content='\\ntagline: At the edge of the world, his journey begins.'),\n",
       " 1.0)"
      ]
     },
     "execution_count": 12,
     "metadata": {},
     "output_type": "execute_result"
    }
   ],
   "source": [
    "# another question\n",
    "question = \"What moveis are about Adventure?\"\n",
    "retrived_data = vector_index.similarity_search_with_relevance_scores(question, k=5)\n",
    "retrived_data[0]"
   ]
  }
 ],
 "metadata": {
  "kernelspec": {
   "display_name": "Python 3 (ipykernel)",
   "language": "python",
   "name": "python3"
  },
  "language_info": {
   "codemirror_mode": {
    "name": "ipython",
    "version": 3
   },
   "file_extension": ".py",
   "mimetype": "text/x-python",
   "name": "python",
   "nbconvert_exporter": "python",
   "pygments_lexer": "ipython3",
   "version": "3.10.12"
  }
 },
 "nbformat": 4,
 "nbformat_minor": 5
}
