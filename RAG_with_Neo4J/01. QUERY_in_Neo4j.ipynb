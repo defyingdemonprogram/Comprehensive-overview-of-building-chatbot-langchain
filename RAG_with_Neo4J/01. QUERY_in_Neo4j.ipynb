{
 "cells": [
  {
   "cell_type": "markdown",
   "id": "ca327c1f-7f4f-4c84-8482-a5ae17777ff9",
   "metadata": {},
   "source": [
    "### Querying Knowledge Graphs with Cypher"
   ]
  },
  {
   "cell_type": "code",
   "execution_count": 1,
   "id": "91f582d6-6bc0-405f-81e5-3e782e9600fd",
   "metadata": {},
   "outputs": [],
   "source": [
    "import os\n",
    "from dotenv import load_dotenv\n",
    "\n",
    "from langchain_community.graphs import Neo4jGraph\n",
    "\n",
    "# for visualizing graph database\n",
    "from yfiles_jupyter_graphs import GraphWidget"
   ]
  },
  {
   "cell_type": "code",
   "execution_count": 2,
   "id": "6f9a1cb9-e775-45f4-89bc-f56de9553661",
   "metadata": {},
   "outputs": [],
   "source": [
    "load_dotenv()\n",
    "\n",
    "NEO4J_URI = os.getenv(\"NEO4J_URI\")\n",
    "NEO4J_USERNAME = os.getenv(\"NEO4J_USERNAME\")\n",
    "NEO4J_PASSWORD = os.getenv(\"NEO4J_PASSWORD\")\n",
    "NEO4J_DATABASE = os.getenv(\"NEO4J_DATABASE\")"
   ]
  },
  {
   "cell_type": "markdown",
   "id": "4f1c6eda-d20b-4872-af1b-147c04e5ce6f",
   "metadata": {},
   "source": [
    "### Initialize a knowledge graph instance using LangChain's Neo4j integration"
   ]
  },
  {
   "cell_type": "code",
   "execution_count": 3,
   "id": "50d1708f-424f-4f8e-b69b-2f1e883fd8cd",
   "metadata": {},
   "outputs": [],
   "source": [
    "graph = Neo4jGraph(\n",
    "    url=NEO4J_URI,\n",
    "    username=NEO4J_USERNAME,\n",
    "    password=NEO4J_PASSWORD,\n",
    "    database=NEO4J_DATABASE\n",
    ")"
   ]
  },
  {
   "cell_type": "markdown",
   "id": "a490fc82-aeba-45cf-9afc-2dfa92069af9",
   "metadata": {},
   "source": [
    "### Create Entries in the Database\n",
    "In this step, we are adding entries to the graph database. We are only creating nodes without establishing any relationships between them. This means the data in the database consists solely of nodes, with no connections between them. The query to create these records can be found in `data/dummy/movies_cypher.txt`."
   ]
  },
  {
   "cell_type": "code",
   "execution_count": 4,
   "id": "8b23df95-df1d-4f50-9691-50d465a9cb28",
   "metadata": {
    "scrolled": true
   },
   "outputs": [
    {
     "data": {
      "text/plain": [
       "[]"
      ]
     },
     "execution_count": 4,
     "metadata": {},
     "output_type": "execute_result"
    }
   ],
   "source": [
    "PATH_TO_CYPHER_FOR_DB_ENTRIES = \"data/dummy/movies_cypher.txt\"\n",
    "# open sample database\n",
    "with open(PATH_TO_CYPHER_FOR_DB_ENTRIES) as fp:\n",
    "    content = fp.read()\n",
    "\n",
    "# create sample database\n",
    "graph.query(content)"
   ]
  },
  {
   "attachments": {},
   "cell_type": "markdown",
   "id": "e50b06aa-ece5-42a9-9f27-5cfdde18e044",
   "metadata": {},
   "source": [
    "### Visualization of database"
   ]
  },
  {
   "cell_type": "code",
   "execution_count": 5,
   "id": "25429e5e-deea-4ec5-a010-14ea84c06515",
   "metadata": {},
   "outputs": [
    {
     "data": {
      "application/vnd.jupyter.widget-view+json": {
       "model_id": "98271335f8d741b19e57019f0bf267ce",
       "version_major": 2,
       "version_minor": 0
      },
      "text/plain": [
       "GraphWidget(layout=Layout(height='800px', width='100%'))"
      ]
     },
     "metadata": {},
     "output_type": "display_data"
    }
   ],
   "source": [
    "# see the plot of graph database after adding data to Neo4j\n",
    "from neo4j import GraphDatabase\n",
    "\n",
    "# directly show the graph resulting from the given Cypher query\n",
    "# default_cypher = \"MATCH (s)-[r:!MENTIONS]->(t) RETURN s,r,t LIMIT 50\"\n",
    "default_cypher = \"MATCH (n) RETURN n LIMIT 50\"\n",
    "\n",
    "def showGraph(cypher: str = default_cypher):\n",
    "    # create a neo4j session to run queries\n",
    "    driver = GraphDatabase.driver(\n",
    "        uri = os.environ[\"NEO4J_URI\"],\n",
    "        auth = (os.environ[\"NEO4J_USERNAME\"],\n",
    "                os.environ[\"NEO4J_PASSWORD\"]))\n",
    "    session = driver.session()\n",
    "    widget = GraphWidget(graph = session.run(cypher).graph())\n",
    "    widget.node_label_mapping = 'id'\n",
    "    #display(widget)\n",
    "    return widget\n",
    "\n",
    "showGraph()"
   ]
  },
  {
   "cell_type": "markdown",
   "id": "2c444def-fda0-44fd-ad66-9dad28bef41e",
   "metadata": {},
   "source": [
    "### Querying the Movie Knowledge Graph\n",
    "- Match all nodes in the graph"
   ]
  },
  {
   "cell_type": "code",
   "execution_count": 6,
   "id": "7f4de6a5-f4c5-4520-9618-c9f3e80c9bbd",
   "metadata": {},
   "outputs": [
    {
     "data": {
      "text/plain": [
       "[{'count(n)': 157}]"
      ]
     },
     "execution_count": 6,
     "metadata": {},
     "output_type": "execute_result"
    }
   ],
   "source": [
    "cypher = \"\"\"\n",
    "    MATCH (n)\n",
    "    RETURN count(n)\n",
    "    \"\"\"\n",
    "result = graph.query(cypher)\n",
    "result"
   ]
  },
  {
   "cell_type": "code",
   "execution_count": 7,
   "id": "92f16492-e003-4eaa-8e33-03d37bcf80b9",
   "metadata": {},
   "outputs": [
    {
     "data": {
      "text/plain": [
       "[{'numberOfNodes': 36}]"
      ]
     },
     "execution_count": 7,
     "metadata": {},
     "output_type": "execute_result"
    }
   ],
   "source": [
    "cypher = \"\"\"\n",
    "    MATCH (n:Movie)\n",
    "    RETURN count(n) AS numberOfNodes\n",
    "    \"\"\"\n",
    "result = graph.query(cypher)\n",
    "result"
   ]
  },
  {
   "cell_type": "code",
   "execution_count": 8,
   "id": "0979c995-6551-4f4a-b132-921edb3d15a3",
   "metadata": {},
   "outputs": [
    {
     "name": "stdout",
     "output_type": "stream",
     "text": [
      "There are 36 nodes in this graph\n"
     ]
    }
   ],
   "source": [
    "print(f\"There are {result[0]['numberOfNodes']} nodes in this graph\")"
   ]
  },
  {
   "cell_type": "markdown",
   "id": "6aaab793-666e-498e-8c25-fa06bc499901",
   "metadata": {},
   "source": [
    "#### Match only `Movie` nodes by specifying the node label"
   ]
  },
  {
   "cell_type": "code",
   "execution_count": 9,
   "id": "79855105-a0ec-4795-9219-605f13ca02bf",
   "metadata": {},
   "outputs": [
    {
     "data": {
      "text/plain": [
       "[{'numberOfMovies': 36}]"
      ]
     },
     "execution_count": 9,
     "metadata": {},
     "output_type": "execute_result"
    }
   ],
   "source": [
    "cypher = \"\"\"\n",
    "    MATCH (n:Movie)\n",
    "    RETURN count(n) AS numberOfMovies\n",
    "    \"\"\"\n",
    "graph.query(cypher)"
   ]
  },
  {
   "cell_type": "markdown",
   "id": "6b2b085b-ad9b-47f9-8626-79eaf9d67827",
   "metadata": {},
   "source": [
    "#### Match only `Person` nodes"
   ]
  },
  {
   "cell_type": "code",
   "execution_count": 10,
   "id": "673b4197-87ce-4f33-aa81-e07723a2e020",
   "metadata": {},
   "outputs": [
    {
     "data": {
      "text/plain": [
       "[{'numberOfPeople': 121}]"
      ]
     },
     "execution_count": 10,
     "metadata": {},
     "output_type": "execute_result"
    }
   ],
   "source": [
    "cypher = \"\"\"\n",
    "    MATCH (people:Person)\n",
    "    RETURN count(people) AS numberOfPeople\n",
    "    \"\"\"\n",
    "graph.query(cypher)"
   ]
  },
  {
   "cell_type": "markdown",
   "id": "c2a34ee0-a829-469f-b187-182befbc9ee7",
   "metadata": {},
   "source": [
    "#### Match a single person by specifying the value of the `name` property on `Person` node"
   ]
  },
  {
   "cell_type": "code",
   "execution_count": 11,
   "id": "d2c7391f-2bb9-417d-9d76-a9ec6137a2a4",
   "metadata": {},
   "outputs": [
    {
     "data": {
      "text/plain": [
       "[{'tom': {'born': 1956, 'name': 'Tom Hanks'}}]"
      ]
     },
     "execution_count": 11,
     "metadata": {},
     "output_type": "execute_result"
    }
   ],
   "source": [
    "cypher = \"\"\"\n",
    "    MATCH (tom:Person {name: \"Tom Hanks\"})\n",
    "    RETURN tom\n",
    "    \"\"\"\n",
    "graph.query(cypher)"
   ]
  },
  {
   "cell_type": "markdown",
   "id": "dbfc24e7-af67-4129-9dd0-eb853e95eb12",
   "metadata": {},
   "source": [
    "#### Match a single person by specifying the value of `name` property on the `Person` node"
   ]
  },
  {
   "cell_type": "code",
   "execution_count": 12,
   "id": "8243861d-7756-41fe-a383-fc430e11838b",
   "metadata": {},
   "outputs": [
    {
     "data": {
      "text/plain": [
       "[{'cloudAtlas.released': 2012}]"
      ]
     },
     "execution_count": 12,
     "metadata": {},
     "output_type": "execute_result"
    }
   ],
   "source": [
    "cypher = \"\"\"\n",
    "    MATCH (cloudAtlas: Movie {title: \"Cloud Atlas\"})\n",
    "    RETURN cloudAtlas.released\n",
    "    \"\"\"\n",
    "graph.query(cypher)"
   ]
  },
  {
   "cell_type": "markdown",
   "id": "669fa529-c0cb-44b3-83ae-7c495b24000d",
   "metadata": {},
   "source": [
    "#### Return two properties"
   ]
  },
  {
   "cell_type": "code",
   "execution_count": 13,
   "id": "edb53cf6-4b43-4d3e-93c0-207f5121b584",
   "metadata": {},
   "outputs": [
    {
     "data": {
      "text/plain": [
       "[{'cloudAtlas.released': 2012,\n",
       "  'cloudAtlas.tagline': 'Everything is connected'}]"
      ]
     },
     "execution_count": 13,
     "metadata": {},
     "output_type": "execute_result"
    }
   ],
   "source": [
    "cypher = \"\"\"\n",
    "    MATCH (cloudAtlas:Movie {title: \"Cloud Atlas\"})\n",
    "    RETURN cloudAtlas.released, cloudAtlas.tagline\n",
    "    \"\"\"\n",
    "graph.query(cypher)"
   ]
  },
  {
   "cell_type": "markdown",
   "id": "9ec00741-5589-47f3-8b9c-93740105f8dd",
   "metadata": {},
   "source": [
    "### Cypher patterns with conditional matching"
   ]
  },
  {
   "cell_type": "code",
   "execution_count": 14,
   "id": "53975c2d-74af-41f6-8d47-256ee501a9cb",
   "metadata": {},
   "outputs": [
    {
     "data": {
      "text/plain": [
       "[{'nineties.title': 'The Matrix'},\n",
       " {'nineties.title': \"The Devil's Advocate\"},\n",
       " {'nineties.title': 'A Few Good Men'},\n",
       " {'nineties.title': 'As Good as It Gets'},\n",
       " {'nineties.title': 'What Dreams May Come'},\n",
       " {'nineties.title': 'Snow Falling on Cedars'},\n",
       " {'nineties.title': \"You've Got Mail\"},\n",
       " {'nineties.title': 'Joe Versus the Volcano'},\n",
       " {'nineties.title': 'When Harry Met Sally'},\n",
       " {'nineties.title': 'That Thing You Do'},\n",
       " {'nineties.title': 'The Birdcage'},\n",
       " {'nineties.title': 'Unforgiven'},\n",
       " {'nineties.title': 'Johnny Mnemonic'},\n",
       " {'nineties.title': 'Apollo 13'},\n",
       " {'nineties.title': 'Twister'},\n",
       " {'nineties.title': 'Bicentennial Man'},\n",
       " {'nineties.title': 'A League of Their Own'},\n",
       " {'nineties.title': 'The Green Mile'}]"
      ]
     },
     "execution_count": 14,
     "metadata": {},
     "output_type": "execute_result"
    }
   ],
   "source": [
    "# get the movie which is released between 1900 and 2000\n",
    "# AND return movie title\n",
    "cypher = \"\"\"\n",
    "    MATCH (nineties: Movie)\n",
    "    WHERE nineties.released >= 1990\n",
    "        AND nineties.released < 2000\n",
    "    RETURN nineties.title\n",
    "    \"\"\"\n",
    "graph.query(cypher)"
   ]
  },
  {
   "cell_type": "markdown",
   "id": "d80a6b41-8730-44c6-ba8d-266cbbbedc59",
   "metadata": {},
   "source": [
    "#### Pattern matching with multiple nodes"
   ]
  },
  {
   "cell_type": "code",
   "execution_count": 15,
   "id": "357f06b3-1e7e-473b-a6b2-5734e040b6a9",
   "metadata": {},
   "outputs": [
    {
     "data": {
      "text/plain": [
       "[]"
      ]
     },
     "execution_count": 15,
     "metadata": {},
     "output_type": "execute_result"
    }
   ],
   "source": [
    "# get the person who are acted in movie and return that person name and movie title he work with\n",
    "# return only 10 records\n",
    "cypher = \"\"\"\n",
    "    MATCH (actor:Person)-[:ACTED_IN]->(movie:Movie)\n",
    "    RETURN actor.name, movie.title LIMIT 10\n",
    "    \"\"\"\n",
    "graph.query(cypher)"
   ]
  },
  {
   "cell_type": "code",
   "execution_count": 16,
   "id": "67e9bf91-afc4-4234-8916-9a26a27bcb8d",
   "metadata": {},
   "outputs": [
    {
     "data": {
      "text/plain": [
       "[]"
      ]
     },
     "execution_count": 16,
     "metadata": {},
     "output_type": "execute_result"
    }
   ],
   "source": [
    "# return the all movie acted by \"Tom Hanks\"\n",
    "cypher = \"\"\"\n",
    "    MATCH (tom:Person {name: \"Tom Hanks\"})-[:ACTED_IN]->(tomHanksMovies:Movie)\n",
    "    RETURN tom.name, tomHanksMovies.title\n",
    "    \"\"\"\n",
    "graph.query(cypher)"
   ]
  },
  {
   "cell_type": "code",
   "execution_count": 17,
   "id": "d2dd9fcf-5de4-457d-b87d-c4eb0bd53648",
   "metadata": {},
   "outputs": [
    {
     "data": {
      "text/plain": [
       "[]"
      ]
     },
     "execution_count": 17,
     "metadata": {},
     "output_type": "execute_result"
    }
   ],
   "source": [
    "# get name of co-actor who acted in same movie as \"Tom Hanks\"\n",
    "cypher = \"\"\"\n",
    "    MATCH (tom:Person {name: \"Tom Hanks\"})-[:ACTED_IN]->(m)<-[:ACTED_IN]-(coActors)\n",
    "    RETURN coActors.name, m.title\n",
    "    \"\"\"\n",
    "graph.query(cypher)"
   ]
  },
  {
   "cell_type": "markdown",
   "id": "a0529825-50f5-4912-b15a-de2475c9816f",
   "metadata": {},
   "source": [
    "#### Delete data from Graph"
   ]
  },
  {
   "cell_type": "code",
   "execution_count": 18,
   "id": "9a8990ab-91ad-4b45-8941-e65da11e7dba",
   "metadata": {},
   "outputs": [
    {
     "data": {
      "text/plain": [
       "[]"
      ]
     },
     "execution_count": 18,
     "metadata": {},
     "output_type": "execute_result"
    }
   ],
   "source": [
    "cypher = \"\"\"\n",
    "    MATCH (emil:Person {name:\"Emil Eifrem\"})-[actedIn:ACTED_IN]->(movie:Movie)\n",
    "    RETURN emil.name, movie.title\n",
    "    \"\"\"\n",
    "graph.query(cypher)"
   ]
  },
  {
   "cell_type": "code",
   "execution_count": 19,
   "id": "5aa0c032-b66a-40b8-a015-32a3264b7efd",
   "metadata": {},
   "outputs": [
    {
     "data": {
      "text/plain": [
       "[]"
      ]
     },
     "execution_count": 19,
     "metadata": {},
     "output_type": "execute_result"
    }
   ],
   "source": [
    "# delete record from the Graph\n",
    "cypher = \"\"\"\n",
    "    MATCH (emil:Person {name: \"Emil Eifrem\"})-[actedIn:ACTED_IN]->(movie:Movie)\n",
    "    DELETE actedIn\n",
    "    \"\"\"\n",
    "graph.query(cypher)"
   ]
  },
  {
   "cell_type": "markdown",
   "id": "a3e91bca-03d7-4ae3-bfe3-a7961e133f84",
   "metadata": {},
   "source": [
    "#### Adding data to the Graph"
   ]
  },
  {
   "cell_type": "code",
   "execution_count": 20,
   "id": "cdaacdfe-4b06-4246-9665-daca63060615",
   "metadata": {},
   "outputs": [
    {
     "data": {
      "text/plain": [
       "[{'andreas': {'name': 'Andres'}}]"
      ]
     },
     "execution_count": 20,
     "metadata": {},
     "output_type": "execute_result"
    }
   ],
   "source": [
    "cypher = \"\"\"\n",
    "    CREATE (andreas:Person {name:\"Andres\"})\n",
    "    RETURN andreas\n",
    "    \"\"\"\n",
    "\n",
    "graph.query(cypher)"
   ]
  },
  {
   "cell_type": "code",
   "execution_count": 21,
   "id": "264b2239-435b-439e-a650-373de05b7c76",
   "metadata": {},
   "outputs": [
    {
     "data": {
      "text/plain": [
       "[{'andreas': {'name': 'Andres'},\n",
       "  'hasRelationship': ({'name': 'Andres'},\n",
       "   'WORKS_WITH',\n",
       "   {'born': 1978, 'name': 'Emil Eifrem'}),\n",
       "  'emil': {'born': 1978, 'name': 'Emil Eifrem'}}]"
      ]
     },
     "execution_count": 21,
     "metadata": {},
     "output_type": "execute_result"
    }
   ],
   "source": [
    "cypher = \"\"\"\n",
    "    MATCH (andreas:Person {name: \"Andres\"}), (emil:Person {name: \"Emil Eifrem\"})\n",
    "    MERGE (andreas)-[hasRelationship:WORKS_WITH]->(emil)\n",
    "    RETURN andreas, hasRelationship, emil\n",
    "    \"\"\"\n",
    "graph.query(cypher)"
   ]
  },
  {
   "attachments": {
    "c172ca89-6da0-4275-a975-af0a77996e79.png": {
     "image/png": "[encoded data removed]"
    }
   },
   "cell_type": "markdown",
   "id": "4e9362a5-554d-4961-a3fe-59ee9892fdad",
   "metadata": {},
   "source": [
    "### Relation Visualization\n",
    "The visualization of relationship in database in neo4j is:\n",
    "\n",
    "![image.png](attachment:c172ca89-6da0-4275-a975-af0a77996e79.png)"
   ]
  }
 ],
 "metadata": {
  "kernelspec": {
   "display_name": "Python 3 (ipykernel)",
   "language": "python",
   "name": "python3"
  },
  "language_info": {
   "codemirror_mode": {
    "name": "ipython",
    "version": 3
   },
   "file_extension": ".py",
   "mimetype": "text/x-python",
   "name": "python",
   "nbconvert_exporter": "python",
   "pygments_lexer": "ipython3",
   "version": "3.10.12"
  }
 },
 "nbformat": 4,
 "nbformat_minor": 5
}
